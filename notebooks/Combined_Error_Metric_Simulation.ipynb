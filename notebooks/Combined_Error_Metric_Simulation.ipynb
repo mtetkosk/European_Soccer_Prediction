{
 "cells": [
  {
   "cell_type": "code",
   "execution_count": 30,
   "metadata": {
    "collapsed": true
   },
   "outputs": [],
   "source": [
    "def ComputeErrorMetric(y_true,y_pred):\n",
    "    \n",
    "    df = pd.DataFrame({'y_true':y_true, 'y_pred':y_pred})\n",
    "    # home_wins\n",
    "    hw_fp = ((df.y_true != 1) & (df.y_pred == 1))\n",
    "    hw_tp = ((df.y_true == 1) & (df.y_pred == 1))\n",
    "    hw_fn = ((df.y_true == 1) & (df.y_pred != 1))\n",
    "    hw_tn = ((df.y_true != 1) & (df.y_pred != 1))\n",
    "    # away_win\n",
    "    aw_fp = ((df.y_true != -1) & (df.y_pred == -1))\n",
    "    aw_tp = ((df.y_true == -1) & (df.y_pred == -1))\n",
    "    aw_fn = ((df.y_true == -1) & (df.y_pred != -1))\n",
    "    aw_tn = ((df.y_true != -1) & (df.y_pred != -1))\n",
    "    #  draw\n",
    "    dd_fp = ((df.y_true != 0) & (df.y_pred == 0))\n",
    "    dd_tp = ((df.y_true == 0) & (df.y_pred == 0))\n",
    "    dd_fn = ((df.y_true == 0) & (df.y_pred != 0))\n",
    "    dd_tn = ((df.y_true != 0) & (df.y_pred != 0))\n",
    "\n",
    "    true_positive = sum(hw_tp + aw_tp + dd_tp)\n",
    "    false_positive = sum(hw_fp + aw_fp + dd_fp) \n",
    "    true_negative = sum(hw_tn + aw_tn + dd_tn)\n",
    "    false_negative = sum(hw_fn + aw_fn + dd_fn)\n",
    "\n",
    "    combined_error_metric = 11.0/13.0*false_positive/(false_positive+true_negative)+2.0/18.0*false_negative/(false_negative+true_positive)\n",
    "    \n",
    "    #precision = true_positive / (true_positive + false_positive)\n",
    "    #recall = true_positive / (true_positive + false_negative)\n",
    "    \n",
    "    return round(combined_error_metric,2)"
   ]
  },
  {
   "cell_type": "code",
   "execution_count": 31,
   "metadata": {
    "collapsed": true
   },
   "outputs": [],
   "source": [
    "import pandas as pd"
   ]
  },
  {
   "cell_type": "code",
   "execution_count": 25,
   "metadata": {
    "collapsed": true
   },
   "outputs": [],
   "source": [
    "true = [1,1,1,1,1,1,0,0,0,0,0,0,-1,-1,-1,-1,-1,-1,1,1,1,0,0,0,-1,-1,-1]\n",
    "pred = [1,0,1,-1,0,1,0,0,1,-1,0,1,-1,0,1,-1,0,-1,1,0,-1,1,0,-1,-1,0,-1]"
   ]
  },
  {
   "cell_type": "code",
   "execution_count": 26,
   "metadata": {
    "collapsed": false
   },
   "outputs": [
    {
     "name": "stdout",
     "output_type": "stream",
     "text": [
      "0.38\n"
     ]
    }
   ],
   "source": [
    "cem = ComputeErrorMetric(true,pred)\n",
    "\n",
    "print round(cem,2)"
   ]
  },
  {
   "cell_type": "code",
   "execution_count": 33,
   "metadata": {
    "collapsed": false
   },
   "outputs": [
    {
     "name": "stdout",
     "output_type": "stream",
     "text": [
      "0.41\n"
     ]
    }
   ],
   "source": [
    "true = []\n",
    "pred = []\n",
    "for i in range(5000):\n",
    "    true.append(random.randint(-1,1))\n",
    "    pred.append(random.randint(-1,1))\n",
    "\n",
    "cem = ComputeErrorMetric(true,pred)\n",
    "\n",
    "print round(cem,2)"
   ]
  },
  {
   "cell_type": "code",
   "execution_count": 20,
   "metadata": {
    "collapsed": false
   },
   "outputs": [
    {
     "data": {
      "text/plain": [
       "0"
      ]
     },
     "execution_count": 20,
     "metadata": {},
     "output_type": "execute_result"
    }
   ],
   "source": [
    "random.randint(-1,1)"
   ]
  },
  {
   "cell_type": "code",
   "execution_count": null,
   "metadata": {
    "collapsed": true
   },
   "outputs": [],
   "source": []
  }
 ],
 "metadata": {
  "kernelspec": {
   "display_name": "Python [conda root]",
   "language": "python",
   "name": "conda-root-py"
  },
  "language_info": {
   "codemirror_mode": {
    "name": "ipython",
    "version": 2
   },
   "file_extension": ".py",
   "mimetype": "text/x-python",
   "name": "python",
   "nbconvert_exporter": "python",
   "pygments_lexer": "ipython2",
   "version": "2.7.12"
  }
 },
 "nbformat": 4,
 "nbformat_minor": 1
}
