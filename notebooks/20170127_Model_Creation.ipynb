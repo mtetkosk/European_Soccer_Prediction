{
 "cells": [
  {
   "cell_type": "markdown",
   "metadata": {},
   "source": [
    "## Model Selection Notebook\n",
    "\n",
    "This notebook will perform model selection on a random forest ensemble to predict 3 way classification\n",
    "\n",
    "- Home Win\n",
    "- Away Win\n",
    "- Draw"
   ]
  },
  {
   "cell_type": "code",
   "execution_count": 54,
   "metadata": {
    "collapsed": false
   },
   "outputs": [],
   "source": [
    "import pandas as pd\n",
    "import numpy as np\n",
    "from sklearn.ensemble import RandomForestClassifier\n",
    "from sklearn import cross_validation\n",
    "from sklearn.cross_validation import train_test_split\n",
    "from sklearn.grid_search import GridSearchCV\n",
    "from sklearn.metrics import accuracy_score\n",
    "from sklearn.metrics import precision_score\n",
    "from sklearn.metrics import recall_score\n",
    "import random\n",
    "from matplotlib import pyplot as plt\n",
    "%matplotlib inline\n",
    "from scipy.stats import sem\n",
    "\n",
    "numFolds = 10"
   ]
  },
  {
   "cell_type": "code",
   "execution_count": 55,
   "metadata": {
    "collapsed": false
   },
   "outputs": [],
   "source": [
    "# Load data\n",
    "data = pd.read_csv('/Users/mtetkosk/Google Drive/Data Science Projects/data/processed/20170127_Matches_w_Features.csv')"
   ]
  },
  {
   "cell_type": "code",
   "execution_count": 56,
   "metadata": {
    "collapsed": false
   },
   "outputs": [
    {
     "name": "stdout",
     "output_type": "stream",
     "text": [
      "2280\n",
      "(2280, 151)\n"
     ]
    }
   ],
   "source": [
    "print len(data)\n",
    "print data.shape"
   ]
  },
  {
   "cell_type": "code",
   "execution_count": 57,
   "metadata": {
    "collapsed": false
   },
   "outputs": [],
   "source": [
    "home_goals = data['home_team_goal']\n",
    "away_goals = data['away_team_goal']"
   ]
  },
  {
   "cell_type": "code",
   "execution_count": 58,
   "metadata": {
    "collapsed": true
   },
   "outputs": [],
   "source": [
    "del data['home_team_goal']\n",
    "del data['away_team_goal']"
   ]
  },
  {
   "cell_type": "code",
   "execution_count": 59,
   "metadata": {
    "collapsed": false
   },
   "outputs": [
    {
     "name": "stdout",
     "output_type": "stream",
     "text": [
      "(2280, 149)\n"
     ]
    }
   ],
   "source": [
    "print data.shape"
   ]
  },
  {
   "cell_type": "markdown",
   "metadata": {},
   "source": [
    "## Find Best Features"
   ]
  },
  {
   "cell_type": "code",
   "execution_count": 60,
   "metadata": {
    "collapsed": false
   },
   "outputs": [
    {
     "name": "stdout",
     "output_type": "stream",
     "text": [
      "Feature ranking:\n",
      "1. feature 18 (0.048078)\n",
      "2. feature 15 (0.047238)\n",
      "3. feature 0 (0.047051)\n",
      "4. feature 6 (0.046087)\n",
      "5. feature 19 (0.046065)\n",
      "6. feature 12 (0.043660)\n",
      "7. feature 3 (0.043401)\n",
      "8. feature 14 (0.042038)\n",
      "9. feature 8 (0.040341)\n",
      "10. feature 9 (0.039713)\n",
      "11. feature 17 (0.039072)\n",
      "12. feature 5 (0.035346)\n",
      "13. feature 2 (0.035074)\n",
      "14. feature 11 (0.033742)\n",
      "15. feature 20 (0.023079)\n",
      "16. feature 16 (0.021339)\n",
      "17. feature 1 (0.016458)\n",
      "18. feature 10 (0.016306)\n",
      "19. feature 7 (0.016076)\n",
      "20. feature 13 (0.015153)\n",
      "21. feature 4 (0.014078)\n",
      "22. feature 56 (0.009920)\n",
      "23. feature 44 (0.009650)\n",
      "24. feature 47 (0.009542)\n",
      "25. feature 55 (0.008835)\n",
      "26. feature 52 (0.008681)\n",
      "27. feature 32 (0.008666)\n",
      "28. feature 57 (0.008343)\n",
      "29. feature 54 (0.008337)\n",
      "30. feature 58 (0.008157)\n",
      "31. feature 45 (0.007911)\n",
      "32. feature 53 (0.007896)\n",
      "33. feature 48 (0.007785)\n",
      "34. feature 34 (0.007705)\n",
      "35. feature 28 (0.007430)\n",
      "36. feature 59 (0.007406)\n",
      "37. feature 30 (0.007250)\n",
      "38. feature 51 (0.007249)\n",
      "39. feature 33 (0.007163)\n",
      "40. feature 22 (0.006865)\n",
      "41. feature 49 (0.006731)\n",
      "42. feature 31 (0.006624)\n",
      "43. feature 36 (0.006177)\n",
      "44. feature 35 (0.006096)\n",
      "45. feature 50 (0.005986)\n",
      "46. feature 24 (0.005864)\n",
      "47. feature 46 (0.005809)\n",
      "48. feature 26 (0.005681)\n",
      "49. feature 29 (0.005658)\n",
      "50. feature 21 (0.005509)\n",
      "51. feature 25 (0.005167)\n",
      "52. feature 23 (0.005143)\n",
      "53. feature 27 (0.004208)\n",
      "54. feature 138 (0.002404)\n",
      "55. feature 139 (0.002258)\n",
      "56. feature 61 (0.001827)\n",
      "57. feature 60 (0.001798)\n",
      "58. feature 42 (0.001770)\n",
      "59. feature 67 (0.001737)\n",
      "60. feature 72 (0.001624)\n",
      "61. feature 130 (0.001530)\n",
      "62. feature 146 (0.001486)\n",
      "63. feature 65 (0.001439)\n",
      "64. feature 86 (0.001323)\n",
      "65. feature 87 (0.001233)\n",
      "66. feature 71 (0.001152)\n",
      "67. feature 69 (0.001097)\n",
      "68. feature 145 (0.001085)\n",
      "69. feature 111 (0.001070)\n",
      "70. feature 96 (0.001045)\n",
      "71. feature 43 (0.001026)\n",
      "72. feature 113 (0.001015)\n",
      "73. feature 126 (0.000947)\n",
      "74. feature 85 (0.000933)\n",
      "75. feature 117 (0.000917)\n",
      "76. feature 39 (0.000882)\n",
      "77. feature 98 (0.000854)\n",
      "78. feature 141 (0.000843)\n",
      "79. feature 75 (0.000837)\n",
      "80. feature 131 (0.000834)\n",
      "81. feature 112 (0.000801)\n",
      "82. feature 144 (0.000800)\n",
      "83. feature 38 (0.000761)\n",
      "84. feature 62 (0.000719)\n",
      "85. feature 80 (0.000707)\n",
      "86. feature 100 (0.000692)\n",
      "87. feature 135 (0.000681)\n",
      "88. feature 143 (0.000669)\n",
      "89. feature 119 (0.000654)\n",
      "90. feature 66 (0.000647)\n",
      "91. feature 93 (0.000632)\n",
      "92. feature 134 (0.000623)\n",
      "93. feature 70 (0.000601)\n",
      "94. feature 142 (0.000600)\n",
      "95. feature 81 (0.000574)\n",
      "96. feature 101 (0.000560)\n",
      "97. feature 64 (0.000560)\n",
      "98. feature 68 (0.000543)\n",
      "99. feature 88 (0.000543)\n",
      "100. feature 37 (0.000542)\n",
      "101. feature 125 (0.000518)\n",
      "102. feature 109 (0.000516)\n",
      "103. feature 73 (0.000495)\n",
      "104. feature 120 (0.000494)\n",
      "105. feature 83 (0.000491)\n",
      "106. feature 136 (0.000489)\n",
      "107. feature 118 (0.000489)\n",
      "108. feature 77 (0.000482)\n",
      "109. feature 123 (0.000464)\n",
      "110. feature 94 (0.000462)\n",
      "111. feature 40 (0.000446)\n",
      "112. feature 103 (0.000399)\n",
      "113. feature 137 (0.000396)\n",
      "114. feature 92 (0.000380)\n",
      "115. feature 116 (0.000377)\n",
      "116. feature 89 (0.000363)\n",
      "117. feature 63 (0.000363)\n",
      "118. feature 128 (0.000355)\n",
      "119. feature 133 (0.000340)\n",
      "120. feature 95 (0.000328)\n",
      "121. feature 105 (0.000315)\n",
      "122. feature 115 (0.000310)\n",
      "123. feature 121 (0.000301)\n",
      "124. feature 114 (0.000290)\n",
      "125. feature 41 (0.000267)\n",
      "126. feature 104 (0.000265)\n",
      "127. feature 132 (0.000254)\n",
      "128. feature 79 (0.000247)\n",
      "129. feature 99 (0.000231)\n",
      "130. feature 74 (0.000205)\n",
      "131. feature 129 (0.000204)\n",
      "132. feature 107 (0.000202)\n",
      "133. feature 127 (0.000200)\n",
      "134. feature 102 (0.000193)\n",
      "135. feature 106 (0.000187)\n",
      "136. feature 78 (0.000152)\n",
      "137. feature 84 (0.000145)\n",
      "138. feature 108 (0.000131)\n",
      "139. feature 91 (0.000128)\n",
      "140. feature 82 (0.000103)\n",
      "141. feature 122 (0.000101)\n",
      "142. feature 76 (0.000089)\n",
      "143. feature 124 (0.000071)\n",
      "144. feature 90 (0.000040)\n",
      "145. feature 110 (0.000000)\n",
      "146. feature 97 (0.000000)\n",
      "147. feature 140 (0.000000)\n",
      "148. feature 147 (0.000000)\n"
     ]
    },
    {
     "ename": "TypeError",
     "evalue": "range() integer end argument expected, got str.",
     "output_type": "error",
     "traceback": [
      "\u001b[0;31m---------------------------------------------------------------------------\u001b[0m",
      "\u001b[0;31mTypeError\u001b[0m                                 Traceback (most recent call last)",
      "\u001b[0;32m<ipython-input-60-ec243b3a3782>\u001b[0m in \u001b[0;36m<module>\u001b[0;34m()\u001b[0m\n\u001b[1;32m     23\u001b[0m plt.bar(range(features.shape[1]), importances[indices],\n\u001b[1;32m     24\u001b[0m        color=\"r\", yerr=std[indices], align=\"center\")\n\u001b[0;32m---> 25\u001b[0;31m \u001b[0mplt\u001b[0m\u001b[0;34m.\u001b[0m\u001b[0mxticks\u001b[0m\u001b[0;34m(\u001b[0m\u001b[0mrange\u001b[0m\u001b[0;34m(\u001b[0m\u001b[0mfeatures\u001b[0m\u001b[0;34m.\u001b[0m\u001b[0mcolumns\u001b[0m\u001b[0;34m[\u001b[0m\u001b[0;36m1\u001b[0m\u001b[0;34m]\u001b[0m\u001b[0;34m)\u001b[0m\u001b[0;34m,\u001b[0m \u001b[0mindices\u001b[0m\u001b[0;34m)\u001b[0m\u001b[0;34m\u001b[0m\u001b[0m\n\u001b[0m\u001b[1;32m     26\u001b[0m \u001b[0mplt\u001b[0m\u001b[0;34m.\u001b[0m\u001b[0mxlim\u001b[0m\u001b[0;34m(\u001b[0m\u001b[0;34m[\u001b[0m\u001b[0;34m-\u001b[0m\u001b[0;36m1\u001b[0m\u001b[0;34m,\u001b[0m \u001b[0mfeatures\u001b[0m\u001b[0;34m.\u001b[0m\u001b[0mshape\u001b[0m\u001b[0;34m[\u001b[0m\u001b[0;36m1\u001b[0m\u001b[0;34m]\u001b[0m\u001b[0;34m]\u001b[0m\u001b[0;34m)\u001b[0m\u001b[0;34m\u001b[0m\u001b[0m\n\u001b[1;32m     27\u001b[0m \u001b[0mplt\u001b[0m\u001b[0;34m.\u001b[0m\u001b[0mshow\u001b[0m\u001b[0;34m(\u001b[0m\u001b[0;34m)\u001b[0m\u001b[0;34m\u001b[0m\u001b[0m\n",
      "\u001b[0;31mTypeError\u001b[0m: range() integer end argument expected, got str."
     ]
    },
    {
     "data": {
      "image/png": "[encoded data removed]",
      "text/plain": [
       "<matplotlib.figure.Figure at 0x118be75d0>"
      ]
     },
     "metadata": {},
     "output_type": "display_data"
    }
   ],
   "source": [
    "features = data.copy()\n",
    "target = features['Result_Target']\n",
    "del features['Result_Target']\n",
    "\n",
    "features_model = RandomForestClassifier(n_estimators = 500, max_depth = 5, n_jobs = -1)\n",
    "\n",
    "forest = features_model.fit(features,target)\n",
    "\n",
    "importances = forest.feature_importances_\n",
    "std = np.std([tree.feature_importances_ for tree in forest.estimators_],\n",
    "             axis=0)\n",
    "indices = np.argsort(importances)[::-1]\n",
    "\n",
    "# Print the feature ranking\n",
    "print(\"Feature ranking:\")\n",
    "\n",
    "for f in range(features.shape[1]):\n",
    "    print(\"%d. feature %d (%f)\" % (f + 1, indices[f], importances[indices[f]]))\n",
    "\n",
    "# Plot the feature importances of the forest\n",
    "plt.figure()\n",
    "plt.title(\"Feature importances\")\n",
    "plt.bar(range(features.shape[1]), importances[indices],\n",
    "       color=\"r\", yerr=std[indices], align=\"center\")\n",
    "plt.xticks(range(features.columns[1]), indices)\n",
    "plt.xlim([-1, features.shape[1]])\n",
    "plt.show()\n"
   ]
  },
  {
   "cell_type": "code",
   "execution_count": 82,
   "metadata": {
    "collapsed": true
   },
   "outputs": [],
   "source": [
    "## First step is to set up training and holdout set\n",
    "def Assign_Train_Test(df):\n",
    "    num = random.randint(1,numFolds)\n",
    "    return num"
   ]
  },
  {
   "cell_type": "code",
   "execution_count": 83,
   "metadata": {
    "collapsed": false
   },
   "outputs": [],
   "source": [
    "data['Train_Test'] = data.apply(Assign_Train_Test, axis = 1)"
   ]
  },
  {
   "cell_type": "code",
   "execution_count": 84,
   "metadata": {
    "collapsed": false
   },
   "outputs": [
    {
     "name": "stdout",
     "output_type": "stream",
     "text": [
      "Test length 241\n",
      "Train length 2039\n"
     ]
    }
   ],
   "source": [
    "## Chose holdout set as approx 10% of data\n",
    "holdout = data[data['Train_Test']==1]\n",
    "train = data[data['Train_Test']!= 1]\n",
    "\n",
    "# Remove the train_test variable from the dataframes\n",
    "del holdout['Train_Test']\n",
    "del train['Train_Test']\n",
    "\n",
    "print 'Test length ' + str(len(holdout))\n",
    "print 'Train length ' + str(len(train))"
   ]
  },
  {
   "cell_type": "code",
   "execution_count": 85,
   "metadata": {
    "collapsed": true
   },
   "outputs": [],
   "source": [
    "def FitPredict(x_train,y_train,x_test,model):\n",
    "    \n",
    "    fit_model = model.fit(x_train,y_train)\n",
    "    preds = fit_model.predict(x_test)\n",
    "    \n",
    "    return preds\n",
    "\n",
    "def ComputeErrorMetric(y_true,y_pred):\n",
    "    \n",
    "    df = pd.DataFrame({'y_true':y_true, 'y_pred':y_pred})\n",
    "    # home_wins\n",
    "    hw_fp = ((df.y_true != 1) & (df.y_pred == 1))\n",
    "    hw_tp = ((df.y_true == 1) & (df.y_pred == 1))\n",
    "    hw_fn = ((df.y_true == 1) & (df.y_pred != 1))\n",
    "    hw_tn = ((df.y_true != 1) & (df.y_pred != 1))\n",
    "    # away_win\n",
    "    aw_fp = ((df.y_true != -1) & (df.y_pred == -1))\n",
    "    aw_tp = ((df.y_true == -1) & (df.y_pred == -1))\n",
    "    aw_fn = ((df.y_true == -1) & (df.y_pred != -1))\n",
    "    aw_tn = ((df.y_true != -1) & (df.y_pred != -1))\n",
    "    #  draw\n",
    "    dd_fp = ((df.y_true != 0) & (df.y_pred == 0))\n",
    "    dd_tp = ((df.y_true == 0) & (df.y_pred == 0))\n",
    "    dd_fn = ((df.y_true == 0) & (df.y_pred != 0))\n",
    "    dd_tn = ((df.y_true != 0) & (df.y_pred != 0))\n",
    "\n",
    "    true_positive = sum(hw_tp + aw_tp + dd_tp)\n",
    "    false_positive = sum(hw_fp + aw_fp + dd_fp) \n",
    "    true_negative = sum(hw_tn + aw_tn + dd_tn)\n",
    "    false_negative = sum(hw_fn + aw_fn + dd_fn)\n",
    "\n",
    "    combined_error_metric = 11.0/13.0*false_positive/(false_positive+true_negative)+2.0/13.0*false_negative/(false_negative+true_positive)\n",
    "    \n",
    "    #precision = true_positive / (true_positive + false_positive)\n",
    "    #recall = true_positive / (true_positive + false_negative)\n",
    "    \n",
    "    return round(combined_error_metric,2)\n",
    "\n",
    "def FindBParams(params_dict):\n",
    "    b_inner_params = []\n",
    "    \n",
    "    best_score = min(params_dict.values())\n",
    "\n",
    "    for key in params_dict.keys():\n",
    "        if params_dict[key] == best_score:\n",
    "            b_inner_params.append(key)\n",
    "    \n",
    "    vals=b_inner_params[0].split('_')\n",
    "        \n",
    "    depth = vals[0]\n",
    "    n_trees = vals[1]\n",
    "        \n",
    "    return depth,n_trees"
   ]
  },
  {
   "cell_type": "code",
   "execution_count": 86,
   "metadata": {
    "collapsed": false
   },
   "outputs": [
    {
     "name": "stderr",
     "output_type": "stream",
     "text": [
      "/Users/mtetkosk/anaconda/lib/python2.7/site-packages/ipykernel/__main__.py:3: SettingWithCopyWarning: \n",
      "A value is trying to be set on a copy of a slice from a DataFrame.\n",
      "Try using .loc[row_indexer,col_indexer] = value instead\n",
      "\n",
      "See the caveats in the documentation: http://pandas.pydata.org/pandas-docs/stable/indexing.html#indexing-view-versus-copy\n",
      "  app.launch_new_instance()\n"
     ]
    },
    {
     "data": {
      "text/plain": [
       "4     226\n",
       "2     218\n",
       "9     216\n",
       "7     211\n",
       "5     206\n",
       "10    203\n",
       "1     201\n",
       "8     187\n",
       "6     186\n",
       "3     185\n",
       "Name: Fold, dtype: int64"
      ]
     },
     "execution_count": 86,
     "metadata": {},
     "output_type": "execute_result"
    }
   ],
   "source": [
    "## Use Assign_Train_Test to assign cross-validation folds\n",
    "\n",
    "train['Fold'] = train.apply(Assign_Train_Test,axis = 1)\n",
    "\n",
    "train['Fold'].value_counts()   #All folds are approximately equal size"
   ]
  },
  {
   "cell_type": "code",
   "execution_count": 88,
   "metadata": {
    "collapsed": false
   },
   "outputs": [
    {
     "name": "stdout",
     "output_type": "stream",
     "text": [
      "Fold 1 Error Metric: 0.33\n",
      "Best Params- Depth= 4 Number of Trees= 1000\n",
      "Fold 2 Error Metric: 0.32\n",
      "Best Params- Depth= 3 Number of Trees= 1000\n",
      "Fold 3 Error Metric: 0.34\n",
      "Best Params- Depth= 4 Number of Trees= 300\n",
      "Fold 4 Error Metric: 0.34\n",
      "Best Params- Depth= 4 Number of Trees= 1000\n",
      "Fold 5 Error Metric: 0.3\n",
      "Best Params- Depth= 3 Number of Trees= 1000\n",
      "Fold 6 Error Metric: 0.34\n",
      "Best Params- Depth= 3 Number of Trees= 200\n",
      "Fold 7 Error Metric: 0.35\n",
      "Best Params- Depth= 4 Number of Trees= 100\n",
      "Fold 8 Error Metric: 0.38\n",
      "Best Params- Depth= 3 Number of Trees= 500\n",
      "Fold 9 Error Metric: 0.38\n",
      "Best Params- Depth= 3 Number of Trees= 300\n",
      "Fold 10 Error Metric: 0.36\n",
      "Best Params- Depth= 3 Number of Trees= 100\n",
      "****************************************************\n",
      "Average Error Metric= 0.344\n"
     ]
    }
   ],
   "source": [
    "## Set up cross-validation loop\n",
    "\n",
    "cv_accuracy = []\n",
    "cv_precision = []\n",
    "cv_recall = []\n",
    "\n",
    "depth_of_tree = [3,4]\n",
    "num_estimators = [100,200,300,500,1000]\n",
    "\n",
    "outer_param_scores = {}\n",
    "outer_error_metric = []\n",
    "\n",
    "for fold in range(1,numFolds+1):\n",
    "    \n",
    "    # Outer Cross-Validation\n",
    "    \n",
    "    cv_train = train[train['Fold'] != fold]\n",
    "    cv_test = train[train['Fold'] == fold]\n",
    "    \n",
    "    del cv_train['Fold']\n",
    "    del cv_test['Fold']\n",
    "    \n",
    "    y_train = cv_train['Result_Target']\n",
    "    x_train = cv_train.copy()\n",
    "    del x_train['Result_Target']\n",
    "\n",
    "    \n",
    "    y_test = cv_test['Result_Target']\n",
    "    del cv_test['Result_Target']\n",
    "    x_test = cv_test.copy()\n",
    "    \n",
    "    # Set up inner cross-validation\n",
    "    \n",
    "    inner_train = cv_train.copy()\n",
    "    del cv_train['Result_Target']\n",
    "    \n",
    "    inner_train['Inner_Fold'] = inner_train.apply(Assign_Train_Test, axis = 1)\n",
    "    \n",
    "    best_hyper_params = {}\n",
    "    #se = {}\n",
    "    \n",
    "    # Iterate thru hyperparameter search\n",
    "    for depth in depth_of_tree:\n",
    "        for n in num_estimators:\n",
    "            \n",
    "            error_metric = []\n",
    "    \n",
    "            for inner_fold in range(1,numFolds+1):\n",
    "        \n",
    "                inner_cv_train = inner_train[inner_train['Inner_Fold']!= inner_fold]\n",
    "                inner_cv_test = inner_train[inner_train['Inner_Fold']== inner_fold]\n",
    "        \n",
    "                del inner_cv_train['Inner_Fold']\n",
    "                del inner_cv_test['Inner_Fold']\n",
    "        \n",
    "                y_inner_train = inner_cv_train['Result_Target']\n",
    "                del inner_cv_train['Result_Target']\n",
    "                x_inner_train = inner_cv_train.copy()\n",
    "    \n",
    "                y_inner_test = inner_cv_test['Result_Target']\n",
    "                del inner_cv_test['Result_Target']\n",
    "                x_inner_test = inner_cv_test.copy()\n",
    "                \n",
    "                clf = RandomForestClassifier(n_estimators = n, max_depth = depth,n_jobs = -1,random_state = 17)\n",
    "                \n",
    "                preds = FitPredict(x_inner_train,y_inner_train,x_inner_test,clf) \n",
    "    \n",
    "                cem = ComputeErrorMetric(y_inner_test,preds)  # Calculate combined error metric\n",
    "        \n",
    "                error_metric.append(cem)\n",
    "            \n",
    "            avg_error_metric = np.mean(error_metric)\n",
    "            #standard_error = sem(error_metric)\n",
    "            param_names = str(depth) + '_' + str(n) \n",
    "            best_hyper_params[param_names] = (avg_error_metric)  #register inner-cv average\n",
    "            #se[param_names] = standard_error\n",
    "            \n",
    "    depth,n_trees = FindBParams(best_hyper_params)\n",
    "    \n",
    "    clf = RandomForestClassifier(n_estimators = int(n_trees), max_depth = int(depth), n_jobs = -1,random_state = 17)\n",
    "    \n",
    "    preds = FitPredict(x_train,y_train,x_test,clf)\n",
    "    \n",
    "    cem = ComputeErrorMetric(y_test,preds)\n",
    "    \n",
    "    outer_error_metric.append(cem)\n",
    "    \n",
    "    outer_param_names = str(depth) + '_' + str(n_trees)\n",
    "    \n",
    "    print 'Fold ' + str(fold) + ' Error Metric: ' + str(round(cem,2))\n",
    "    print 'Best Params- ' + 'Depth= ' + str(depth) + ' Number of Trees= ' + str(n_trees)\n",
    "    \n",
    "    outer_param_scores[outer_param_names] = cem\n",
    "\n",
    "avg_error_metric_outer = np.mean(outer_error_metric)\n",
    "\n",
    "print '****************************************************'\n",
    "print 'Average Error Metric= ' + str(avg_error_metric_outer)    "
   ]
  },
  {
   "cell_type": "markdown",
   "metadata": {},
   "source": [
    " From the nested cross validation above, the lowest error metric is 0.34.\n",
    "\n",
    "A error metric for a completely random guess is 0.41, so there is some value in the model! (Though not that much..)\n",
    "\n",
    "Now let's fit the best parameters from Fold 9. This happens to be the simplest set of parameters chosen.\n",
    "\n",
    "Number of Trees = 1000, Max Depth = 3."
   ]
  },
  {
   "cell_type": "markdown",
   "metadata": {},
   "source": [
    "## Test on holdout set"
   ]
  },
  {
   "cell_type": "code",
   "execution_count": 91,
   "metadata": {
    "collapsed": false
   },
   "outputs": [
    {
     "name": "stdout",
     "output_type": "stream",
     "text": [
      "Holdout Set Error Metric = 0.35\n",
      "\n"
     ]
    }
   ],
   "source": [
    "## Prepare for test\n",
    "from sklearn.metrics import confusion_matrix\n",
    "from sklearn.metrics import precision_score\n",
    "\n",
    "x_train = train.copy()\n",
    "x_test = holdout.copy()\n",
    "\n",
    "y_train = x_train['Result_Target']\n",
    "del x_train['Result_Target']\n",
    "del x_train['Fold']\n",
    "\n",
    "y_test = x_test['Result_Target']\n",
    "del x_test['Result_Target']\n",
    "\n",
    "clf = RandomForestClassifier(n_estimators =1000,max_depth = 3, n_jobs = -1, random_state = 17)\n",
    "\n",
    "preds = FitPredict(x_train,y_train,x_test,clf)\n",
    "\n",
    "cem = ComputeErrorMetric(y_test,preds)\n",
    "\n",
    "\n",
    "\n",
    "print 'Holdout Set Error Metric = ' + str(round(cem,2))\n",
    "print"
   ]
  },
  {
   "cell_type": "code",
   "execution_count": 92,
   "metadata": {
    "collapsed": false
   },
   "outputs": [
    {
     "data": {
      "text/html": [
       "<div>\n",
       "<table border=\"1\" class=\"dataframe\">\n",
       "  <thead>\n",
       "    <tr style=\"text-align: right;\">\n",
       "      <th>Predicted</th>\n",
       "      <th>-1</th>\n",
       "      <th>1</th>\n",
       "      <th>All</th>\n",
       "    </tr>\n",
       "    <tr>\n",
       "      <th>Actual</th>\n",
       "      <th></th>\n",
       "      <th></th>\n",
       "      <th></th>\n",
       "    </tr>\n",
       "  </thead>\n",
       "  <tbody>\n",
       "    <tr>\n",
       "      <th>-1</th>\n",
       "      <td>34</td>\n",
       "      <td>32</td>\n",
       "      <td>66</td>\n",
       "    </tr>\n",
       "    <tr>\n",
       "      <th>0</th>\n",
       "      <td>19</td>\n",
       "      <td>41</td>\n",
       "      <td>60</td>\n",
       "    </tr>\n",
       "    <tr>\n",
       "      <th>1</th>\n",
       "      <td>24</td>\n",
       "      <td>91</td>\n",
       "      <td>115</td>\n",
       "    </tr>\n",
       "    <tr>\n",
       "      <th>All</th>\n",
       "      <td>77</td>\n",
       "      <td>164</td>\n",
       "      <td>241</td>\n",
       "    </tr>\n",
       "  </tbody>\n",
       "</table>\n",
       "</div>"
      ],
      "text/plain": [
       "Predicted  -1    1  All\n",
       "Actual                 \n",
       "-1         34   32   66\n",
       "0          19   41   60\n",
       "1          24   91  115\n",
       "All        77  164  241"
      ]
     },
     "execution_count": 92,
     "metadata": {},
     "output_type": "execute_result"
    }
   ],
   "source": [
    "df_confusion = pd.crosstab(y_test,preds, rownames=['Actual'], colnames=['Predicted'], margins=True)\n",
    "df_confusion"
   ]
  },
  {
   "cell_type": "markdown",
   "metadata": {},
   "source": [
    "Home Win Precision = 55.5 %\n",
    "\n",
    "Home Win Recall = 79.1 %\n",
    "\n",
    "Away Win Precision = 44.15%\n",
    "\n",
    "Away Win Recall = 51.5%"
   ]
  },
  {
   "cell_type": "markdown",
   "metadata": {},
   "source": [
    "You can see from he"
   ]
  }
 ],
 "metadata": {
  "anaconda-cloud": {},
  "kernelspec": {
   "display_name": "Python [conda root]",
   "language": "python",
   "name": "conda-root-py"
  },
  "language_info": {
   "codemirror_mode": {
    "name": "ipython",
    "version": 2
   },
   "file_extension": ".py",
   "mimetype": "text/x-python",
   "name": "python",
   "nbconvert_exporter": "python",
   "pygments_lexer": "ipython2",
   "version": "2.7.12"
  }
 },
 "nbformat": 4,
 "nbformat_minor": 1
}
