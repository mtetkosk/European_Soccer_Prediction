{
 "cells": [
  {
   "cell_type": "markdown",
   "metadata": {},
   "source": [
    "## Purpose of this script is to create features to be used in model creation "
   ]
  },
  {
   "cell_type": "code",
   "execution_count": 1,
   "metadata": {
    "collapsed": true
   },
   "outputs": [],
   "source": [
    "import pandas as pd\n",
    "import numpy as np\n",
    "from matplotlib import pyplot as plt\n",
    "from sklearn.preprocessing import OneHotEncoder\n",
    "import time\n",
    "import datetime\n",
    "%matplotlib inline"
   ]
  },
  {
   "cell_type": "markdown",
   "metadata": {},
   "source": [
    "Load data from processed dataset"
   ]
  },
  {
   "cell_type": "code",
   "execution_count": 2,
   "metadata": {
    "collapsed": false
   },
   "outputs": [
    {
     "name": "stdout",
     "output_type": "stream",
     "text": [
      "3040\n",
      "(3040, 27)\n"
     ]
    }
   ],
   "source": [
    "matches_raw = pd.read_csv('/Users/mtetkosk/Google Drive/Data Science Projects/data/processed/EPL_Matches_Reduced.csv')\n",
    "\n",
    "matches=matches_raw.copy()\n",
    "print len(matches)\n",
    "print matches.shape"
   ]
  },
  {
   "cell_type": "code",
   "execution_count": 3,
   "metadata": {
    "collapsed": false
   },
   "outputs": [
    {
     "data": {
      "text/html": [
       "<div>\n",
       "<table border=\"1\" class=\"dataframe\">\n",
       "  <thead>\n",
       "    <tr style=\"text-align: right;\">\n",
       "      <th></th>\n",
       "      <th>id</th>\n",
       "      <th>season</th>\n",
       "      <th>stage</th>\n",
       "      <th>date</th>\n",
       "      <th>match_api_id</th>\n",
       "      <th>home_team_api_id</th>\n",
       "      <th>away_team_api_id</th>\n",
       "      <th>home_team_goal</th>\n",
       "      <th>away_team_goal</th>\n",
       "      <th>B365H</th>\n",
       "      <th>...</th>\n",
       "      <th>IWA</th>\n",
       "      <th>LBH</th>\n",
       "      <th>LBD</th>\n",
       "      <th>LBA</th>\n",
       "      <th>WHH</th>\n",
       "      <th>WHD</th>\n",
       "      <th>WHA</th>\n",
       "      <th>VCH</th>\n",
       "      <th>VCD</th>\n",
       "      <th>VCA</th>\n",
       "    </tr>\n",
       "  </thead>\n",
       "  <tbody>\n",
       "    <tr>\n",
       "      <th>0</th>\n",
       "      <td>1729</td>\n",
       "      <td>2008/2009</td>\n",
       "      <td>1</td>\n",
       "      <td>8/17/08 0:00</td>\n",
       "      <td>489042</td>\n",
       "      <td>10260</td>\n",
       "      <td>10261</td>\n",
       "      <td>1</td>\n",
       "      <td>1</td>\n",
       "      <td>1.29</td>\n",
       "      <td>...</td>\n",
       "      <td>8.50</td>\n",
       "      <td>1.25</td>\n",
       "      <td>4.5</td>\n",
       "      <td>10.00</td>\n",
       "      <td>1.25</td>\n",
       "      <td>4.5</td>\n",
       "      <td>10.00</td>\n",
       "      <td>1.28</td>\n",
       "      <td>5.5</td>\n",
       "      <td>12.00</td>\n",
       "    </tr>\n",
       "    <tr>\n",
       "      <th>1</th>\n",
       "      <td>1730</td>\n",
       "      <td>2008/2009</td>\n",
       "      <td>1</td>\n",
       "      <td>8/16/08 0:00</td>\n",
       "      <td>489043</td>\n",
       "      <td>9825</td>\n",
       "      <td>8659</td>\n",
       "      <td>1</td>\n",
       "      <td>0</td>\n",
       "      <td>1.20</td>\n",
       "      <td>...</td>\n",
       "      <td>11.00</td>\n",
       "      <td>1.20</td>\n",
       "      <td>5.0</td>\n",
       "      <td>11.00</td>\n",
       "      <td>1.17</td>\n",
       "      <td>5.5</td>\n",
       "      <td>12.00</td>\n",
       "      <td>1.25</td>\n",
       "      <td>6.0</td>\n",
       "      <td>13.00</td>\n",
       "    </tr>\n",
       "    <tr>\n",
       "      <th>2</th>\n",
       "      <td>1731</td>\n",
       "      <td>2008/2009</td>\n",
       "      <td>1</td>\n",
       "      <td>8/16/08 0:00</td>\n",
       "      <td>489044</td>\n",
       "      <td>8472</td>\n",
       "      <td>8650</td>\n",
       "      <td>0</td>\n",
       "      <td>1</td>\n",
       "      <td>5.50</td>\n",
       "      <td>...</td>\n",
       "      <td>1.65</td>\n",
       "      <td>4.50</td>\n",
       "      <td>3.3</td>\n",
       "      <td>1.67</td>\n",
       "      <td>5.50</td>\n",
       "      <td>3.3</td>\n",
       "      <td>1.57</td>\n",
       "      <td>5.50</td>\n",
       "      <td>3.8</td>\n",
       "      <td>1.65</td>\n",
       "    </tr>\n",
       "    <tr>\n",
       "      <th>3</th>\n",
       "      <td>1732</td>\n",
       "      <td>2008/2009</td>\n",
       "      <td>1</td>\n",
       "      <td>8/16/08 0:00</td>\n",
       "      <td>489045</td>\n",
       "      <td>8654</td>\n",
       "      <td>8528</td>\n",
       "      <td>2</td>\n",
       "      <td>1</td>\n",
       "      <td>1.91</td>\n",
       "      <td>...</td>\n",
       "      <td>3.80</td>\n",
       "      <td>1.80</td>\n",
       "      <td>3.2</td>\n",
       "      <td>4.00</td>\n",
       "      <td>1.83</td>\n",
       "      <td>3.2</td>\n",
       "      <td>3.75</td>\n",
       "      <td>1.90</td>\n",
       "      <td>3.5</td>\n",
       "      <td>4.35</td>\n",
       "    </tr>\n",
       "    <tr>\n",
       "      <th>4</th>\n",
       "      <td>1733</td>\n",
       "      <td>2008/2009</td>\n",
       "      <td>1</td>\n",
       "      <td>8/17/08 0:00</td>\n",
       "      <td>489046</td>\n",
       "      <td>10252</td>\n",
       "      <td>8456</td>\n",
       "      <td>4</td>\n",
       "      <td>2</td>\n",
       "      <td>1.91</td>\n",
       "      <td>...</td>\n",
       "      <td>3.30</td>\n",
       "      <td>1.83</td>\n",
       "      <td>3.2</td>\n",
       "      <td>3.75</td>\n",
       "      <td>1.91</td>\n",
       "      <td>3.2</td>\n",
       "      <td>3.50</td>\n",
       "      <td>1.90</td>\n",
       "      <td>3.5</td>\n",
       "      <td>4.35</td>\n",
       "    </tr>\n",
       "  </tbody>\n",
       "</table>\n",
       "<p>5 rows × 27 columns</p>\n",
       "</div>"
      ],
      "text/plain": [
       "     id     season  stage          date  match_api_id  home_team_api_id  \\\n",
       "0  1729  2008/2009      1  8/17/08 0:00        489042             10260   \n",
       "1  1730  2008/2009      1  8/16/08 0:00        489043              9825   \n",
       "2  1731  2008/2009      1  8/16/08 0:00        489044              8472   \n",
       "3  1732  2008/2009      1  8/16/08 0:00        489045              8654   \n",
       "4  1733  2008/2009      1  8/17/08 0:00        489046             10252   \n",
       "\n",
       "   away_team_api_id  home_team_goal  away_team_goal  B365H  ...      IWA  \\\n",
       "0             10261               1               1   1.29  ...     8.50   \n",
       "1              8659               1               0   1.20  ...    11.00   \n",
       "2              8650               0               1   5.50  ...     1.65   \n",
       "3              8528               2               1   1.91  ...     3.80   \n",
       "4              8456               4               2   1.91  ...     3.30   \n",
       "\n",
       "    LBH  LBD    LBA   WHH  WHD    WHA   VCH  VCD    VCA  \n",
       "0  1.25  4.5  10.00  1.25  4.5  10.00  1.28  5.5  12.00  \n",
       "1  1.20  5.0  11.00  1.17  5.5  12.00  1.25  6.0  13.00  \n",
       "2  4.50  3.3   1.67  5.50  3.3   1.57  5.50  3.8   1.65  \n",
       "3  1.80  3.2   4.00  1.83  3.2   3.75  1.90  3.5   4.35  \n",
       "4  1.83  3.2   3.75  1.91  3.2   3.50  1.90  3.5   4.35  \n",
       "\n",
       "[5 rows x 27 columns]"
      ]
     },
     "execution_count": 3,
     "metadata": {},
     "output_type": "execute_result"
    }
   ],
   "source": [
    "matches.head()"
   ]
  },
  {
   "cell_type": "markdown",
   "metadata": {},
   "source": [
    "First job is to create a target variable.\n",
    "\n",
    "This will be a 3 category classification problem:\n",
    "- Home Win\n",
    "- Away Win\n",
    "- Draw"
   ]
  },
  {
   "cell_type": "code",
   "execution_count": 4,
   "metadata": {
    "collapsed": false
   },
   "outputs": [],
   "source": [
    "matches['Result_Target'] = np.nan"
   ]
  },
  {
   "cell_type": "code",
   "execution_count": 5,
   "metadata": {
    "collapsed": true
   },
   "outputs": [],
   "source": [
    "matches.ix[matches['home_team_goal'] > matches['away_team_goal'], 'Result_Target'] = 1\n",
    "matches.ix[matches['home_team_goal'] < matches['away_team_goal'], 'Result_Target'] = -1\n",
    "matches.ix[matches['home_team_goal'] == matches['away_team_goal'], 'Result_Target'] = 0"
   ]
  },
  {
   "cell_type": "code",
   "execution_count": 6,
   "metadata": {
    "collapsed": false
   },
   "outputs": [
    {
     "data": {
      "text/plain": [
       "<matplotlib.text.Text at 0x114a1a990>"
      ]
     },
     "execution_count": 6,
     "metadata": {},
     "output_type": "execute_result"
    },
    {
     "data": {
      "image/png": "[encoded data removed]",
      "text/plain": [
       "<matplotlib.figure.Figure at 0x113c84f50>"
      ]
     },
     "metadata": {},
     "output_type": "display_data"
    }
   ],
   "source": [
    "matches['Result_Target'].value_counts().plot(kind = 'bar')\n",
    "plt.xlabel('Result')\n",
    "plt.ylabel('Frequency')\n",
    "plt.title('Result_Target Distribution Frequency')"
   ]
  },
  {
   "cell_type": "code",
   "execution_count": 7,
   "metadata": {
    "collapsed": false
   },
   "outputs": [
    {
     "data": {
      "text/html": [
       "<div>\n",
       "<table border=\"1\" class=\"dataframe\">\n",
       "  <thead>\n",
       "    <tr style=\"text-align: right;\">\n",
       "      <th></th>\n",
       "      <th>id</th>\n",
       "      <th>season</th>\n",
       "      <th>stage</th>\n",
       "      <th>date</th>\n",
       "      <th>match_api_id</th>\n",
       "      <th>home_team_api_id</th>\n",
       "      <th>away_team_api_id</th>\n",
       "      <th>home_team_goal</th>\n",
       "      <th>away_team_goal</th>\n",
       "      <th>B365H</th>\n",
       "      <th>...</th>\n",
       "      <th>LBH</th>\n",
       "      <th>LBD</th>\n",
       "      <th>LBA</th>\n",
       "      <th>WHH</th>\n",
       "      <th>WHD</th>\n",
       "      <th>WHA</th>\n",
       "      <th>VCH</th>\n",
       "      <th>VCD</th>\n",
       "      <th>VCA</th>\n",
       "      <th>Result_Target</th>\n",
       "    </tr>\n",
       "  </thead>\n",
       "  <tbody>\n",
       "    <tr>\n",
       "      <th>0</th>\n",
       "      <td>1729</td>\n",
       "      <td>2008/2009</td>\n",
       "      <td>1</td>\n",
       "      <td>8/17/08 0:00</td>\n",
       "      <td>489042</td>\n",
       "      <td>10260</td>\n",
       "      <td>10261</td>\n",
       "      <td>1</td>\n",
       "      <td>1</td>\n",
       "      <td>1.29</td>\n",
       "      <td>...</td>\n",
       "      <td>1.25</td>\n",
       "      <td>4.5</td>\n",
       "      <td>10.00</td>\n",
       "      <td>1.25</td>\n",
       "      <td>4.5</td>\n",
       "      <td>10.00</td>\n",
       "      <td>1.28</td>\n",
       "      <td>5.5</td>\n",
       "      <td>12.00</td>\n",
       "      <td>0.0</td>\n",
       "    </tr>\n",
       "    <tr>\n",
       "      <th>1</th>\n",
       "      <td>1730</td>\n",
       "      <td>2008/2009</td>\n",
       "      <td>1</td>\n",
       "      <td>8/16/08 0:00</td>\n",
       "      <td>489043</td>\n",
       "      <td>9825</td>\n",
       "      <td>8659</td>\n",
       "      <td>1</td>\n",
       "      <td>0</td>\n",
       "      <td>1.20</td>\n",
       "      <td>...</td>\n",
       "      <td>1.20</td>\n",
       "      <td>5.0</td>\n",
       "      <td>11.00</td>\n",
       "      <td>1.17</td>\n",
       "      <td>5.5</td>\n",
       "      <td>12.00</td>\n",
       "      <td>1.25</td>\n",
       "      <td>6.0</td>\n",
       "      <td>13.00</td>\n",
       "      <td>1.0</td>\n",
       "    </tr>\n",
       "    <tr>\n",
       "      <th>2</th>\n",
       "      <td>1731</td>\n",
       "      <td>2008/2009</td>\n",
       "      <td>1</td>\n",
       "      <td>8/16/08 0:00</td>\n",
       "      <td>489044</td>\n",
       "      <td>8472</td>\n",
       "      <td>8650</td>\n",
       "      <td>0</td>\n",
       "      <td>1</td>\n",
       "      <td>5.50</td>\n",
       "      <td>...</td>\n",
       "      <td>4.50</td>\n",
       "      <td>3.3</td>\n",
       "      <td>1.67</td>\n",
       "      <td>5.50</td>\n",
       "      <td>3.3</td>\n",
       "      <td>1.57</td>\n",
       "      <td>5.50</td>\n",
       "      <td>3.8</td>\n",
       "      <td>1.65</td>\n",
       "      <td>-1.0</td>\n",
       "    </tr>\n",
       "    <tr>\n",
       "      <th>3</th>\n",
       "      <td>1732</td>\n",
       "      <td>2008/2009</td>\n",
       "      <td>1</td>\n",
       "      <td>8/16/08 0:00</td>\n",
       "      <td>489045</td>\n",
       "      <td>8654</td>\n",
       "      <td>8528</td>\n",
       "      <td>2</td>\n",
       "      <td>1</td>\n",
       "      <td>1.91</td>\n",
       "      <td>...</td>\n",
       "      <td>1.80</td>\n",
       "      <td>3.2</td>\n",
       "      <td>4.00</td>\n",
       "      <td>1.83</td>\n",
       "      <td>3.2</td>\n",
       "      <td>3.75</td>\n",
       "      <td>1.90</td>\n",
       "      <td>3.5</td>\n",
       "      <td>4.35</td>\n",
       "      <td>1.0</td>\n",
       "    </tr>\n",
       "    <tr>\n",
       "      <th>4</th>\n",
       "      <td>1733</td>\n",
       "      <td>2008/2009</td>\n",
       "      <td>1</td>\n",
       "      <td>8/17/08 0:00</td>\n",
       "      <td>489046</td>\n",
       "      <td>10252</td>\n",
       "      <td>8456</td>\n",
       "      <td>4</td>\n",
       "      <td>2</td>\n",
       "      <td>1.91</td>\n",
       "      <td>...</td>\n",
       "      <td>1.83</td>\n",
       "      <td>3.2</td>\n",
       "      <td>3.75</td>\n",
       "      <td>1.91</td>\n",
       "      <td>3.2</td>\n",
       "      <td>3.50</td>\n",
       "      <td>1.90</td>\n",
       "      <td>3.5</td>\n",
       "      <td>4.35</td>\n",
       "      <td>1.0</td>\n",
       "    </tr>\n",
       "  </tbody>\n",
       "</table>\n",
       "<p>5 rows × 28 columns</p>\n",
       "</div>"
      ],
      "text/plain": [
       "     id     season  stage          date  match_api_id  home_team_api_id  \\\n",
       "0  1729  2008/2009      1  8/17/08 0:00        489042             10260   \n",
       "1  1730  2008/2009      1  8/16/08 0:00        489043              9825   \n",
       "2  1731  2008/2009      1  8/16/08 0:00        489044              8472   \n",
       "3  1732  2008/2009      1  8/16/08 0:00        489045              8654   \n",
       "4  1733  2008/2009      1  8/17/08 0:00        489046             10252   \n",
       "\n",
       "   away_team_api_id  home_team_goal  away_team_goal  B365H      ...        \\\n",
       "0             10261               1               1   1.29      ...         \n",
       "1              8659               1               0   1.20      ...         \n",
       "2              8650               0               1   5.50      ...         \n",
       "3              8528               2               1   1.91      ...         \n",
       "4              8456               4               2   1.91      ...         \n",
       "\n",
       "    LBH  LBD    LBA   WHH  WHD    WHA   VCH  VCD    VCA  Result_Target  \n",
       "0  1.25  4.5  10.00  1.25  4.5  10.00  1.28  5.5  12.00            0.0  \n",
       "1  1.20  5.0  11.00  1.17  5.5  12.00  1.25  6.0  13.00            1.0  \n",
       "2  4.50  3.3   1.67  5.50  3.3   1.57  5.50  3.8   1.65           -1.0  \n",
       "3  1.80  3.2   4.00  1.83  3.2   3.75  1.90  3.5   4.35            1.0  \n",
       "4  1.83  3.2   3.75  1.91  3.2   3.50  1.90  3.5   4.35            1.0  \n",
       "\n",
       "[5 rows x 28 columns]"
      ]
     },
     "execution_count": 7,
     "metadata": {},
     "output_type": "execute_result"
    }
   ],
   "source": [
    "matches.head()  # Sanity check that the results column makes sense - Looks Ok!"
   ]
  },
  {
   "cell_type": "markdown",
   "metadata": {},
   "source": [
    "### Feature Creation Step"
   ]
  },
  {
   "cell_type": "markdown",
   "metadata": {},
   "source": [
    "##### Aggregated Odds - Average"
   ]
  },
  {
   "cell_type": "code",
   "execution_count": 8,
   "metadata": {
    "collapsed": false
   },
   "outputs": [
    {
     "data": {
      "text/html": [
       "<div>\n",
       "<table border=\"1\" class=\"dataframe\">\n",
       "  <thead>\n",
       "    <tr style=\"text-align: right;\">\n",
       "      <th></th>\n",
       "      <th>B365H</th>\n",
       "      <th>B365D</th>\n",
       "      <th>B365A</th>\n",
       "      <th>BWH</th>\n",
       "      <th>BWD</th>\n",
       "      <th>BWA</th>\n",
       "      <th>IWH</th>\n",
       "      <th>IWD</th>\n",
       "      <th>IWA</th>\n",
       "      <th>LBH</th>\n",
       "      <th>LBD</th>\n",
       "      <th>LBA</th>\n",
       "      <th>WHH</th>\n",
       "      <th>WHD</th>\n",
       "      <th>WHA</th>\n",
       "      <th>VCH</th>\n",
       "      <th>VCD</th>\n",
       "      <th>VCA</th>\n",
       "    </tr>\n",
       "  </thead>\n",
       "  <tbody>\n",
       "    <tr>\n",
       "      <th>0</th>\n",
       "      <td>1.29</td>\n",
       "      <td>5.5</td>\n",
       "      <td>11.00</td>\n",
       "      <td>1.30</td>\n",
       "      <td>4.75</td>\n",
       "      <td>8.25</td>\n",
       "      <td>1.3</td>\n",
       "      <td>4.4</td>\n",
       "      <td>8.50</td>\n",
       "      <td>1.25</td>\n",
       "      <td>4.5</td>\n",
       "      <td>10.00</td>\n",
       "      <td>1.25</td>\n",
       "      <td>4.5</td>\n",
       "      <td>10.00</td>\n",
       "      <td>1.28</td>\n",
       "      <td>5.5</td>\n",
       "      <td>12.00</td>\n",
       "    </tr>\n",
       "    <tr>\n",
       "      <th>1</th>\n",
       "      <td>1.20</td>\n",
       "      <td>6.5</td>\n",
       "      <td>15.00</td>\n",
       "      <td>1.22</td>\n",
       "      <td>5.50</td>\n",
       "      <td>10.00</td>\n",
       "      <td>1.2</td>\n",
       "      <td>5.2</td>\n",
       "      <td>11.00</td>\n",
       "      <td>1.20</td>\n",
       "      <td>5.0</td>\n",
       "      <td>11.00</td>\n",
       "      <td>1.17</td>\n",
       "      <td>5.5</td>\n",
       "      <td>12.00</td>\n",
       "      <td>1.25</td>\n",
       "      <td>6.0</td>\n",
       "      <td>13.00</td>\n",
       "    </tr>\n",
       "    <tr>\n",
       "      <th>2</th>\n",
       "      <td>5.50</td>\n",
       "      <td>3.6</td>\n",
       "      <td>1.67</td>\n",
       "      <td>5.00</td>\n",
       "      <td>3.35</td>\n",
       "      <td>1.67</td>\n",
       "      <td>4.5</td>\n",
       "      <td>3.5</td>\n",
       "      <td>1.65</td>\n",
       "      <td>4.50</td>\n",
       "      <td>3.3</td>\n",
       "      <td>1.67</td>\n",
       "      <td>5.50</td>\n",
       "      <td>3.3</td>\n",
       "      <td>1.57</td>\n",
       "      <td>5.50</td>\n",
       "      <td>3.8</td>\n",
       "      <td>1.65</td>\n",
       "    </tr>\n",
       "    <tr>\n",
       "      <th>3</th>\n",
       "      <td>1.91</td>\n",
       "      <td>3.4</td>\n",
       "      <td>4.20</td>\n",
       "      <td>1.90</td>\n",
       "      <td>3.20</td>\n",
       "      <td>3.80</td>\n",
       "      <td>1.8</td>\n",
       "      <td>3.3</td>\n",
       "      <td>3.80</td>\n",
       "      <td>1.80</td>\n",
       "      <td>3.2</td>\n",
       "      <td>4.00</td>\n",
       "      <td>1.83</td>\n",
       "      <td>3.2</td>\n",
       "      <td>3.75</td>\n",
       "      <td>1.90</td>\n",
       "      <td>3.5</td>\n",
       "      <td>4.35</td>\n",
       "    </tr>\n",
       "    <tr>\n",
       "      <th>4</th>\n",
       "      <td>1.91</td>\n",
       "      <td>3.4</td>\n",
       "      <td>4.33</td>\n",
       "      <td>1.95</td>\n",
       "      <td>3.20</td>\n",
       "      <td>3.60</td>\n",
       "      <td>2.0</td>\n",
       "      <td>3.2</td>\n",
       "      <td>3.30</td>\n",
       "      <td>1.83</td>\n",
       "      <td>3.2</td>\n",
       "      <td>3.75</td>\n",
       "      <td>1.91</td>\n",
       "      <td>3.2</td>\n",
       "      <td>3.50</td>\n",
       "      <td>1.90</td>\n",
       "      <td>3.5</td>\n",
       "      <td>4.35</td>\n",
       "    </tr>\n",
       "  </tbody>\n",
       "</table>\n",
       "</div>"
      ],
      "text/plain": [
       "   B365H  B365D  B365A   BWH   BWD    BWA  IWH  IWD    IWA   LBH  LBD    LBA  \\\n",
       "0   1.29    5.5  11.00  1.30  4.75   8.25  1.3  4.4   8.50  1.25  4.5  10.00   \n",
       "1   1.20    6.5  15.00  1.22  5.50  10.00  1.2  5.2  11.00  1.20  5.0  11.00   \n",
       "2   5.50    3.6   1.67  5.00  3.35   1.67  4.5  3.5   1.65  4.50  3.3   1.67   \n",
       "3   1.91    3.4   4.20  1.90  3.20   3.80  1.8  3.3   3.80  1.80  3.2   4.00   \n",
       "4   1.91    3.4   4.33  1.95  3.20   3.60  2.0  3.2   3.30  1.83  3.2   3.75   \n",
       "\n",
       "    WHH  WHD    WHA   VCH  VCD    VCA  \n",
       "0  1.25  4.5  10.00  1.28  5.5  12.00  \n",
       "1  1.17  5.5  12.00  1.25  6.0  13.00  \n",
       "2  5.50  3.3   1.57  5.50  3.8   1.65  \n",
       "3  1.83  3.2   3.75  1.90  3.5   4.35  \n",
       "4  1.91  3.2   3.50  1.90  3.5   4.35  "
      ]
     },
     "execution_count": 8,
     "metadata": {},
     "output_type": "execute_result"
    }
   ],
   "source": [
    "## Betting Odds Columns\n",
    "odds = matches[matches.columns[9:27]].copy()\n",
    "odds.head()"
   ]
  },
  {
   "cell_type": "code",
   "execution_count": 9,
   "metadata": {
    "collapsed": false
   },
   "outputs": [],
   "source": [
    "home_odds = []\n",
    "away_odds = []\n",
    "draw_odds = []\n",
    "\n",
    "for colname in odds.columns:\n",
    "    if colname in ['WHH','WHD','WHA']:\n",
    "        if colname == 'WHH':\n",
    "            home_odds.append(colname)\n",
    "        elif colname == 'WHD':\n",
    "            draw_odds.append(colname)\n",
    "        elif colname == 'WHA':\n",
    "            away_odds.append(colname)\n",
    "        continue\n",
    "    if 'H' in colname:\n",
    "        home_odds.append(colname)\n",
    "    elif 'A' in colname:\n",
    "        away_odds.append(colname)\n",
    "    else:\n",
    "        draw_odds.append(colname)"
   ]
  },
  {
   "cell_type": "code",
   "execution_count": 10,
   "metadata": {
    "collapsed": false
   },
   "outputs": [],
   "source": [
    "# Fill null values with the average of each row\n",
    "\n",
    "matches['BWH'].fillna(odds[home_odds].mean(axis=1),inplace = True)\n",
    "matches['IWH'].fillna(odds[home_odds].mean(axis=1),inplace = True)\n",
    "matches['LBH'].fillna(odds[home_odds].mean(axis=1),inplace = True)\n",
    "matches['BWD'].fillna(odds[home_odds].mean(axis=1),inplace = True)\n",
    "matches['IWD'].fillna(odds[home_odds].mean(axis=1),inplace = True)\n",
    "matches['LBD'].fillna(odds[home_odds].mean(axis=1),inplace = True)\n",
    "matches['BWA'].fillna(odds[home_odds].mean(axis=1),inplace = True)\n",
    "matches['IWA'].fillna(odds[home_odds].mean(axis=1),inplace = True)\n",
    "matches['LBA'].fillna(odds[home_odds].mean(axis=1),inplace = True)\n"
   ]
  },
  {
   "cell_type": "code",
   "execution_count": 11,
   "metadata": {
    "collapsed": false
   },
   "outputs": [
    {
     "data": {
      "text/html": [
       "<div>\n",
       "<table border=\"1\" class=\"dataframe\">\n",
       "  <thead>\n",
       "    <tr style=\"text-align: right;\">\n",
       "      <th></th>\n",
       "      <th>B365H</th>\n",
       "      <th>BWH</th>\n",
       "      <th>IWH</th>\n",
       "      <th>LBH</th>\n",
       "      <th>WHH</th>\n",
       "      <th>VCH</th>\n",
       "    </tr>\n",
       "  </thead>\n",
       "  <tbody>\n",
       "    <tr>\n",
       "      <th>0</th>\n",
       "      <td>1.29</td>\n",
       "      <td>1.30</td>\n",
       "      <td>1.3</td>\n",
       "      <td>1.25</td>\n",
       "      <td>1.25</td>\n",
       "      <td>1.28</td>\n",
       "    </tr>\n",
       "    <tr>\n",
       "      <th>1</th>\n",
       "      <td>1.20</td>\n",
       "      <td>1.22</td>\n",
       "      <td>1.2</td>\n",
       "      <td>1.20</td>\n",
       "      <td>1.17</td>\n",
       "      <td>1.25</td>\n",
       "    </tr>\n",
       "    <tr>\n",
       "      <th>2</th>\n",
       "      <td>5.50</td>\n",
       "      <td>5.00</td>\n",
       "      <td>4.5</td>\n",
       "      <td>4.50</td>\n",
       "      <td>5.50</td>\n",
       "      <td>5.50</td>\n",
       "    </tr>\n",
       "    <tr>\n",
       "      <th>3</th>\n",
       "      <td>1.91</td>\n",
       "      <td>1.90</td>\n",
       "      <td>1.8</td>\n",
       "      <td>1.80</td>\n",
       "      <td>1.83</td>\n",
       "      <td>1.90</td>\n",
       "    </tr>\n",
       "    <tr>\n",
       "      <th>4</th>\n",
       "      <td>1.91</td>\n",
       "      <td>1.95</td>\n",
       "      <td>2.0</td>\n",
       "      <td>1.83</td>\n",
       "      <td>1.91</td>\n",
       "      <td>1.90</td>\n",
       "    </tr>\n",
       "  </tbody>\n",
       "</table>\n",
       "</div>"
      ],
      "text/plain": [
       "   B365H   BWH  IWH   LBH   WHH   VCH\n",
       "0   1.29  1.30  1.3  1.25  1.25  1.28\n",
       "1   1.20  1.22  1.2  1.20  1.17  1.25\n",
       "2   5.50  5.00  4.5  4.50  5.50  5.50\n",
       "3   1.91  1.90  1.8  1.80  1.83  1.90\n",
       "4   1.91  1.95  2.0  1.83  1.91  1.90"
      ]
     },
     "execution_count": 11,
     "metadata": {},
     "output_type": "execute_result"
    }
   ],
   "source": [
    "odds[home_odds].head()"
   ]
  },
  {
   "cell_type": "code",
   "execution_count": 12,
   "metadata": {
    "collapsed": true
   },
   "outputs": [],
   "source": [
    "matches['Average_Home_Odds'] = odds[home_odds].mean(axis=1).round(2)\n",
    "matches['Average_Away_Odds'] = odds[away_odds].mean(axis=1).round(2)\n",
    "matches['Average_Draw_Odds'] = odds[draw_odds].mean(axis=1).round(2)"
   ]
  },
  {
   "cell_type": "code",
   "execution_count": 13,
   "metadata": {
    "collapsed": false
   },
   "outputs": [
    {
     "data": {
      "text/html": [
       "<div>\n",
       "<table border=\"1\" class=\"dataframe\">\n",
       "  <thead>\n",
       "    <tr style=\"text-align: right;\">\n",
       "      <th></th>\n",
       "      <th>id</th>\n",
       "      <th>season</th>\n",
       "      <th>stage</th>\n",
       "      <th>date</th>\n",
       "      <th>match_api_id</th>\n",
       "      <th>home_team_api_id</th>\n",
       "      <th>away_team_api_id</th>\n",
       "      <th>home_team_goal</th>\n",
       "      <th>away_team_goal</th>\n",
       "      <th>B365H</th>\n",
       "      <th>...</th>\n",
       "      <th>WHH</th>\n",
       "      <th>WHD</th>\n",
       "      <th>WHA</th>\n",
       "      <th>VCH</th>\n",
       "      <th>VCD</th>\n",
       "      <th>VCA</th>\n",
       "      <th>Result_Target</th>\n",
       "      <th>Average_Home_Odds</th>\n",
       "      <th>Average_Away_Odds</th>\n",
       "      <th>Average_Draw_Odds</th>\n",
       "    </tr>\n",
       "  </thead>\n",
       "  <tbody>\n",
       "    <tr>\n",
       "      <th>0</th>\n",
       "      <td>1729</td>\n",
       "      <td>2008/2009</td>\n",
       "      <td>1</td>\n",
       "      <td>8/17/08 0:00</td>\n",
       "      <td>489042</td>\n",
       "      <td>10260</td>\n",
       "      <td>10261</td>\n",
       "      <td>1</td>\n",
       "      <td>1</td>\n",
       "      <td>1.29</td>\n",
       "      <td>...</td>\n",
       "      <td>1.25</td>\n",
       "      <td>4.5</td>\n",
       "      <td>10.00</td>\n",
       "      <td>1.28</td>\n",
       "      <td>5.5</td>\n",
       "      <td>12.00</td>\n",
       "      <td>0.0</td>\n",
       "      <td>1.28</td>\n",
       "      <td>9.96</td>\n",
       "      <td>4.86</td>\n",
       "    </tr>\n",
       "    <tr>\n",
       "      <th>1</th>\n",
       "      <td>1730</td>\n",
       "      <td>2008/2009</td>\n",
       "      <td>1</td>\n",
       "      <td>8/16/08 0:00</td>\n",
       "      <td>489043</td>\n",
       "      <td>9825</td>\n",
       "      <td>8659</td>\n",
       "      <td>1</td>\n",
       "      <td>0</td>\n",
       "      <td>1.20</td>\n",
       "      <td>...</td>\n",
       "      <td>1.17</td>\n",
       "      <td>5.5</td>\n",
       "      <td>12.00</td>\n",
       "      <td>1.25</td>\n",
       "      <td>6.0</td>\n",
       "      <td>13.00</td>\n",
       "      <td>1.0</td>\n",
       "      <td>1.21</td>\n",
       "      <td>12.00</td>\n",
       "      <td>5.62</td>\n",
       "    </tr>\n",
       "    <tr>\n",
       "      <th>2</th>\n",
       "      <td>1731</td>\n",
       "      <td>2008/2009</td>\n",
       "      <td>1</td>\n",
       "      <td>8/16/08 0:00</td>\n",
       "      <td>489044</td>\n",
       "      <td>8472</td>\n",
       "      <td>8650</td>\n",
       "      <td>0</td>\n",
       "      <td>1</td>\n",
       "      <td>5.50</td>\n",
       "      <td>...</td>\n",
       "      <td>5.50</td>\n",
       "      <td>3.3</td>\n",
       "      <td>1.57</td>\n",
       "      <td>5.50</td>\n",
       "      <td>3.8</td>\n",
       "      <td>1.65</td>\n",
       "      <td>-1.0</td>\n",
       "      <td>5.08</td>\n",
       "      <td>1.65</td>\n",
       "      <td>3.48</td>\n",
       "    </tr>\n",
       "    <tr>\n",
       "      <th>3</th>\n",
       "      <td>1732</td>\n",
       "      <td>2008/2009</td>\n",
       "      <td>1</td>\n",
       "      <td>8/16/08 0:00</td>\n",
       "      <td>489045</td>\n",
       "      <td>8654</td>\n",
       "      <td>8528</td>\n",
       "      <td>2</td>\n",
       "      <td>1</td>\n",
       "      <td>1.91</td>\n",
       "      <td>...</td>\n",
       "      <td>1.83</td>\n",
       "      <td>3.2</td>\n",
       "      <td>3.75</td>\n",
       "      <td>1.90</td>\n",
       "      <td>3.5</td>\n",
       "      <td>4.35</td>\n",
       "      <td>1.0</td>\n",
       "      <td>1.86</td>\n",
       "      <td>3.98</td>\n",
       "      <td>3.30</td>\n",
       "    </tr>\n",
       "    <tr>\n",
       "      <th>4</th>\n",
       "      <td>1733</td>\n",
       "      <td>2008/2009</td>\n",
       "      <td>1</td>\n",
       "      <td>8/17/08 0:00</td>\n",
       "      <td>489046</td>\n",
       "      <td>10252</td>\n",
       "      <td>8456</td>\n",
       "      <td>4</td>\n",
       "      <td>2</td>\n",
       "      <td>1.91</td>\n",
       "      <td>...</td>\n",
       "      <td>1.91</td>\n",
       "      <td>3.2</td>\n",
       "      <td>3.50</td>\n",
       "      <td>1.90</td>\n",
       "      <td>3.5</td>\n",
       "      <td>4.35</td>\n",
       "      <td>1.0</td>\n",
       "      <td>1.92</td>\n",
       "      <td>3.80</td>\n",
       "      <td>3.28</td>\n",
       "    </tr>\n",
       "  </tbody>\n",
       "</table>\n",
       "<p>5 rows × 31 columns</p>\n",
       "</div>"
      ],
      "text/plain": [
       "     id     season  stage          date  match_api_id  home_team_api_id  \\\n",
       "0  1729  2008/2009      1  8/17/08 0:00        489042             10260   \n",
       "1  1730  2008/2009      1  8/16/08 0:00        489043              9825   \n",
       "2  1731  2008/2009      1  8/16/08 0:00        489044              8472   \n",
       "3  1732  2008/2009      1  8/16/08 0:00        489045              8654   \n",
       "4  1733  2008/2009      1  8/17/08 0:00        489046             10252   \n",
       "\n",
       "   away_team_api_id  home_team_goal  away_team_goal  B365H        ...          \\\n",
       "0             10261               1               1   1.29        ...           \n",
       "1              8659               1               0   1.20        ...           \n",
       "2              8650               0               1   5.50        ...           \n",
       "3              8528               2               1   1.91        ...           \n",
       "4              8456               4               2   1.91        ...           \n",
       "\n",
       "    WHH  WHD    WHA   VCH  VCD    VCA  Result_Target  Average_Home_Odds  \\\n",
       "0  1.25  4.5  10.00  1.28  5.5  12.00            0.0               1.28   \n",
       "1  1.17  5.5  12.00  1.25  6.0  13.00            1.0               1.21   \n",
       "2  5.50  3.3   1.57  5.50  3.8   1.65           -1.0               5.08   \n",
       "3  1.83  3.2   3.75  1.90  3.5   4.35            1.0               1.86   \n",
       "4  1.91  3.2   3.50  1.90  3.5   4.35            1.0               1.92   \n",
       "\n",
       "   Average_Away_Odds  Average_Draw_Odds  \n",
       "0               9.96               4.86  \n",
       "1              12.00               5.62  \n",
       "2               1.65               3.48  \n",
       "3               3.98               3.30  \n",
       "4               3.80               3.28  \n",
       "\n",
       "[5 rows x 31 columns]"
      ]
     },
     "execution_count": 13,
     "metadata": {},
     "output_type": "execute_result"
    }
   ],
   "source": [
    "matches.head()"
   ]
  },
  {
   "cell_type": "code",
   "execution_count": 14,
   "metadata": {
    "collapsed": false
   },
   "outputs": [
    {
     "data": {
      "text/html": [
       "<div>\n",
       "<table border=\"1\" class=\"dataframe\">\n",
       "  <thead>\n",
       "    <tr style=\"text-align: right;\">\n",
       "      <th></th>\n",
       "      <th>B365H</th>\n",
       "      <th>BWH</th>\n",
       "      <th>IWH</th>\n",
       "      <th>LBH</th>\n",
       "      <th>WHH</th>\n",
       "      <th>VCH</th>\n",
       "    </tr>\n",
       "  </thead>\n",
       "  <tbody>\n",
       "    <tr>\n",
       "      <th>0</th>\n",
       "      <td>1.29</td>\n",
       "      <td>1.30</td>\n",
       "      <td>1.3</td>\n",
       "      <td>1.25</td>\n",
       "      <td>1.25</td>\n",
       "      <td>1.28</td>\n",
       "    </tr>\n",
       "    <tr>\n",
       "      <th>1</th>\n",
       "      <td>1.20</td>\n",
       "      <td>1.22</td>\n",
       "      <td>1.2</td>\n",
       "      <td>1.20</td>\n",
       "      <td>1.17</td>\n",
       "      <td>1.25</td>\n",
       "    </tr>\n",
       "    <tr>\n",
       "      <th>2</th>\n",
       "      <td>5.50</td>\n",
       "      <td>5.00</td>\n",
       "      <td>4.5</td>\n",
       "      <td>4.50</td>\n",
       "      <td>5.50</td>\n",
       "      <td>5.50</td>\n",
       "    </tr>\n",
       "    <tr>\n",
       "      <th>3</th>\n",
       "      <td>1.91</td>\n",
       "      <td>1.90</td>\n",
       "      <td>1.8</td>\n",
       "      <td>1.80</td>\n",
       "      <td>1.83</td>\n",
       "      <td>1.90</td>\n",
       "    </tr>\n",
       "    <tr>\n",
       "      <th>4</th>\n",
       "      <td>1.91</td>\n",
       "      <td>1.95</td>\n",
       "      <td>2.0</td>\n",
       "      <td>1.83</td>\n",
       "      <td>1.91</td>\n",
       "      <td>1.90</td>\n",
       "    </tr>\n",
       "  </tbody>\n",
       "</table>\n",
       "</div>"
      ],
      "text/plain": [
       "   B365H   BWH  IWH   LBH   WHH   VCH\n",
       "0   1.29  1.30  1.3  1.25  1.25  1.28\n",
       "1   1.20  1.22  1.2  1.20  1.17  1.25\n",
       "2   5.50  5.00  4.5  4.50  5.50  5.50\n",
       "3   1.91  1.90  1.8  1.80  1.83  1.90\n",
       "4   1.91  1.95  2.0  1.83  1.91  1.90"
      ]
     },
     "execution_count": 14,
     "metadata": {},
     "output_type": "execute_result"
    }
   ],
   "source": [
    "matches[home_odds].head()"
   ]
  },
  {
   "cell_type": "code",
   "execution_count": 15,
   "metadata": {
    "collapsed": false
   },
   "outputs": [
    {
     "data": {
      "text/html": [
       "<div>\n",
       "<table border=\"1\" class=\"dataframe\">\n",
       "  <thead>\n",
       "    <tr style=\"text-align: right;\">\n",
       "      <th></th>\n",
       "      <th>B365A</th>\n",
       "      <th>BWA</th>\n",
       "      <th>IWA</th>\n",
       "      <th>LBA</th>\n",
       "      <th>WHA</th>\n",
       "      <th>VCA</th>\n",
       "    </tr>\n",
       "  </thead>\n",
       "  <tbody>\n",
       "    <tr>\n",
       "      <th>0</th>\n",
       "      <td>11.00</td>\n",
       "      <td>8.25</td>\n",
       "      <td>8.50</td>\n",
       "      <td>10.00</td>\n",
       "      <td>10.00</td>\n",
       "      <td>12.00</td>\n",
       "    </tr>\n",
       "    <tr>\n",
       "      <th>1</th>\n",
       "      <td>15.00</td>\n",
       "      <td>10.00</td>\n",
       "      <td>11.00</td>\n",
       "      <td>11.00</td>\n",
       "      <td>12.00</td>\n",
       "      <td>13.00</td>\n",
       "    </tr>\n",
       "    <tr>\n",
       "      <th>2</th>\n",
       "      <td>1.67</td>\n",
       "      <td>1.67</td>\n",
       "      <td>1.65</td>\n",
       "      <td>1.67</td>\n",
       "      <td>1.57</td>\n",
       "      <td>1.65</td>\n",
       "    </tr>\n",
       "    <tr>\n",
       "      <th>3</th>\n",
       "      <td>4.20</td>\n",
       "      <td>3.80</td>\n",
       "      <td>3.80</td>\n",
       "      <td>4.00</td>\n",
       "      <td>3.75</td>\n",
       "      <td>4.35</td>\n",
       "    </tr>\n",
       "    <tr>\n",
       "      <th>4</th>\n",
       "      <td>4.33</td>\n",
       "      <td>3.60</td>\n",
       "      <td>3.30</td>\n",
       "      <td>3.75</td>\n",
       "      <td>3.50</td>\n",
       "      <td>4.35</td>\n",
       "    </tr>\n",
       "  </tbody>\n",
       "</table>\n",
       "</div>"
      ],
      "text/plain": [
       "   B365A    BWA    IWA    LBA    WHA    VCA\n",
       "0  11.00   8.25   8.50  10.00  10.00  12.00\n",
       "1  15.00  10.00  11.00  11.00  12.00  13.00\n",
       "2   1.67   1.67   1.65   1.67   1.57   1.65\n",
       "3   4.20   3.80   3.80   4.00   3.75   4.35\n",
       "4   4.33   3.60   3.30   3.75   3.50   4.35"
      ]
     },
     "execution_count": 15,
     "metadata": {},
     "output_type": "execute_result"
    }
   ],
   "source": [
    "matches[away_odds].head()"
   ]
  },
  {
   "cell_type": "code",
   "execution_count": 16,
   "metadata": {
    "collapsed": false
   },
   "outputs": [
    {
     "data": {
      "text/html": [
       "<div>\n",
       "<table border=\"1\" class=\"dataframe\">\n",
       "  <thead>\n",
       "    <tr style=\"text-align: right;\">\n",
       "      <th></th>\n",
       "      <th>B365D</th>\n",
       "      <th>BWD</th>\n",
       "      <th>IWD</th>\n",
       "      <th>LBD</th>\n",
       "      <th>WHD</th>\n",
       "      <th>VCD</th>\n",
       "    </tr>\n",
       "  </thead>\n",
       "  <tbody>\n",
       "    <tr>\n",
       "      <th>0</th>\n",
       "      <td>5.5</td>\n",
       "      <td>4.75</td>\n",
       "      <td>4.4</td>\n",
       "      <td>4.5</td>\n",
       "      <td>4.5</td>\n",
       "      <td>5.5</td>\n",
       "    </tr>\n",
       "    <tr>\n",
       "      <th>1</th>\n",
       "      <td>6.5</td>\n",
       "      <td>5.50</td>\n",
       "      <td>5.2</td>\n",
       "      <td>5.0</td>\n",
       "      <td>5.5</td>\n",
       "      <td>6.0</td>\n",
       "    </tr>\n",
       "    <tr>\n",
       "      <th>2</th>\n",
       "      <td>3.6</td>\n",
       "      <td>3.35</td>\n",
       "      <td>3.5</td>\n",
       "      <td>3.3</td>\n",
       "      <td>3.3</td>\n",
       "      <td>3.8</td>\n",
       "    </tr>\n",
       "    <tr>\n",
       "      <th>3</th>\n",
       "      <td>3.4</td>\n",
       "      <td>3.20</td>\n",
       "      <td>3.3</td>\n",
       "      <td>3.2</td>\n",
       "      <td>3.2</td>\n",
       "      <td>3.5</td>\n",
       "    </tr>\n",
       "    <tr>\n",
       "      <th>4</th>\n",
       "      <td>3.4</td>\n",
       "      <td>3.20</td>\n",
       "      <td>3.2</td>\n",
       "      <td>3.2</td>\n",
       "      <td>3.2</td>\n",
       "      <td>3.5</td>\n",
       "    </tr>\n",
       "  </tbody>\n",
       "</table>\n",
       "</div>"
      ],
      "text/plain": [
       "   B365D   BWD  IWD  LBD  WHD  VCD\n",
       "0    5.5  4.75  4.4  4.5  4.5  5.5\n",
       "1    6.5  5.50  5.2  5.0  5.5  6.0\n",
       "2    3.6  3.35  3.5  3.3  3.3  3.8\n",
       "3    3.4  3.20  3.3  3.2  3.2  3.5\n",
       "4    3.4  3.20  3.2  3.2  3.2  3.5"
      ]
     },
     "execution_count": 16,
     "metadata": {},
     "output_type": "execute_result"
    }
   ],
   "source": [
    "matches[draw_odds].head()"
   ]
  },
  {
   "cell_type": "markdown",
   "metadata": {},
   "source": [
    "All columns look ok! Let's finally check and make sure there are no NAN values"
   ]
  },
  {
   "cell_type": "code",
   "execution_count": 17,
   "metadata": {
    "collapsed": false
   },
   "outputs": [
    {
     "data": {
      "text/plain": [
       "{}"
      ]
     },
     "execution_count": 17,
     "metadata": {},
     "output_type": "execute_result"
    }
   ],
   "source": [
    "null_dict = {}\n",
    "\n",
    "for col in matches.columns:\n",
    "    nulls = matches[col].isnull().sum()\n",
    "    if nulls > 0:\n",
    "        null_dict[col] = nulls\n",
    "\n",
    "null_dict"
   ]
  },
  {
   "cell_type": "markdown",
   "metadata": {},
   "source": [
    "##### Last K-Goals"
   ]
  },
  {
   "cell_type": "markdown",
   "metadata": {},
   "source": [
    "This feature will create 4 new features\n",
    "- Home_Team_Last_K_Scored\n",
    "- Home_Team_Last_K_Conceded\n",
    "- Away_Team_Last_K_Scored\n",
    "- Away_Team_Last_K_Conceded\n",
    "\n",
    "Games where last k value cannot be calculated, attribute will be imputed with -1"
   ]
  },
  {
   "cell_type": "code",
   "execution_count": 18,
   "metadata": {
    "collapsed": false
   },
   "outputs": [],
   "source": [
    "def LastKGoals(season_df,k):\n",
    "    \n",
    "    \n",
    "    ## Function output:\n",
    "    ##  DataFrame {match_api_id, home_team_last_k_scored , home_team_last_k_conceded, away_team_last_k_scored, away_team_last_k_conceded}\n",
    "    \n",
    "    home_team_last_k_scored = []\n",
    "    home_team_last_k_conceded = []\n",
    "    away_team_last_k_scored = []\n",
    "    away_team_last_k_conceded = []\n",
    "    match_api_id = []\n",
    "    \n",
    "    for i in range(1,39):\n",
    "        # if last-k metric cannot be computed, impute with -1\n",
    "        if i <= k:\n",
    "            subset = season_df[season_df['stage'] == i]\n",
    "            match_id = subset['match_api_id'].tolist()\n",
    "            match_api_id.extend(match_id)\n",
    "            \n",
    "            # Impute values of -1 where last-k metric cannot be computed\n",
    "            home_team_last_k_scored.extend([-1]*10)\n",
    "            home_team_last_k_conceded.extend([-1]*10)\n",
    "            away_team_last_k_scored.extend([-1]*10)\n",
    "            away_team_last_k_conceded.extend([-1]*10)\n",
    "            \n",
    "            continue       \n",
    "\n",
    "        #create subset of games in the k-stages before\n",
    "        subset = season_df[season_df['stage'] >= i-k]\n",
    "        subset = subset[subset['stage'] < i]\n",
    "        \n",
    "        cur_stage = season_df[season_df['stage'] == i]\n",
    "        \n",
    "        home_teams = cur_stage['home_team_api_id'].tolist()\n",
    "        away_teams = cur_stage['away_team_api_id'].tolist()\n",
    "        match_api_id.extend(cur_stage['match_api_id'].tolist())\n",
    "        \n",
    "        for team in home_teams:\n",
    "            prev_home = subset[subset['home_team_api_id'] == team]\n",
    "            prev_away = subset[subset['away_team_api_id'] == team]\n",
    "            \n",
    "            #last-k-scored\n",
    "            prev_home_scored = prev_home['home_team_goal'][subset['home_team_api_id'] == team].tolist()\n",
    "            prev_away_scored = prev_away['away_team_goal'][subset['away_team_api_id'] == team].tolist()\n",
    "            #last-k-conceded\n",
    "            prev_home_conceded = prev_home['away_team_goal'][subset['home_team_api_id'] == team].tolist()\n",
    "            prev_away_conceded = prev_away['home_team_goal'][subset['away_team_api_id'] == team].tolist()            \n",
    "            \n",
    "            home_team_last_k_scored.append(sum(prev_home_scored)+sum(prev_away_scored))\n",
    "            home_team_last_k_conceded.append(sum(prev_home_conceded)+sum(prev_away_conceded))\n",
    "            \n",
    "        for team in away_teams:\n",
    "            prev_home = subset[subset['home_team_api_id'] == team]\n",
    "            prev_away = subset[subset['away_team_api_id'] == team]\n",
    "            \n",
    "            #last-k-scored\n",
    "            prev_home_scored = prev_home['home_team_goal'][subset['home_team_api_id'] == team].tolist()\n",
    "            prev_away_scored = prev_away['away_team_goal'][subset['away_team_api_id'] == team].tolist()\n",
    "            #last-k-conceded\n",
    "            prev_home_conceded = prev_home['away_team_goal'][subset['home_team_api_id'] == team].tolist()\n",
    "            prev_away_conceded = prev_away['home_team_goal'][subset['away_team_api_id'] == team].tolist()            \n",
    "            \n",
    "            away_team_last_k_scored.append(sum(prev_home_scored)+sum(prev_away_scored))\n",
    "            away_team_last_k_conceded.append(sum(prev_home_conceded)+sum(prev_away_conceded))\n",
    "    \n",
    "    last_k_df = pd.DataFrame({'home_team_last_k_scored':home_team_last_k_scored,\\\n",
    "                                  'home_team_last_k_conceded': home_team_last_k_conceded,\\\n",
    "                                  'away_team_last_k_scored': away_team_last_k_scored,\\\n",
    "                                  'away_team_last_k_conceded':away_team_last_k_conceded,\\\n",
    "                                  'match_api_id':match_api_id})\n",
    "    \n",
    "    \n",
    "    \n",
    "    return last_k_df"
   ]
  },
  {
   "cell_type": "code",
   "execution_count": 19,
   "metadata": {
    "collapsed": false
   },
   "outputs": [],
   "source": [
    "def CreateLastKFeature(df,lastk):\n",
    "    seasons = df['season'].unique()\n",
    "    \n",
    "    count = 0\n",
    "    \n",
    "    for year in seasons:\n",
    "    \n",
    "        matches_season = matches[matches['season'] == year]\n",
    "    \n",
    "        last_k_goals_df = LastKGoals(matches_season,lastk)\n",
    "    \n",
    "        if count == 0:\n",
    "            home_k_scored = last_k_goals_df['home_team_last_k_scored'].tolist()\n",
    "            home_k_conceded = last_k_goals_df['home_team_last_k_conceded'].tolist()\n",
    "            away_k_scored = last_k_goals_df['away_team_last_k_scored'].tolist()\n",
    "            away_k_conceded = last_k_goals_df['away_team_last_k_conceded'].tolist()\n",
    "            match_id = last_k_goals_df['match_api_id'].tolist()\n",
    "        else:\n",
    "            home_k_scored.extend(last_k_goals_df['home_team_last_k_scored'].tolist())\n",
    "            home_k_conceded.extend(last_k_goals_df['home_team_last_k_conceded'].tolist())\n",
    "            away_k_scored.extend(last_k_goals_df['away_team_last_k_scored'].tolist())\n",
    "            away_k_conceded.extend(last_k_goals_df['away_team_last_k_conceded'].tolist())\n",
    "            match_id.extend(last_k_goals_df['match_api_id'].tolist())\n",
    "    \n",
    "        count += 1\n",
    "        \n",
    "        last_k_df = pd.DataFrame({'home_last_%d_scored'%(lastk):home_k_scored,\\\n",
    "                          'home_last_%d_conceded'%(lastk): home_k_conceded,\\\n",
    "                          'away_last_%d_scored'%(lastk): away_k_scored,\\\n",
    "                          'away_last_%d_concede'%(lastk): away_k_conceded,\\\n",
    "                          'match_api_id': match_id})\n",
    "        \n",
    "        \n",
    "    return last_k_df\n",
    "        \n",
    "    "
   ]
  },
  {
   "cell_type": "code",
   "execution_count": 20,
   "metadata": {
    "collapsed": false
   },
   "outputs": [
    {
     "name": "stdout",
     "output_type": "stream",
     "text": [
      "Adding new k features took 136.63 seconds\n",
      "(3040, 47)\n"
     ]
    }
   ],
   "source": [
    "## Create features for k = 2,3,4,5\n",
    "\n",
    "start = time.time()\n",
    "for k_value in range(2,6):\n",
    "    matches = matches.merge(CreateLastKFeature(matches,k_value), how='inner', on = 'match_api_id')\n",
    "\n",
    "end = time.time()\n",
    "\n",
    "diff = end-start\n",
    "\n",
    "print 'Adding new k features took ' + str(round(diff,2)) + ' seconds'\n",
    "print matches.shape"
   ]
  },
  {
   "cell_type": "code",
   "execution_count": 21,
   "metadata": {
    "collapsed": false
   },
   "outputs": [
    {
     "data": {
      "text/html": [
       "<div>\n",
       "<table border=\"1\" class=\"dataframe\">\n",
       "  <thead>\n",
       "    <tr style=\"text-align: right;\">\n",
       "      <th></th>\n",
       "      <th>id</th>\n",
       "      <th>season</th>\n",
       "      <th>stage</th>\n",
       "      <th>date</th>\n",
       "      <th>match_api_id</th>\n",
       "      <th>home_team_api_id</th>\n",
       "      <th>away_team_api_id</th>\n",
       "      <th>home_team_goal</th>\n",
       "      <th>away_team_goal</th>\n",
       "      <th>B365H</th>\n",
       "      <th>...</th>\n",
       "      <th>home_last_3_conceded</th>\n",
       "      <th>home_last_3_scored</th>\n",
       "      <th>away_last_4_concede</th>\n",
       "      <th>away_last_4_scored</th>\n",
       "      <th>home_last_4_conceded</th>\n",
       "      <th>home_last_4_scored</th>\n",
       "      <th>away_last_5_concede</th>\n",
       "      <th>away_last_5_scored</th>\n",
       "      <th>home_last_5_conceded</th>\n",
       "      <th>home_last_5_scored</th>\n",
       "    </tr>\n",
       "  </thead>\n",
       "  <tbody>\n",
       "    <tr>\n",
       "      <th>3035</th>\n",
       "      <td>4764</td>\n",
       "      <td>2015/2016</td>\n",
       "      <td>9</td>\n",
       "      <td>10/17/15 0:00</td>\n",
       "      <td>1988795</td>\n",
       "      <td>8466</td>\n",
       "      <td>8197</td>\n",
       "      <td>2</td>\n",
       "      <td>2</td>\n",
       "      <td>1.75</td>\n",
       "      <td>...</td>\n",
       "      <td>5</td>\n",
       "      <td>8</td>\n",
       "      <td>10</td>\n",
       "      <td>9</td>\n",
       "      <td>5</td>\n",
       "      <td>8</td>\n",
       "      <td>11</td>\n",
       "      <td>10</td>\n",
       "      <td>5</td>\n",
       "      <td>11</td>\n",
       "    </tr>\n",
       "    <tr>\n",
       "      <th>3036</th>\n",
       "      <td>4765</td>\n",
       "      <td>2015/2016</td>\n",
       "      <td>9</td>\n",
       "      <td>10/19/15 0:00</td>\n",
       "      <td>1988796</td>\n",
       "      <td>10003</td>\n",
       "      <td>10194</td>\n",
       "      <td>0</td>\n",
       "      <td>1</td>\n",
       "      <td>2.05</td>\n",
       "      <td>...</td>\n",
       "      <td>5</td>\n",
       "      <td>3</td>\n",
       "      <td>5</td>\n",
       "      <td>5</td>\n",
       "      <td>6</td>\n",
       "      <td>3</td>\n",
       "      <td>6</td>\n",
       "      <td>5</td>\n",
       "      <td>7</td>\n",
       "      <td>5</td>\n",
       "    </tr>\n",
       "    <tr>\n",
       "      <th>3037</th>\n",
       "      <td>4766</td>\n",
       "      <td>2015/2016</td>\n",
       "      <td>9</td>\n",
       "      <td>10/17/15 0:00</td>\n",
       "      <td>1988797</td>\n",
       "      <td>8586</td>\n",
       "      <td>8650</td>\n",
       "      <td>0</td>\n",
       "      <td>0</td>\n",
       "      <td>2.50</td>\n",
       "      <td>...</td>\n",
       "      <td>3</td>\n",
       "      <td>7</td>\n",
       "      <td>7</td>\n",
       "      <td>6</td>\n",
       "      <td>3</td>\n",
       "      <td>8</td>\n",
       "      <td>10</td>\n",
       "      <td>6</td>\n",
       "      <td>3</td>\n",
       "      <td>8</td>\n",
       "    </tr>\n",
       "    <tr>\n",
       "      <th>3038</th>\n",
       "      <td>4767</td>\n",
       "      <td>2015/2016</td>\n",
       "      <td>9</td>\n",
       "      <td>10/17/15 0:00</td>\n",
       "      <td>1988798</td>\n",
       "      <td>9817</td>\n",
       "      <td>9825</td>\n",
       "      <td>0</td>\n",
       "      <td>3</td>\n",
       "      <td>6.00</td>\n",
       "      <td>...</td>\n",
       "      <td>3</td>\n",
       "      <td>3</td>\n",
       "      <td>4</td>\n",
       "      <td>10</td>\n",
       "      <td>3</td>\n",
       "      <td>4</td>\n",
       "      <td>4</td>\n",
       "      <td>11</td>\n",
       "      <td>5</td>\n",
       "      <td>4</td>\n",
       "    </tr>\n",
       "    <tr>\n",
       "      <th>3039</th>\n",
       "      <td>4768</td>\n",
       "      <td>2015/2016</td>\n",
       "      <td>9</td>\n",
       "      <td>10/17/15 0:00</td>\n",
       "      <td>1988799</td>\n",
       "      <td>8659</td>\n",
       "      <td>8472</td>\n",
       "      <td>1</td>\n",
       "      <td>0</td>\n",
       "      <td>2.05</td>\n",
       "      <td>...</td>\n",
       "      <td>5</td>\n",
       "      <td>3</td>\n",
       "      <td>8</td>\n",
       "      <td>2</td>\n",
       "      <td>5</td>\n",
       "      <td>3</td>\n",
       "      <td>10</td>\n",
       "      <td>4</td>\n",
       "      <td>5</td>\n",
       "      <td>4</td>\n",
       "    </tr>\n",
       "  </tbody>\n",
       "</table>\n",
       "<p>5 rows × 47 columns</p>\n",
       "</div>"
      ],
      "text/plain": [
       "        id     season  stage           date  match_api_id  home_team_api_id  \\\n",
       "3035  4764  2015/2016      9  10/17/15 0:00       1988795              8466   \n",
       "3036  4765  2015/2016      9  10/19/15 0:00       1988796             10003   \n",
       "3037  4766  2015/2016      9  10/17/15 0:00       1988797              8586   \n",
       "3038  4767  2015/2016      9  10/17/15 0:00       1988798              9817   \n",
       "3039  4768  2015/2016      9  10/17/15 0:00       1988799              8659   \n",
       "\n",
       "      away_team_api_id  home_team_goal  away_team_goal  B365H  \\\n",
       "3035              8197               2               2   1.75   \n",
       "3036             10194               0               1   2.05   \n",
       "3037              8650               0               0   2.50   \n",
       "3038              9825               0               3   6.00   \n",
       "3039              8472               1               0   2.05   \n",
       "\n",
       "             ...          home_last_3_conceded  home_last_3_scored  \\\n",
       "3035         ...                             5                   8   \n",
       "3036         ...                             5                   3   \n",
       "3037         ...                             3                   7   \n",
       "3038         ...                             3                   3   \n",
       "3039         ...                             5                   3   \n",
       "\n",
       "      away_last_4_concede  away_last_4_scored  home_last_4_conceded  \\\n",
       "3035                   10                   9                     5   \n",
       "3036                    5                   5                     6   \n",
       "3037                    7                   6                     3   \n",
       "3038                    4                  10                     3   \n",
       "3039                    8                   2                     5   \n",
       "\n",
       "      home_last_4_scored  away_last_5_concede  away_last_5_scored  \\\n",
       "3035                   8                   11                  10   \n",
       "3036                   3                    6                   5   \n",
       "3037                   8                   10                   6   \n",
       "3038                   4                    4                  11   \n",
       "3039                   3                   10                   4   \n",
       "\n",
       "      home_last_5_conceded  home_last_5_scored  \n",
       "3035                     5                  11  \n",
       "3036                     7                   5  \n",
       "3037                     3                   8  \n",
       "3038                     5                   4  \n",
       "3039                     5                   4  \n",
       "\n",
       "[5 rows x 47 columns]"
      ]
     },
     "execution_count": 21,
     "metadata": {},
     "output_type": "execute_result"
    }
   ],
   "source": [
    "matches.tail()"
   ]
  },
  {
   "cell_type": "markdown",
   "metadata": {},
   "source": [
    "Lets check the results and make sure there aren't any missing values"
   ]
  },
  {
   "cell_type": "code",
   "execution_count": 22,
   "metadata": {
    "collapsed": false
   },
   "outputs": [
    {
     "data": {
      "text/plain": [
       "{}"
      ]
     },
     "execution_count": 22,
     "metadata": {},
     "output_type": "execute_result"
    }
   ],
   "source": [
    "null_dict = {}\n",
    "\n",
    "for col in matches.columns:\n",
    "    nulls = matches[col].isnull().sum()\n",
    "    if nulls > 0:\n",
    "        null_dict[col] = nulls\n",
    "\n",
    "null_dict"
   ]
  },
  {
   "cell_type": "markdown",
   "metadata": {},
   "source": [
    "Great! There aren't any nulls"
   ]
  },
  {
   "cell_type": "code",
   "execution_count": 23,
   "metadata": {
    "collapsed": false
   },
   "outputs": [
    {
     "data": {
      "image/png": "[encoded data removed]",
      "text/plain": [
       "<matplotlib.figure.Figure at 0x10464e7d0>"
      ]
     },
     "metadata": {},
     "output_type": "display_data"
    },
    {
     "data": {
      "image/png": "[encoded data removed]",
      "text/plain": [
       "<matplotlib.figure.Figure at 0x117896490>"
      ]
     },
     "metadata": {},
     "output_type": "display_data"
    },
    {
     "data": {
      "image/png": "[encoded data removed]",
      "text/plain": [
       "<matplotlib.figure.Figure at 0x117bc4b10>"
      ]
     },
     "metadata": {},
     "output_type": "display_data"
    },
    {
     "data": {
      "image/png": "[encoded data removed]",
      "text/plain": [
       "<matplotlib.figure.Figure at 0x117e8ff50>"
      ]
     },
     "metadata": {},
     "output_type": "display_data"
    },
    {
     "data": {
      "image/png": "[encoded data removed]",
      "text/plain": [
       "<matplotlib.figure.Figure at 0x114a083d0>"
      ]
     },
     "metadata": {},
     "output_type": "display_data"
    },
    {
     "data": {
      "image/png": "[encoded data removed]",
      "text/plain": [
       "<matplotlib.figure.Figure at 0x114caa8d0>"
      ]
     },
     "metadata": {},
     "output_type": "display_data"
    },
    {
     "data": {
      "image/png": "[encoded data removed]",
      "text/plain": [
       "<matplotlib.figure.Figure at 0x117b35a10>"
      ]
     },
     "metadata": {},
     "output_type": "display_data"
    },
    {
     "data": {
      "image/png": "[encoded data removed]",
      "text/plain": [
       "<matplotlib.figure.Figure at 0x1188ea850>"
      ]
     },
     "metadata": {},
     "output_type": "display_data"
    },
    {
     "data": {
      "image/png": "[encoded data removed]",
      "text/plain": [
       "<matplotlib.figure.Figure at 0x118b1b290>"
      ]
     },
     "metadata": {},
     "output_type": "display_data"
    },
    {
     "data": {
      "image/png": "[encoded data removed]",
      "text/plain": [
       "<matplotlib.figure.Figure at 0x118e27bd0>"
      ]
     },
     "metadata": {},
     "output_type": "display_data"
    },
    {
     "data": {
      "image/png": "[encoded data removed]",
      "text/plain": [
       "<matplotlib.figure.Figure at 0x118fd2250>"
      ]
     },
     "metadata": {},
     "output_type": "display_data"
    },
    {
     "data": {
      "image/png": "[encoded data removed]",
      "text/plain": [
       "<matplotlib.figure.Figure at 0x11917f890>"
      ]
     },
     "metadata": {},
     "output_type": "display_data"
    },
    {
     "data": {
      "image/png": "[encoded data removed]",
      "text/plain": [
       "<matplotlib.figure.Figure at 0x119337390>"
      ]
     },
     "metadata": {},
     "output_type": "display_data"
    },
    {
     "data": {
      "image/png": "[encoded data removed]",
      "text/plain": [
       "<matplotlib.figure.Figure at 0x11961c050>"
      ]
     },
     "metadata": {},
     "output_type": "display_data"
    },
    {
     "data": {
      "image/png": "[encoded data removed]",
      "text/plain": [
       "<matplotlib.figure.Figure at 0x1197bc650>"
      ]
     },
     "metadata": {},
     "output_type": "display_data"
    },
    {
     "data": {
      "image/png": "[encoded data removed]",
      "text/plain": [
       "<matplotlib.figure.Figure at 0x119611590>"
      ]
     },
     "metadata": {},
     "output_type": "display_data"
    }
   ],
   "source": [
    "#Let's do some investigation on the new features\n",
    "\n",
    "cols = matches.columns[31:]\n",
    "\n",
    "for col in cols:\n",
    "    matches[col].plot(kind='hist')\n",
    "    plt.title(col)\n",
    "    plt.show()"
   ]
  },
  {
   "cell_type": "markdown",
   "metadata": {},
   "source": [
    "This concludes the 'last-k-goals' features!"
   ]
  },
  {
   "cell_type": "markdown",
   "metadata": {},
   "source": [
    "##### Day of the week"
   ]
  },
  {
   "cell_type": "markdown",
   "metadata": {},
   "source": [
    "The goal of this feature is to append a categorical feature 'Day of the Week' to each match. Because some matches happen during the middle of the week, maybe that could provide some information to the model."
   ]
  },
  {
   "cell_type": "code",
   "execution_count": 24,
   "metadata": {
    "collapsed": false
   },
   "outputs": [
    {
     "data": {
      "text/plain": [
       "'8/17/08'"
      ]
     },
     "execution_count": 24,
     "metadata": {},
     "output_type": "execute_result"
    }
   ],
   "source": [
    "dates_raw = matches['date'].tolist()\n",
    "dates_split = []\n",
    "for date in dates_raw:\n",
    "    dates_split.append(date.split(' ')[0])\n",
    "\n",
    "dates_split[0]"
   ]
  },
  {
   "cell_type": "code",
   "execution_count": 25,
   "metadata": {
    "collapsed": false
   },
   "outputs": [],
   "source": [
    "day_of_week = map(lambda x: time.strptime(x,'%m/%d/%y').tm_wday ,dates_split)\n",
    "\n",
    "matches['day_of_week'] = day_of_week"
   ]
  },
  {
   "cell_type": "code",
   "execution_count": 26,
   "metadata": {
    "collapsed": false
   },
   "outputs": [
    {
     "data": {
      "text/plain": [
       "<matplotlib.axes._subplots.AxesSubplot at 0x119603c90>"
      ]
     },
     "execution_count": 26,
     "metadata": {},
     "output_type": "execute_result"
    },
    {
     "data": {
      "image/png": "[encoded data removed]",
      "text/plain": [
       "<matplotlib.figure.Figure at 0x1197a0590>"
      ]
     },
     "metadata": {},
     "output_type": "display_data"
    }
   ],
   "source": [
    "matches['day_of_week'].plot(kind='hist')   #Most matches played on saturday (day of week =5), but matches are also played on other days"
   ]
  },
  {
   "cell_type": "code",
   "execution_count": 27,
   "metadata": {
    "collapsed": false
   },
   "outputs": [
    {
     "data": {
      "text/plain": [
       "5    1718\n",
       "6     736\n",
       "2     230\n",
       "0     161\n",
       "1     150\n",
       "4      23\n",
       "3      22\n",
       "Name: day_of_week, dtype: int64"
      ]
     },
     "execution_count": 27,
     "metadata": {},
     "output_type": "execute_result"
    }
   ],
   "source": [
    "matches['day_of_week'].value_counts()   #Most matches played on saturday (day of week =5), but matches are also played on other days"
   ]
  },
  {
   "cell_type": "code",
   "execution_count": 28,
   "metadata": {
    "collapsed": false
   },
   "outputs": [
    {
     "data": {
      "text/html": [
       "<div>\n",
       "<table border=\"1\" class=\"dataframe\">\n",
       "  <thead>\n",
       "    <tr style=\"text-align: right;\">\n",
       "      <th></th>\n",
       "      <th>id</th>\n",
       "      <th>season</th>\n",
       "      <th>stage</th>\n",
       "      <th>date</th>\n",
       "      <th>match_api_id</th>\n",
       "      <th>home_team_api_id</th>\n",
       "      <th>away_team_api_id</th>\n",
       "      <th>home_team_goal</th>\n",
       "      <th>away_team_goal</th>\n",
       "      <th>B365H</th>\n",
       "      <th>...</th>\n",
       "      <th>home_last_3_scored</th>\n",
       "      <th>away_last_4_concede</th>\n",
       "      <th>away_last_4_scored</th>\n",
       "      <th>home_last_4_conceded</th>\n",
       "      <th>home_last_4_scored</th>\n",
       "      <th>away_last_5_concede</th>\n",
       "      <th>away_last_5_scored</th>\n",
       "      <th>home_last_5_conceded</th>\n",
       "      <th>home_last_5_scored</th>\n",
       "      <th>day_of_week</th>\n",
       "    </tr>\n",
       "  </thead>\n",
       "  <tbody>\n",
       "    <tr>\n",
       "      <th>3035</th>\n",
       "      <td>4764</td>\n",
       "      <td>2015/2016</td>\n",
       "      <td>9</td>\n",
       "      <td>10/17/15 0:00</td>\n",
       "      <td>1988795</td>\n",
       "      <td>8466</td>\n",
       "      <td>8197</td>\n",
       "      <td>2</td>\n",
       "      <td>2</td>\n",
       "      <td>1.75</td>\n",
       "      <td>...</td>\n",
       "      <td>8</td>\n",
       "      <td>10</td>\n",
       "      <td>9</td>\n",
       "      <td>5</td>\n",
       "      <td>8</td>\n",
       "      <td>11</td>\n",
       "      <td>10</td>\n",
       "      <td>5</td>\n",
       "      <td>11</td>\n",
       "      <td>5</td>\n",
       "    </tr>\n",
       "    <tr>\n",
       "      <th>3036</th>\n",
       "      <td>4765</td>\n",
       "      <td>2015/2016</td>\n",
       "      <td>9</td>\n",
       "      <td>10/19/15 0:00</td>\n",
       "      <td>1988796</td>\n",
       "      <td>10003</td>\n",
       "      <td>10194</td>\n",
       "      <td>0</td>\n",
       "      <td>1</td>\n",
       "      <td>2.05</td>\n",
       "      <td>...</td>\n",
       "      <td>3</td>\n",
       "      <td>5</td>\n",
       "      <td>5</td>\n",
       "      <td>6</td>\n",
       "      <td>3</td>\n",
       "      <td>6</td>\n",
       "      <td>5</td>\n",
       "      <td>7</td>\n",
       "      <td>5</td>\n",
       "      <td>0</td>\n",
       "    </tr>\n",
       "    <tr>\n",
       "      <th>3037</th>\n",
       "      <td>4766</td>\n",
       "      <td>2015/2016</td>\n",
       "      <td>9</td>\n",
       "      <td>10/17/15 0:00</td>\n",
       "      <td>1988797</td>\n",
       "      <td>8586</td>\n",
       "      <td>8650</td>\n",
       "      <td>0</td>\n",
       "      <td>0</td>\n",
       "      <td>2.50</td>\n",
       "      <td>...</td>\n",
       "      <td>7</td>\n",
       "      <td>7</td>\n",
       "      <td>6</td>\n",
       "      <td>3</td>\n",
       "      <td>8</td>\n",
       "      <td>10</td>\n",
       "      <td>6</td>\n",
       "      <td>3</td>\n",
       "      <td>8</td>\n",
       "      <td>5</td>\n",
       "    </tr>\n",
       "    <tr>\n",
       "      <th>3038</th>\n",
       "      <td>4767</td>\n",
       "      <td>2015/2016</td>\n",
       "      <td>9</td>\n",
       "      <td>10/17/15 0:00</td>\n",
       "      <td>1988798</td>\n",
       "      <td>9817</td>\n",
       "      <td>9825</td>\n",
       "      <td>0</td>\n",
       "      <td>3</td>\n",
       "      <td>6.00</td>\n",
       "      <td>...</td>\n",
       "      <td>3</td>\n",
       "      <td>4</td>\n",
       "      <td>10</td>\n",
       "      <td>3</td>\n",
       "      <td>4</td>\n",
       "      <td>4</td>\n",
       "      <td>11</td>\n",
       "      <td>5</td>\n",
       "      <td>4</td>\n",
       "      <td>5</td>\n",
       "    </tr>\n",
       "    <tr>\n",
       "      <th>3039</th>\n",
       "      <td>4768</td>\n",
       "      <td>2015/2016</td>\n",
       "      <td>9</td>\n",
       "      <td>10/17/15 0:00</td>\n",
       "      <td>1988799</td>\n",
       "      <td>8659</td>\n",
       "      <td>8472</td>\n",
       "      <td>1</td>\n",
       "      <td>0</td>\n",
       "      <td>2.05</td>\n",
       "      <td>...</td>\n",
       "      <td>3</td>\n",
       "      <td>8</td>\n",
       "      <td>2</td>\n",
       "      <td>5</td>\n",
       "      <td>3</td>\n",
       "      <td>10</td>\n",
       "      <td>4</td>\n",
       "      <td>5</td>\n",
       "      <td>4</td>\n",
       "      <td>5</td>\n",
       "    </tr>\n",
       "  </tbody>\n",
       "</table>\n",
       "<p>5 rows × 48 columns</p>\n",
       "</div>"
      ],
      "text/plain": [
       "        id     season  stage           date  match_api_id  home_team_api_id  \\\n",
       "3035  4764  2015/2016      9  10/17/15 0:00       1988795              8466   \n",
       "3036  4765  2015/2016      9  10/19/15 0:00       1988796             10003   \n",
       "3037  4766  2015/2016      9  10/17/15 0:00       1988797              8586   \n",
       "3038  4767  2015/2016      9  10/17/15 0:00       1988798              9817   \n",
       "3039  4768  2015/2016      9  10/17/15 0:00       1988799              8659   \n",
       "\n",
       "      away_team_api_id  home_team_goal  away_team_goal  B365H     ...       \\\n",
       "3035              8197               2               2   1.75     ...        \n",
       "3036             10194               0               1   2.05     ...        \n",
       "3037              8650               0               0   2.50     ...        \n",
       "3038              9825               0               3   6.00     ...        \n",
       "3039              8472               1               0   2.05     ...        \n",
       "\n",
       "      home_last_3_scored  away_last_4_concede  away_last_4_scored  \\\n",
       "3035                   8                   10                   9   \n",
       "3036                   3                    5                   5   \n",
       "3037                   7                    7                   6   \n",
       "3038                   3                    4                  10   \n",
       "3039                   3                    8                   2   \n",
       "\n",
       "      home_last_4_conceded  home_last_4_scored  away_last_5_concede  \\\n",
       "3035                     5                   8                   11   \n",
       "3036                     6                   3                    6   \n",
       "3037                     3                   8                   10   \n",
       "3038                     3                   4                    4   \n",
       "3039                     5                   3                   10   \n",
       "\n",
       "      away_last_5_scored  home_last_5_conceded  home_last_5_scored  \\\n",
       "3035                  10                     5                  11   \n",
       "3036                   5                     7                   5   \n",
       "3037                   6                     3                   8   \n",
       "3038                  11                     5                   4   \n",
       "3039                   4                     5                   4   \n",
       "\n",
       "      day_of_week  \n",
       "3035            5  \n",
       "3036            0  \n",
       "3037            5  \n",
       "3038            5  \n",
       "3039            5  \n",
       "\n",
       "[5 rows x 48 columns]"
      ]
     },
     "execution_count": 28,
     "metadata": {},
     "output_type": "execute_result"
    }
   ],
   "source": [
    "# Let's re-investigate our matches dataframe\n",
    "\n",
    "matches.tail()"
   ]
  },
  {
   "cell_type": "code",
   "execution_count": 29,
   "metadata": {
    "collapsed": false
   },
   "outputs": [],
   "source": [
    "day_of_week_dummies = pd.get_dummies(matches['day_of_week'])\n",
    "day_of_week_dummies.columns = ['Monday','Tuesday','Wednesday','Thursday','Friday','Saturday','Sunday']\n",
    "\n",
    "#Add new binary columns to matches dataframe\n",
    "\n",
    "matches['Monday'] = day_of_week_dummies.Monday\n",
    "matches['Tuesday'] = day_of_week_dummies.Tuesday\n",
    "matches['Wednesday'] = day_of_week_dummies.Wednesday\n",
    "matches['Thursday'] = day_of_week_dummies.Thursday\n",
    "matches['Friday'] = day_of_week_dummies.Friday\n",
    "matches['Saturday'] = day_of_week_dummies.Saturday\n",
    "matches['Sunday'] = day_of_week_dummies.Sunday\n",
    "\n",
    "del matches['day_of_week']\n"
   ]
  },
  {
   "cell_type": "code",
   "execution_count": 30,
   "metadata": {
    "collapsed": false
   },
   "outputs": [
    {
     "data": {
      "text/html": [
       "<div>\n",
       "<table border=\"1\" class=\"dataframe\">\n",
       "  <thead>\n",
       "    <tr style=\"text-align: right;\">\n",
       "      <th></th>\n",
       "      <th>id</th>\n",
       "      <th>season</th>\n",
       "      <th>stage</th>\n",
       "      <th>date</th>\n",
       "      <th>match_api_id</th>\n",
       "      <th>home_team_api_id</th>\n",
       "      <th>away_team_api_id</th>\n",
       "      <th>home_team_goal</th>\n",
       "      <th>away_team_goal</th>\n",
       "      <th>B365H</th>\n",
       "      <th>...</th>\n",
       "      <th>away_last_5_scored</th>\n",
       "      <th>home_last_5_conceded</th>\n",
       "      <th>home_last_5_scored</th>\n",
       "      <th>Monday</th>\n",
       "      <th>Tuesday</th>\n",
       "      <th>Wednesday</th>\n",
       "      <th>Thursday</th>\n",
       "      <th>Friday</th>\n",
       "      <th>Saturday</th>\n",
       "      <th>Sunday</th>\n",
       "    </tr>\n",
       "  </thead>\n",
       "  <tbody>\n",
       "    <tr>\n",
       "      <th>0</th>\n",
       "      <td>1729</td>\n",
       "      <td>2008/2009</td>\n",
       "      <td>1</td>\n",
       "      <td>8/17/08 0:00</td>\n",
       "      <td>489042</td>\n",
       "      <td>10260</td>\n",
       "      <td>10261</td>\n",
       "      <td>1</td>\n",
       "      <td>1</td>\n",
       "      <td>1.29</td>\n",
       "      <td>...</td>\n",
       "      <td>-1</td>\n",
       "      <td>-1</td>\n",
       "      <td>-1</td>\n",
       "      <td>0.0</td>\n",
       "      <td>0.0</td>\n",
       "      <td>0.0</td>\n",
       "      <td>0.0</td>\n",
       "      <td>0.0</td>\n",
       "      <td>0.0</td>\n",
       "      <td>1.0</td>\n",
       "    </tr>\n",
       "    <tr>\n",
       "      <th>1</th>\n",
       "      <td>1730</td>\n",
       "      <td>2008/2009</td>\n",
       "      <td>1</td>\n",
       "      <td>8/16/08 0:00</td>\n",
       "      <td>489043</td>\n",
       "      <td>9825</td>\n",
       "      <td>8659</td>\n",
       "      <td>1</td>\n",
       "      <td>0</td>\n",
       "      <td>1.20</td>\n",
       "      <td>...</td>\n",
       "      <td>-1</td>\n",
       "      <td>-1</td>\n",
       "      <td>-1</td>\n",
       "      <td>0.0</td>\n",
       "      <td>0.0</td>\n",
       "      <td>0.0</td>\n",
       "      <td>0.0</td>\n",
       "      <td>0.0</td>\n",
       "      <td>1.0</td>\n",
       "      <td>0.0</td>\n",
       "    </tr>\n",
       "    <tr>\n",
       "      <th>2</th>\n",
       "      <td>1731</td>\n",
       "      <td>2008/2009</td>\n",
       "      <td>1</td>\n",
       "      <td>8/16/08 0:00</td>\n",
       "      <td>489044</td>\n",
       "      <td>8472</td>\n",
       "      <td>8650</td>\n",
       "      <td>0</td>\n",
       "      <td>1</td>\n",
       "      <td>5.50</td>\n",
       "      <td>...</td>\n",
       "      <td>-1</td>\n",
       "      <td>-1</td>\n",
       "      <td>-1</td>\n",
       "      <td>0.0</td>\n",
       "      <td>0.0</td>\n",
       "      <td>0.0</td>\n",
       "      <td>0.0</td>\n",
       "      <td>0.0</td>\n",
       "      <td>1.0</td>\n",
       "      <td>0.0</td>\n",
       "    </tr>\n",
       "    <tr>\n",
       "      <th>3</th>\n",
       "      <td>1732</td>\n",
       "      <td>2008/2009</td>\n",
       "      <td>1</td>\n",
       "      <td>8/16/08 0:00</td>\n",
       "      <td>489045</td>\n",
       "      <td>8654</td>\n",
       "      <td>8528</td>\n",
       "      <td>2</td>\n",
       "      <td>1</td>\n",
       "      <td>1.91</td>\n",
       "      <td>...</td>\n",
       "      <td>-1</td>\n",
       "      <td>-1</td>\n",
       "      <td>-1</td>\n",
       "      <td>0.0</td>\n",
       "      <td>0.0</td>\n",
       "      <td>0.0</td>\n",
       "      <td>0.0</td>\n",
       "      <td>0.0</td>\n",
       "      <td>1.0</td>\n",
       "      <td>0.0</td>\n",
       "    </tr>\n",
       "    <tr>\n",
       "      <th>4</th>\n",
       "      <td>1733</td>\n",
       "      <td>2008/2009</td>\n",
       "      <td>1</td>\n",
       "      <td>8/17/08 0:00</td>\n",
       "      <td>489046</td>\n",
       "      <td>10252</td>\n",
       "      <td>8456</td>\n",
       "      <td>4</td>\n",
       "      <td>2</td>\n",
       "      <td>1.91</td>\n",
       "      <td>...</td>\n",
       "      <td>-1</td>\n",
       "      <td>-1</td>\n",
       "      <td>-1</td>\n",
       "      <td>0.0</td>\n",
       "      <td>0.0</td>\n",
       "      <td>0.0</td>\n",
       "      <td>0.0</td>\n",
       "      <td>0.0</td>\n",
       "      <td>0.0</td>\n",
       "      <td>1.0</td>\n",
       "    </tr>\n",
       "  </tbody>\n",
       "</table>\n",
       "<p>5 rows × 54 columns</p>\n",
       "</div>"
      ],
      "text/plain": [
       "     id     season  stage          date  match_api_id  home_team_api_id  \\\n",
       "0  1729  2008/2009      1  8/17/08 0:00        489042             10260   \n",
       "1  1730  2008/2009      1  8/16/08 0:00        489043              9825   \n",
       "2  1731  2008/2009      1  8/16/08 0:00        489044              8472   \n",
       "3  1732  2008/2009      1  8/16/08 0:00        489045              8654   \n",
       "4  1733  2008/2009      1  8/17/08 0:00        489046             10252   \n",
       "\n",
       "   away_team_api_id  home_team_goal  away_team_goal  B365H   ...    \\\n",
       "0             10261               1               1   1.29   ...     \n",
       "1              8659               1               0   1.20   ...     \n",
       "2              8650               0               1   5.50   ...     \n",
       "3              8528               2               1   1.91   ...     \n",
       "4              8456               4               2   1.91   ...     \n",
       "\n",
       "   away_last_5_scored  home_last_5_conceded  home_last_5_scored  Monday  \\\n",
       "0                  -1                    -1                  -1     0.0   \n",
       "1                  -1                    -1                  -1     0.0   \n",
       "2                  -1                    -1                  -1     0.0   \n",
       "3                  -1                    -1                  -1     0.0   \n",
       "4                  -1                    -1                  -1     0.0   \n",
       "\n",
       "   Tuesday  Wednesday  Thursday  Friday  Saturday  Sunday  \n",
       "0      0.0        0.0       0.0     0.0       0.0     1.0  \n",
       "1      0.0        0.0       0.0     0.0       1.0     0.0  \n",
       "2      0.0        0.0       0.0     0.0       1.0     0.0  \n",
       "3      0.0        0.0       0.0     0.0       1.0     0.0  \n",
       "4      0.0        0.0       0.0     0.0       0.0     1.0  \n",
       "\n",
       "[5 rows x 54 columns]"
      ]
     },
     "execution_count": 30,
     "metadata": {},
     "output_type": "execute_result"
    }
   ],
   "source": [
    "matches.head()"
   ]
  },
  {
   "cell_type": "markdown",
   "metadata": {},
   "source": [
    "### Now let's add some information about each team"
   ]
  },
  {
   "cell_type": "code",
   "execution_count": 31,
   "metadata": {
    "collapsed": false
   },
   "outputs": [
    {
     "name": "stdout",
     "output_type": "stream",
     "text": [
      "(34, 6)\n"
     ]
    },
    {
     "data": {
      "text/html": [
       "<div>\n",
       "<table border=\"1\" class=\"dataframe\">\n",
       "  <thead>\n",
       "    <tr style=\"text-align: right;\">\n",
       "      <th></th>\n",
       "      <th>id</th>\n",
       "      <th>team_api_id</th>\n",
       "      <th>team_fifa_api_id</th>\n",
       "      <th>team_long_name</th>\n",
       "      <th>team_short_name</th>\n",
       "      <th>ID</th>\n",
       "    </tr>\n",
       "  </thead>\n",
       "  <tbody>\n",
       "    <tr>\n",
       "      <th>0</th>\n",
       "      <td>3457</td>\n",
       "      <td>10260</td>\n",
       "      <td>11</td>\n",
       "      <td>Manchester United</td>\n",
       "      <td>MUN</td>\n",
       "      <td>10260</td>\n",
       "    </tr>\n",
       "    <tr>\n",
       "      <th>1</th>\n",
       "      <td>3458</td>\n",
       "      <td>10261</td>\n",
       "      <td>13</td>\n",
       "      <td>Newcastle United</td>\n",
       "      <td>NEW</td>\n",
       "      <td>10261</td>\n",
       "    </tr>\n",
       "    <tr>\n",
       "      <th>2</th>\n",
       "      <td>3459</td>\n",
       "      <td>9825</td>\n",
       "      <td>1</td>\n",
       "      <td>Arsenal</td>\n",
       "      <td>ARS</td>\n",
       "      <td>9825</td>\n",
       "    </tr>\n",
       "    <tr>\n",
       "      <th>3</th>\n",
       "      <td>3460</td>\n",
       "      <td>8659</td>\n",
       "      <td>109</td>\n",
       "      <td>West Bromwich Albion</td>\n",
       "      <td>WBA</td>\n",
       "      <td>8659</td>\n",
       "    </tr>\n",
       "    <tr>\n",
       "      <th>4</th>\n",
       "      <td>3461</td>\n",
       "      <td>8472</td>\n",
       "      <td>106</td>\n",
       "      <td>Sunderland</td>\n",
       "      <td>SUN</td>\n",
       "      <td>8472</td>\n",
       "    </tr>\n",
       "  </tbody>\n",
       "</table>\n",
       "</div>"
      ],
      "text/plain": [
       "     id  team_api_id  team_fifa_api_id        team_long_name team_short_name  \\\n",
       "0  3457        10260                11     Manchester United             MUN   \n",
       "1  3458        10261                13      Newcastle United             NEW   \n",
       "2  3459         9825                 1               Arsenal             ARS   \n",
       "3  3460         8659               109  West Bromwich Albion             WBA   \n",
       "4  3461         8472               106            Sunderland             SUN   \n",
       "\n",
       "      ID  \n",
       "0  10260  \n",
       "1  10261  \n",
       "2   9825  \n",
       "3   8659  \n",
       "4   8472  "
      ]
     },
     "execution_count": 31,
     "metadata": {},
     "output_type": "execute_result"
    }
   ],
   "source": [
    "teams = pd.read_csv('/Users/mtetkosk/Google Drive/Data Science Projects/data/processed/EPL_teams.csv')\n",
    "print teams.shape\n",
    "teams.head()"
   ]
  },
  {
   "cell_type": "code",
   "execution_count": 32,
   "metadata": {
    "collapsed": false
   },
   "outputs": [
    {
     "data": {
      "text/html": [
       "<div>\n",
       "<table border=\"1\" class=\"dataframe\">\n",
       "  <thead>\n",
       "    <tr style=\"text-align: right;\">\n",
       "      <th></th>\n",
       "      <th>team_api_id</th>\n",
       "      <th>team_long_name</th>\n",
       "    </tr>\n",
       "  </thead>\n",
       "  <tbody>\n",
       "    <tr>\n",
       "      <th>0</th>\n",
       "      <td>10260</td>\n",
       "      <td>Manchester United</td>\n",
       "    </tr>\n",
       "    <tr>\n",
       "      <th>1</th>\n",
       "      <td>10261</td>\n",
       "      <td>Newcastle United</td>\n",
       "    </tr>\n",
       "    <tr>\n",
       "      <th>2</th>\n",
       "      <td>9825</td>\n",
       "      <td>Arsenal</td>\n",
       "    </tr>\n",
       "    <tr>\n",
       "      <th>3</th>\n",
       "      <td>8659</td>\n",
       "      <td>West Bromwich Albion</td>\n",
       "    </tr>\n",
       "    <tr>\n",
       "      <th>4</th>\n",
       "      <td>8472</td>\n",
       "      <td>Sunderland</td>\n",
       "    </tr>\n",
       "  </tbody>\n",
       "</table>\n",
       "</div>"
      ],
      "text/plain": [
       "   team_api_id        team_long_name\n",
       "0        10260     Manchester United\n",
       "1        10261      Newcastle United\n",
       "2         9825               Arsenal\n",
       "3         8659  West Bromwich Albion\n",
       "4         8472            Sunderland"
      ]
     },
     "execution_count": 32,
     "metadata": {},
     "output_type": "execute_result"
    }
   ],
   "source": [
    "#Let's reduce the dataframe only to the columns we need\n",
    "keepcols = ['team_api_id','team_long_name']\n",
    "\n",
    "for col in teams.columns:\n",
    "    if col not in keepcols:\n",
    "        del teams[col]\n",
    "\n",
    "teams.head()"
   ]
  },
  {
   "cell_type": "code",
   "execution_count": 33,
   "metadata": {
    "collapsed": false
   },
   "outputs": [
    {
     "data": {
      "text/html": [
       "<div>\n",
       "<table border=\"1\" class=\"dataframe\">\n",
       "  <thead>\n",
       "    <tr style=\"text-align: right;\">\n",
       "      <th></th>\n",
       "      <th>id</th>\n",
       "      <th>season</th>\n",
       "      <th>stage</th>\n",
       "      <th>date</th>\n",
       "      <th>match_api_id</th>\n",
       "      <th>home_team_api_id</th>\n",
       "      <th>away_team_api_id</th>\n",
       "      <th>home_team_goal</th>\n",
       "      <th>away_team_goal</th>\n",
       "      <th>B365H</th>\n",
       "      <th>...</th>\n",
       "      <th>Tuesday</th>\n",
       "      <th>Wednesday</th>\n",
       "      <th>Thursday</th>\n",
       "      <th>Friday</th>\n",
       "      <th>Saturday</th>\n",
       "      <th>Sunday</th>\n",
       "      <th>team_api_id_x</th>\n",
       "      <th>team_long_name_x</th>\n",
       "      <th>team_api_id_y</th>\n",
       "      <th>team_long_name_y</th>\n",
       "    </tr>\n",
       "  </thead>\n",
       "  <tbody>\n",
       "    <tr>\n",
       "      <th>0</th>\n",
       "      <td>1729</td>\n",
       "      <td>2008/2009</td>\n",
       "      <td>1</td>\n",
       "      <td>8/17/08 0:00</td>\n",
       "      <td>489042</td>\n",
       "      <td>10260</td>\n",
       "      <td>10261</td>\n",
       "      <td>1</td>\n",
       "      <td>1</td>\n",
       "      <td>1.29</td>\n",
       "      <td>...</td>\n",
       "      <td>0.0</td>\n",
       "      <td>0.0</td>\n",
       "      <td>0.0</td>\n",
       "      <td>0.0</td>\n",
       "      <td>0.0</td>\n",
       "      <td>1.0</td>\n",
       "      <td>10260</td>\n",
       "      <td>Manchester United</td>\n",
       "      <td>10261</td>\n",
       "      <td>Newcastle United</td>\n",
       "    </tr>\n",
       "    <tr>\n",
       "      <th>1</th>\n",
       "      <td>1730</td>\n",
       "      <td>2008/2009</td>\n",
       "      <td>1</td>\n",
       "      <td>8/16/08 0:00</td>\n",
       "      <td>489043</td>\n",
       "      <td>9825</td>\n",
       "      <td>8659</td>\n",
       "      <td>1</td>\n",
       "      <td>0</td>\n",
       "      <td>1.20</td>\n",
       "      <td>...</td>\n",
       "      <td>0.0</td>\n",
       "      <td>0.0</td>\n",
       "      <td>0.0</td>\n",
       "      <td>0.0</td>\n",
       "      <td>1.0</td>\n",
       "      <td>0.0</td>\n",
       "      <td>9825</td>\n",
       "      <td>Arsenal</td>\n",
       "      <td>8659</td>\n",
       "      <td>West Bromwich Albion</td>\n",
       "    </tr>\n",
       "    <tr>\n",
       "      <th>2</th>\n",
       "      <td>1731</td>\n",
       "      <td>2008/2009</td>\n",
       "      <td>1</td>\n",
       "      <td>8/16/08 0:00</td>\n",
       "      <td>489044</td>\n",
       "      <td>8472</td>\n",
       "      <td>8650</td>\n",
       "      <td>0</td>\n",
       "      <td>1</td>\n",
       "      <td>5.50</td>\n",
       "      <td>...</td>\n",
       "      <td>0.0</td>\n",
       "      <td>0.0</td>\n",
       "      <td>0.0</td>\n",
       "      <td>0.0</td>\n",
       "      <td>1.0</td>\n",
       "      <td>0.0</td>\n",
       "      <td>8472</td>\n",
       "      <td>Sunderland</td>\n",
       "      <td>8650</td>\n",
       "      <td>Liverpool</td>\n",
       "    </tr>\n",
       "    <tr>\n",
       "      <th>3</th>\n",
       "      <td>1732</td>\n",
       "      <td>2008/2009</td>\n",
       "      <td>1</td>\n",
       "      <td>8/16/08 0:00</td>\n",
       "      <td>489045</td>\n",
       "      <td>8654</td>\n",
       "      <td>8528</td>\n",
       "      <td>2</td>\n",
       "      <td>1</td>\n",
       "      <td>1.91</td>\n",
       "      <td>...</td>\n",
       "      <td>0.0</td>\n",
       "      <td>0.0</td>\n",
       "      <td>0.0</td>\n",
       "      <td>0.0</td>\n",
       "      <td>1.0</td>\n",
       "      <td>0.0</td>\n",
       "      <td>8654</td>\n",
       "      <td>West Ham United</td>\n",
       "      <td>8528</td>\n",
       "      <td>Wigan Athletic</td>\n",
       "    </tr>\n",
       "    <tr>\n",
       "      <th>4</th>\n",
       "      <td>1733</td>\n",
       "      <td>2008/2009</td>\n",
       "      <td>1</td>\n",
       "      <td>8/17/08 0:00</td>\n",
       "      <td>489046</td>\n",
       "      <td>10252</td>\n",
       "      <td>8456</td>\n",
       "      <td>4</td>\n",
       "      <td>2</td>\n",
       "      <td>1.91</td>\n",
       "      <td>...</td>\n",
       "      <td>0.0</td>\n",
       "      <td>0.0</td>\n",
       "      <td>0.0</td>\n",
       "      <td>0.0</td>\n",
       "      <td>0.0</td>\n",
       "      <td>1.0</td>\n",
       "      <td>10252</td>\n",
       "      <td>Aston Villa</td>\n",
       "      <td>8456</td>\n",
       "      <td>Manchester City</td>\n",
       "    </tr>\n",
       "  </tbody>\n",
       "</table>\n",
       "<p>5 rows × 58 columns</p>\n",
       "</div>"
      ],
      "text/plain": [
       "     id     season  stage          date  match_api_id  home_team_api_id  \\\n",
       "0  1729  2008/2009      1  8/17/08 0:00        489042             10260   \n",
       "1  1730  2008/2009      1  8/16/08 0:00        489043              9825   \n",
       "2  1731  2008/2009      1  8/16/08 0:00        489044              8472   \n",
       "3  1732  2008/2009      1  8/16/08 0:00        489045              8654   \n",
       "4  1733  2008/2009      1  8/17/08 0:00        489046             10252   \n",
       "\n",
       "   away_team_api_id  home_team_goal  away_team_goal  B365H  \\\n",
       "0             10261               1               1   1.29   \n",
       "1              8659               1               0   1.20   \n",
       "2              8650               0               1   5.50   \n",
       "3              8528               2               1   1.91   \n",
       "4              8456               4               2   1.91   \n",
       "\n",
       "           ...           Tuesday  Wednesday  Thursday  Friday  Saturday  \\\n",
       "0          ...               0.0        0.0       0.0     0.0       0.0   \n",
       "1          ...               0.0        0.0       0.0     0.0       1.0   \n",
       "2          ...               0.0        0.0       0.0     0.0       1.0   \n",
       "3          ...               0.0        0.0       0.0     0.0       1.0   \n",
       "4          ...               0.0        0.0       0.0     0.0       0.0   \n",
       "\n",
       "   Sunday  team_api_id_x   team_long_name_x  team_api_id_y  \\\n",
       "0     1.0          10260  Manchester United          10261   \n",
       "1     0.0           9825            Arsenal           8659   \n",
       "2     0.0           8472         Sunderland           8650   \n",
       "3     0.0           8654    West Ham United           8528   \n",
       "4     1.0          10252        Aston Villa           8456   \n",
       "\n",
       "       team_long_name_y  \n",
       "0      Newcastle United  \n",
       "1  West Bromwich Albion  \n",
       "2             Liverpool  \n",
       "3        Wigan Athletic  \n",
       "4       Manchester City  \n",
       "\n",
       "[5 rows x 58 columns]"
      ]
     },
     "execution_count": 33,
     "metadata": {},
     "output_type": "execute_result"
    }
   ],
   "source": [
    "matches = matches.merge(teams,how = 'left', left_on = 'home_team_api_id', right_on = 'team_api_id' )\n",
    "matches = matches.merge(teams,how = 'left', left_on = 'away_team_api_id', right_on = 'team_api_id')\n",
    "\n",
    "matches.head()"
   ]
  },
  {
   "cell_type": "code",
   "execution_count": 34,
   "metadata": {
    "collapsed": true
   },
   "outputs": [],
   "source": [
    "remove_cols = ['team_api_id_x','team_api_id_y']\n",
    "\n",
    "for col in matches.columns:\n",
    "    if col in remove_cols:\n",
    "        del matches[col]\n",
    "        \n",
    "matches.rename(columns={'team_long_name_x': 'Home_Team', 'team_long_name_y': 'Away_Team'}, inplace=True)"
   ]
  },
  {
   "cell_type": "code",
   "execution_count": 35,
   "metadata": {
    "collapsed": false
   },
   "outputs": [
    {
     "data": {
      "text/plain": [
       "2009/2010    380\n",
       "2013/2014    380\n",
       "2010/2011    380\n",
       "2011/2012    380\n",
       "2012/2013    380\n",
       "2014/2015    380\n",
       "2008/2009    380\n",
       "2015/2016    380\n",
       "Name: season, dtype: int64"
      ]
     },
     "execution_count": 35,
     "metadata": {},
     "output_type": "execute_result"
    }
   ],
   "source": [
    "matches.season.value_counts()"
   ]
  },
  {
   "cell_type": "code",
   "execution_count": 36,
   "metadata": {
    "collapsed": false
   },
   "outputs": [
    {
     "name": "stdout",
     "output_type": "stream",
     "text": [
      "     id     season  stage          date  match_api_id  home_team_api_id  \\\n",
      "0  1729  2008/2009      1  8/17/08 0:00        489042             10260   \n",
      "1  1730  2008/2009      1  8/16/08 0:00        489043              9825   \n",
      "2  1731  2008/2009      1  8/16/08 0:00        489044              8472   \n",
      "3  1732  2008/2009      1  8/16/08 0:00        489045              8654   \n",
      "4  1733  2008/2009      1  8/17/08 0:00        489046             10252   \n",
      "\n",
      "   away_team_api_id  home_team_goal  away_team_goal  B365H  \\\n",
      "0             10261               1               1   1.29   \n",
      "1              8659               1               0   1.20   \n",
      "2              8650               0               1   5.50   \n",
      "3              8528               2               1   1.91   \n",
      "4              8456               4               2   1.91   \n",
      "\n",
      "           ...           home_last_5_scored  Monday  Tuesday  Wednesday  \\\n",
      "0          ...                           -1     0.0      0.0        0.0   \n",
      "1          ...                           -1     0.0      0.0        0.0   \n",
      "2          ...                           -1     0.0      0.0        0.0   \n",
      "3          ...                           -1     0.0      0.0        0.0   \n",
      "4          ...                           -1     0.0      0.0        0.0   \n",
      "\n",
      "   Thursday  Friday  Saturday  Sunday          Home_Team             Away_Team  \n",
      "0       0.0     0.0       0.0     1.0  Manchester United      Newcastle United  \n",
      "1       0.0     0.0       1.0     0.0            Arsenal  West Bromwich Albion  \n",
      "2       0.0     0.0       1.0     0.0         Sunderland             Liverpool  \n",
      "3       0.0     0.0       1.0     0.0    West Ham United        Wigan Athletic  \n",
      "4       0.0     0.0       0.0     1.0        Aston Villa       Manchester City  \n",
      "\n",
      "[5 rows x 56 columns]\n",
      "(3040, 56)\n"
     ]
    }
   ],
   "source": [
    "print matches.head()\n",
    "print matches.shape  # We now have 56 total columns (some of them we will get rid of..)"
   ]
  },
  {
   "cell_type": "markdown",
   "metadata": {},
   "source": [
    "### Load Team Attributes"
   ]
  },
  {
   "cell_type": "code",
   "execution_count": 37,
   "metadata": {
    "collapsed": false
   },
   "outputs": [
    {
     "data": {
      "text/html": [
       "<div>\n",
       "<table border=\"1\" class=\"dataframe\">\n",
       "  <thead>\n",
       "    <tr style=\"text-align: right;\">\n",
       "      <th></th>\n",
       "      <th>id</th>\n",
       "      <th>team_fifa_api_id</th>\n",
       "      <th>team_api_id</th>\n",
       "      <th>date</th>\n",
       "      <th>buildUpPlaySpeed</th>\n",
       "      <th>buildUpPlaySpeedClass</th>\n",
       "      <th>buildUpPlayDribbling</th>\n",
       "      <th>buildUpPlayDribblingClass</th>\n",
       "      <th>buildUpPlayPassing</th>\n",
       "      <th>buildUpPlayPassingClass</th>\n",
       "      <th>...</th>\n",
       "      <th>chanceCreationShootingClass</th>\n",
       "      <th>chanceCreationPositioningClass</th>\n",
       "      <th>defencePressure</th>\n",
       "      <th>defencePressureClass</th>\n",
       "      <th>defenceAggression</th>\n",
       "      <th>defenceAggressionClass</th>\n",
       "      <th>defenceTeamWidth</th>\n",
       "      <th>defenceTeamWidthClass</th>\n",
       "      <th>defenceDefenderLineClass</th>\n",
       "      <th>ID</th>\n",
       "    </tr>\n",
       "  </thead>\n",
       "  <tbody>\n",
       "    <tr>\n",
       "      <th>0</th>\n",
       "      <td>71</td>\n",
       "      <td>1</td>\n",
       "      <td>9825</td>\n",
       "      <td>2/22/10 0:00</td>\n",
       "      <td>66</td>\n",
       "      <td>Balanced</td>\n",
       "      <td>NaN</td>\n",
       "      <td>Little</td>\n",
       "      <td>30</td>\n",
       "      <td>Short</td>\n",
       "      <td>...</td>\n",
       "      <td>Normal</td>\n",
       "      <td>Free Form</td>\n",
       "      <td>30</td>\n",
       "      <td>Deep</td>\n",
       "      <td>40</td>\n",
       "      <td>Press</td>\n",
       "      <td>50</td>\n",
       "      <td>Normal</td>\n",
       "      <td>Cover</td>\n",
       "      <td>9825</td>\n",
       "    </tr>\n",
       "    <tr>\n",
       "      <th>1</th>\n",
       "      <td>72</td>\n",
       "      <td>1</td>\n",
       "      <td>9825</td>\n",
       "      <td>2/22/11 0:00</td>\n",
       "      <td>75</td>\n",
       "      <td>Fast</td>\n",
       "      <td>NaN</td>\n",
       "      <td>Little</td>\n",
       "      <td>40</td>\n",
       "      <td>Mixed</td>\n",
       "      <td>...</td>\n",
       "      <td>Normal</td>\n",
       "      <td>Free Form</td>\n",
       "      <td>50</td>\n",
       "      <td>Medium</td>\n",
       "      <td>40</td>\n",
       "      <td>Press</td>\n",
       "      <td>45</td>\n",
       "      <td>Normal</td>\n",
       "      <td>Cover</td>\n",
       "      <td>9825</td>\n",
       "    </tr>\n",
       "    <tr>\n",
       "      <th>2</th>\n",
       "      <td>73</td>\n",
       "      <td>1</td>\n",
       "      <td>9825</td>\n",
       "      <td>2/22/12 0:00</td>\n",
       "      <td>25</td>\n",
       "      <td>Slow</td>\n",
       "      <td>NaN</td>\n",
       "      <td>Little</td>\n",
       "      <td>32</td>\n",
       "      <td>Short</td>\n",
       "      <td>...</td>\n",
       "      <td>Little</td>\n",
       "      <td>Free Form</td>\n",
       "      <td>57</td>\n",
       "      <td>Medium</td>\n",
       "      <td>57</td>\n",
       "      <td>Press</td>\n",
       "      <td>52</td>\n",
       "      <td>Normal</td>\n",
       "      <td>Cover</td>\n",
       "      <td>9825</td>\n",
       "    </tr>\n",
       "    <tr>\n",
       "      <th>3</th>\n",
       "      <td>74</td>\n",
       "      <td>1</td>\n",
       "      <td>9825</td>\n",
       "      <td>9/20/13 0:00</td>\n",
       "      <td>30</td>\n",
       "      <td>Slow</td>\n",
       "      <td>NaN</td>\n",
       "      <td>Little</td>\n",
       "      <td>29</td>\n",
       "      <td>Short</td>\n",
       "      <td>...</td>\n",
       "      <td>Normal</td>\n",
       "      <td>Free Form</td>\n",
       "      <td>64</td>\n",
       "      <td>Medium</td>\n",
       "      <td>54</td>\n",
       "      <td>Press</td>\n",
       "      <td>52</td>\n",
       "      <td>Normal</td>\n",
       "      <td>Cover</td>\n",
       "      <td>9825</td>\n",
       "    </tr>\n",
       "    <tr>\n",
       "      <th>4</th>\n",
       "      <td>75</td>\n",
       "      <td>1</td>\n",
       "      <td>9825</td>\n",
       "      <td>9/19/14 0:00</td>\n",
       "      <td>59</td>\n",
       "      <td>Balanced</td>\n",
       "      <td>51.0</td>\n",
       "      <td>Normal</td>\n",
       "      <td>26</td>\n",
       "      <td>Short</td>\n",
       "      <td>...</td>\n",
       "      <td>Normal</td>\n",
       "      <td>Free Form</td>\n",
       "      <td>51</td>\n",
       "      <td>Medium</td>\n",
       "      <td>44</td>\n",
       "      <td>Press</td>\n",
       "      <td>52</td>\n",
       "      <td>Normal</td>\n",
       "      <td>Cover</td>\n",
       "      <td>9825</td>\n",
       "    </tr>\n",
       "  </tbody>\n",
       "</table>\n",
       "<p>5 rows × 26 columns</p>\n",
       "</div>"
      ],
      "text/plain": [
       "   id  team_fifa_api_id  team_api_id          date  buildUpPlaySpeed  \\\n",
       "0  71                 1         9825  2/22/10 0:00                66   \n",
       "1  72                 1         9825  2/22/11 0:00                75   \n",
       "2  73                 1         9825  2/22/12 0:00                25   \n",
       "3  74                 1         9825  9/20/13 0:00                30   \n",
       "4  75                 1         9825  9/19/14 0:00                59   \n",
       "\n",
       "  buildUpPlaySpeedClass  buildUpPlayDribbling buildUpPlayDribblingClass  \\\n",
       "0              Balanced                   NaN                    Little   \n",
       "1                  Fast                   NaN                    Little   \n",
       "2                  Slow                   NaN                    Little   \n",
       "3                  Slow                   NaN                    Little   \n",
       "4              Balanced                  51.0                    Normal   \n",
       "\n",
       "   buildUpPlayPassing buildUpPlayPassingClass  ...   \\\n",
       "0                  30                   Short  ...    \n",
       "1                  40                   Mixed  ...    \n",
       "2                  32                   Short  ...    \n",
       "3                  29                   Short  ...    \n",
       "4                  26                   Short  ...    \n",
       "\n",
       "  chanceCreationShootingClass  chanceCreationPositioningClass defencePressure  \\\n",
       "0                      Normal                       Free Form              30   \n",
       "1                      Normal                       Free Form              50   \n",
       "2                      Little                       Free Form              57   \n",
       "3                      Normal                       Free Form              64   \n",
       "4                      Normal                       Free Form              51   \n",
       "\n",
       "   defencePressureClass defenceAggression  defenceAggressionClass  \\\n",
       "0                  Deep                40                   Press   \n",
       "1                Medium                40                   Press   \n",
       "2                Medium                57                   Press   \n",
       "3                Medium                54                   Press   \n",
       "4                Medium                44                   Press   \n",
       "\n",
       "  defenceTeamWidth defenceTeamWidthClass  defenceDefenderLineClass    ID  \n",
       "0               50                Normal                     Cover  9825  \n",
       "1               45                Normal                     Cover  9825  \n",
       "2               52                Normal                     Cover  9825  \n",
       "3               52                Normal                     Cover  9825  \n",
       "4               52                Normal                     Cover  9825  \n",
       "\n",
       "[5 rows x 26 columns]"
      ]
     },
     "execution_count": 37,
     "metadata": {},
     "output_type": "execute_result"
    }
   ],
   "source": [
    "team_attributes = pd.read_csv('/Users/mtetkosk/Google Drive/Data Science Projects/data/processed/EPL_team_attributes.csv')\n",
    "team_attributes.head()"
   ]
  },
  {
   "cell_type": "code",
   "execution_count": 38,
   "metadata": {
    "collapsed": false
   },
   "outputs": [
    {
     "data": {
      "text/plain": [
       "Index([u'id', u'team_fifa_api_id', u'team_api_id', u'date',\n",
       "       u'buildUpPlaySpeed', u'buildUpPlaySpeedClass', u'buildUpPlayDribbling',\n",
       "       u'buildUpPlayDribblingClass', u'buildUpPlayPassing',\n",
       "       u'buildUpPlayPassingClass', u'buildUpPlayPositioningClass',\n",
       "       u'chanceCreationPassing', u'chanceCreationPassingClass',\n",
       "       u'chanceCreationCrossing', u'chanceCreationCrossingClass',\n",
       "       u'chanceCreationShooting', u'chanceCreationShootingClass',\n",
       "       u'chanceCreationPositioningClass', u'defencePressure',\n",
       "       u'defencePressureClass', u'defenceAggression',\n",
       "       u'defenceAggressionClass', u'defenceTeamWidth',\n",
       "       u'defenceTeamWidthClass', u'defenceDefenderLineClass', u'ID'],\n",
       "      dtype='object')"
      ]
     },
     "execution_count": 38,
     "metadata": {},
     "output_type": "execute_result"
    }
   ],
   "source": [
    "# Let's see what columns make up this dataframe\n",
    "team_attributes.columns"
   ]
  },
  {
   "cell_type": "code",
   "execution_count": 39,
   "metadata": {
    "collapsed": false
   },
   "outputs": [
    {
     "data": {
      "text/plain": [
       "(204, 16)"
      ]
     },
     "execution_count": 39,
     "metadata": {},
     "output_type": "execute_result"
    }
   ],
   "source": [
    "# Remove columns that we won't use\n",
    "remove_cols = ['buildUpPlaySpeedClass','buildUpPlayDribbling','buildUpPlayPassingClass','chanceCreationPassingClass',\\\n",
    "               'chanceCreationCrossingClass','chanceCreationShootingClass','defencePressureClass','defenceAggressionClass',\\\n",
    "               'defenceTeamWidthClass','ID']\n",
    "\n",
    "for col in team_attributes.columns:\n",
    "    if col in remove_cols:\n",
    "        del team_attributes[col]\n",
    "        \n",
    "team_attributes.shape ## Now we have just 16 columns"
   ]
  },
  {
   "cell_type": "code",
   "execution_count": 40,
   "metadata": {
    "collapsed": false
   },
   "outputs": [],
   "source": [
    "# Split dates to get just the date component\n",
    "dates_raw = team_attributes['date'].tolist()\n",
    "dates_split = []\n",
    "for date in dates_raw:\n",
    "    dates_split.append(date.split(' ')[0])"
   ]
  },
  {
   "cell_type": "code",
   "execution_count": 41,
   "metadata": {
    "collapsed": true
   },
   "outputs": [],
   "source": [
    "# Extract the year and month from each record and append to team_attributes dataframe\n",
    "team_attributes['month'] = map(lambda x: time.strptime(x,'%m/%d/%y').tm_mon ,dates_split)\n",
    "team_attributes['year'] = map(lambda x: time.strptime(x,'%m/%d/%y').tm_year ,dates_split)"
   ]
  },
  {
   "cell_type": "code",
   "execution_count": 42,
   "metadata": {
    "collapsed": false
   },
   "outputs": [],
   "source": [
    "def DetermineSeason(df):\n",
    "    if df['year'] == 2008:\n",
    "        return '2008/2009'\n",
    "    if df['year'] == 2009:\n",
    "        if df['month'] < 8:\n",
    "            return '2008/2009'\n",
    "        else:\n",
    "            return '2009/2010'\n",
    "    if df['year'] == 2010:\n",
    "        if df['month'] < 8:\n",
    "            return '2009/2010'\n",
    "        else:\n",
    "            return '2010/2011'\n",
    "    if df['year'] == 2011:\n",
    "        if df['month'] < 8:\n",
    "            return '2010/2011'\n",
    "        else:\n",
    "            return '2011/2012'\n",
    "    if df['year'] == 2012:\n",
    "        if df['month'] < 8:\n",
    "            return '2011/2012'\n",
    "        else:\n",
    "            return '2012/2013'\n",
    "    if df['year'] == 2013:\n",
    "        if df['month'] < 8:\n",
    "            return '2012/2013'\n",
    "        else:\n",
    "            return '2013/2014'\n",
    "    if df['year'] == 2014:\n",
    "        if df['month'] < 8:\n",
    "            return '2013/2014'\n",
    "        else:\n",
    "            return '2014/2015'\n",
    "    if df['year'] == 2015:\n",
    "        if df['month'] < 8:\n",
    "            return '2014/2015'\n",
    "        else:\n",
    "            return '2015/2016'\n",
    "    if df['year'] == 2016:\n",
    "        if df['month'] < 8:\n",
    "            return '2015/2016'\n",
    "        else:\n",
    "            return '2016/2017'"
   ]
  },
  {
   "cell_type": "code",
   "execution_count": 43,
   "metadata": {
    "collapsed": false
   },
   "outputs": [],
   "source": [
    "team_attributes['season'] = team_attributes.apply(DetermineSeason, axis = 1)"
   ]
  },
  {
   "cell_type": "code",
   "execution_count": 44,
   "metadata": {
    "collapsed": false
   },
   "outputs": [
    {
     "data": {
      "text/html": [
       "<div>\n",
       "<table border=\"1\" class=\"dataframe\">\n",
       "  <thead>\n",
       "    <tr style=\"text-align: right;\">\n",
       "      <th></th>\n",
       "      <th>id</th>\n",
       "      <th>team_fifa_api_id</th>\n",
       "      <th>team_api_id</th>\n",
       "      <th>date</th>\n",
       "      <th>buildUpPlaySpeed</th>\n",
       "      <th>buildUpPlayDribblingClass</th>\n",
       "      <th>buildUpPlayPassing</th>\n",
       "      <th>buildUpPlayPositioningClass</th>\n",
       "      <th>chanceCreationPassing</th>\n",
       "      <th>chanceCreationCrossing</th>\n",
       "      <th>chanceCreationShooting</th>\n",
       "      <th>chanceCreationPositioningClass</th>\n",
       "      <th>defencePressure</th>\n",
       "      <th>defenceAggression</th>\n",
       "      <th>defenceTeamWidth</th>\n",
       "      <th>defenceDefenderLineClass</th>\n",
       "      <th>month</th>\n",
       "      <th>year</th>\n",
       "      <th>season</th>\n",
       "    </tr>\n",
       "  </thead>\n",
       "  <tbody>\n",
       "    <tr>\n",
       "      <th>0</th>\n",
       "      <td>71</td>\n",
       "      <td>1</td>\n",
       "      <td>9825</td>\n",
       "      <td>2/22/10 0:00</td>\n",
       "      <td>66</td>\n",
       "      <td>Little</td>\n",
       "      <td>30</td>\n",
       "      <td>Free Form</td>\n",
       "      <td>30</td>\n",
       "      <td>45</td>\n",
       "      <td>35</td>\n",
       "      <td>Free Form</td>\n",
       "      <td>30</td>\n",
       "      <td>40</td>\n",
       "      <td>50</td>\n",
       "      <td>Cover</td>\n",
       "      <td>2</td>\n",
       "      <td>2010</td>\n",
       "      <td>2009/2010</td>\n",
       "    </tr>\n",
       "    <tr>\n",
       "      <th>1</th>\n",
       "      <td>72</td>\n",
       "      <td>1</td>\n",
       "      <td>9825</td>\n",
       "      <td>2/22/11 0:00</td>\n",
       "      <td>75</td>\n",
       "      <td>Little</td>\n",
       "      <td>40</td>\n",
       "      <td>Free Form</td>\n",
       "      <td>40</td>\n",
       "      <td>45</td>\n",
       "      <td>65</td>\n",
       "      <td>Free Form</td>\n",
       "      <td>50</td>\n",
       "      <td>40</td>\n",
       "      <td>45</td>\n",
       "      <td>Cover</td>\n",
       "      <td>2</td>\n",
       "      <td>2011</td>\n",
       "      <td>2010/2011</td>\n",
       "    </tr>\n",
       "    <tr>\n",
       "      <th>2</th>\n",
       "      <td>73</td>\n",
       "      <td>1</td>\n",
       "      <td>9825</td>\n",
       "      <td>2/22/12 0:00</td>\n",
       "      <td>25</td>\n",
       "      <td>Little</td>\n",
       "      <td>32</td>\n",
       "      <td>Organised</td>\n",
       "      <td>41</td>\n",
       "      <td>34</td>\n",
       "      <td>30</td>\n",
       "      <td>Free Form</td>\n",
       "      <td>57</td>\n",
       "      <td>57</td>\n",
       "      <td>52</td>\n",
       "      <td>Cover</td>\n",
       "      <td>2</td>\n",
       "      <td>2012</td>\n",
       "      <td>2011/2012</td>\n",
       "    </tr>\n",
       "    <tr>\n",
       "      <th>3</th>\n",
       "      <td>74</td>\n",
       "      <td>1</td>\n",
       "      <td>9825</td>\n",
       "      <td>9/20/13 0:00</td>\n",
       "      <td>30</td>\n",
       "      <td>Little</td>\n",
       "      <td>29</td>\n",
       "      <td>Organised</td>\n",
       "      <td>41</td>\n",
       "      <td>55</td>\n",
       "      <td>39</td>\n",
       "      <td>Free Form</td>\n",
       "      <td>64</td>\n",
       "      <td>54</td>\n",
       "      <td>52</td>\n",
       "      <td>Cover</td>\n",
       "      <td>9</td>\n",
       "      <td>2013</td>\n",
       "      <td>2013/2014</td>\n",
       "    </tr>\n",
       "    <tr>\n",
       "      <th>4</th>\n",
       "      <td>75</td>\n",
       "      <td>1</td>\n",
       "      <td>9825</td>\n",
       "      <td>9/19/14 0:00</td>\n",
       "      <td>59</td>\n",
       "      <td>Normal</td>\n",
       "      <td>26</td>\n",
       "      <td>Organised</td>\n",
       "      <td>28</td>\n",
       "      <td>55</td>\n",
       "      <td>64</td>\n",
       "      <td>Free Form</td>\n",
       "      <td>51</td>\n",
       "      <td>44</td>\n",
       "      <td>52</td>\n",
       "      <td>Cover</td>\n",
       "      <td>9</td>\n",
       "      <td>2014</td>\n",
       "      <td>2014/2015</td>\n",
       "    </tr>\n",
       "    <tr>\n",
       "      <th>5</th>\n",
       "      <td>76</td>\n",
       "      <td>1</td>\n",
       "      <td>9825</td>\n",
       "      <td>9/10/15 0:00</td>\n",
       "      <td>59</td>\n",
       "      <td>Normal</td>\n",
       "      <td>30</td>\n",
       "      <td>Organised</td>\n",
       "      <td>28</td>\n",
       "      <td>44</td>\n",
       "      <td>46</td>\n",
       "      <td>Free Form</td>\n",
       "      <td>51</td>\n",
       "      <td>44</td>\n",
       "      <td>52</td>\n",
       "      <td>Cover</td>\n",
       "      <td>9</td>\n",
       "      <td>2015</td>\n",
       "      <td>2015/2016</td>\n",
       "    </tr>\n",
       "    <tr>\n",
       "      <th>6</th>\n",
       "      <td>77</td>\n",
       "      <td>2</td>\n",
       "      <td>10252</td>\n",
       "      <td>2/22/10 0:00</td>\n",
       "      <td>70</td>\n",
       "      <td>Little</td>\n",
       "      <td>59</td>\n",
       "      <td>Organised</td>\n",
       "      <td>65</td>\n",
       "      <td>70</td>\n",
       "      <td>50</td>\n",
       "      <td>Free Form</td>\n",
       "      <td>30</td>\n",
       "      <td>70</td>\n",
       "      <td>30</td>\n",
       "      <td>Cover</td>\n",
       "      <td>2</td>\n",
       "      <td>2010</td>\n",
       "      <td>2009/2010</td>\n",
       "    </tr>\n",
       "    <tr>\n",
       "      <th>7</th>\n",
       "      <td>78</td>\n",
       "      <td>2</td>\n",
       "      <td>10252</td>\n",
       "      <td>2/22/11 0:00</td>\n",
       "      <td>65</td>\n",
       "      <td>Little</td>\n",
       "      <td>50</td>\n",
       "      <td>Organised</td>\n",
       "      <td>45</td>\n",
       "      <td>55</td>\n",
       "      <td>50</td>\n",
       "      <td>Organised</td>\n",
       "      <td>35</td>\n",
       "      <td>45</td>\n",
       "      <td>65</td>\n",
       "      <td>Cover</td>\n",
       "      <td>2</td>\n",
       "      <td>2011</td>\n",
       "      <td>2010/2011</td>\n",
       "    </tr>\n",
       "    <tr>\n",
       "      <th>8</th>\n",
       "      <td>79</td>\n",
       "      <td>2</td>\n",
       "      <td>10252</td>\n",
       "      <td>2/22/12 0:00</td>\n",
       "      <td>67</td>\n",
       "      <td>Little</td>\n",
       "      <td>58</td>\n",
       "      <td>Organised</td>\n",
       "      <td>44</td>\n",
       "      <td>60</td>\n",
       "      <td>56</td>\n",
       "      <td>Organised</td>\n",
       "      <td>43</td>\n",
       "      <td>50</td>\n",
       "      <td>52</td>\n",
       "      <td>Cover</td>\n",
       "      <td>2</td>\n",
       "      <td>2012</td>\n",
       "      <td>2011/2012</td>\n",
       "    </tr>\n",
       "    <tr>\n",
       "      <th>9</th>\n",
       "      <td>80</td>\n",
       "      <td>2</td>\n",
       "      <td>10252</td>\n",
       "      <td>9/20/13 0:00</td>\n",
       "      <td>63</td>\n",
       "      <td>Little</td>\n",
       "      <td>59</td>\n",
       "      <td>Organised</td>\n",
       "      <td>52</td>\n",
       "      <td>55</td>\n",
       "      <td>34</td>\n",
       "      <td>Organised</td>\n",
       "      <td>39</td>\n",
       "      <td>41</td>\n",
       "      <td>54</td>\n",
       "      <td>Cover</td>\n",
       "      <td>9</td>\n",
       "      <td>2013</td>\n",
       "      <td>2013/2014</td>\n",
       "    </tr>\n",
       "    <tr>\n",
       "      <th>10</th>\n",
       "      <td>81</td>\n",
       "      <td>2</td>\n",
       "      <td>10252</td>\n",
       "      <td>9/19/14 0:00</td>\n",
       "      <td>66</td>\n",
       "      <td>Little</td>\n",
       "      <td>72</td>\n",
       "      <td>Organised</td>\n",
       "      <td>63</td>\n",
       "      <td>48</td>\n",
       "      <td>56</td>\n",
       "      <td>Organised</td>\n",
       "      <td>39</td>\n",
       "      <td>42</td>\n",
       "      <td>52</td>\n",
       "      <td>Cover</td>\n",
       "      <td>9</td>\n",
       "      <td>2014</td>\n",
       "      <td>2014/2015</td>\n",
       "    </tr>\n",
       "    <tr>\n",
       "      <th>11</th>\n",
       "      <td>82</td>\n",
       "      <td>2</td>\n",
       "      <td>10252</td>\n",
       "      <td>9/10/15 0:00</td>\n",
       "      <td>63</td>\n",
       "      <td>Normal</td>\n",
       "      <td>54</td>\n",
       "      <td>Organised</td>\n",
       "      <td>60</td>\n",
       "      <td>48</td>\n",
       "      <td>38</td>\n",
       "      <td>Organised</td>\n",
       "      <td>35</td>\n",
       "      <td>44</td>\n",
       "      <td>54</td>\n",
       "      <td>Cover</td>\n",
       "      <td>9</td>\n",
       "      <td>2015</td>\n",
       "      <td>2015/2016</td>\n",
       "    </tr>\n",
       "    <tr>\n",
       "      <th>12</th>\n",
       "      <td>167</td>\n",
       "      <td>88</td>\n",
       "      <td>8658</td>\n",
       "      <td>2/22/10 0:00</td>\n",
       "      <td>70</td>\n",
       "      <td>Little</td>\n",
       "      <td>70</td>\n",
       "      <td>Organised</td>\n",
       "      <td>70</td>\n",
       "      <td>70</td>\n",
       "      <td>70</td>\n",
       "      <td>Organised</td>\n",
       "      <td>70</td>\n",
       "      <td>70</td>\n",
       "      <td>70</td>\n",
       "      <td>Cover</td>\n",
       "      <td>2</td>\n",
       "      <td>2010</td>\n",
       "      <td>2009/2010</td>\n",
       "    </tr>\n",
       "    <tr>\n",
       "      <th>13</th>\n",
       "      <td>168</td>\n",
       "      <td>88</td>\n",
       "      <td>8658</td>\n",
       "      <td>2/22/11 0:00</td>\n",
       "      <td>45</td>\n",
       "      <td>Little</td>\n",
       "      <td>60</td>\n",
       "      <td>Organised</td>\n",
       "      <td>35</td>\n",
       "      <td>50</td>\n",
       "      <td>40</td>\n",
       "      <td>Organised</td>\n",
       "      <td>30</td>\n",
       "      <td>60</td>\n",
       "      <td>45</td>\n",
       "      <td>Cover</td>\n",
       "      <td>2</td>\n",
       "      <td>2011</td>\n",
       "      <td>2010/2011</td>\n",
       "    </tr>\n",
       "    <tr>\n",
       "      <th>14</th>\n",
       "      <td>169</td>\n",
       "      <td>88</td>\n",
       "      <td>8658</td>\n",
       "      <td>2/22/12 0:00</td>\n",
       "      <td>51</td>\n",
       "      <td>Little</td>\n",
       "      <td>55</td>\n",
       "      <td>Organised</td>\n",
       "      <td>41</td>\n",
       "      <td>62</td>\n",
       "      <td>56</td>\n",
       "      <td>Organised</td>\n",
       "      <td>42</td>\n",
       "      <td>48</td>\n",
       "      <td>54</td>\n",
       "      <td>Cover</td>\n",
       "      <td>2</td>\n",
       "      <td>2012</td>\n",
       "      <td>2011/2012</td>\n",
       "    </tr>\n",
       "    <tr>\n",
       "      <th>15</th>\n",
       "      <td>170</td>\n",
       "      <td>88</td>\n",
       "      <td>8658</td>\n",
       "      <td>9/20/13 0:00</td>\n",
       "      <td>56</td>\n",
       "      <td>Little</td>\n",
       "      <td>57</td>\n",
       "      <td>Organised</td>\n",
       "      <td>45</td>\n",
       "      <td>71</td>\n",
       "      <td>41</td>\n",
       "      <td>Organised</td>\n",
       "      <td>42</td>\n",
       "      <td>44</td>\n",
       "      <td>54</td>\n",
       "      <td>Cover</td>\n",
       "      <td>9</td>\n",
       "      <td>2013</td>\n",
       "      <td>2013/2014</td>\n",
       "    </tr>\n",
       "    <tr>\n",
       "      <th>16</th>\n",
       "      <td>171</td>\n",
       "      <td>88</td>\n",
       "      <td>8658</td>\n",
       "      <td>9/19/14 0:00</td>\n",
       "      <td>56</td>\n",
       "      <td>Normal</td>\n",
       "      <td>79</td>\n",
       "      <td>Organised</td>\n",
       "      <td>77</td>\n",
       "      <td>71</td>\n",
       "      <td>56</td>\n",
       "      <td>Organised</td>\n",
       "      <td>42</td>\n",
       "      <td>48</td>\n",
       "      <td>54</td>\n",
       "      <td>Cover</td>\n",
       "      <td>9</td>\n",
       "      <td>2014</td>\n",
       "      <td>2014/2015</td>\n",
       "    </tr>\n",
       "    <tr>\n",
       "      <th>17</th>\n",
       "      <td>172</td>\n",
       "      <td>88</td>\n",
       "      <td>8658</td>\n",
       "      <td>9/10/15 0:00</td>\n",
       "      <td>56</td>\n",
       "      <td>Little</td>\n",
       "      <td>75</td>\n",
       "      <td>Organised</td>\n",
       "      <td>77</td>\n",
       "      <td>62</td>\n",
       "      <td>64</td>\n",
       "      <td>Organised</td>\n",
       "      <td>42</td>\n",
       "      <td>47</td>\n",
       "      <td>54</td>\n",
       "      <td>Cover</td>\n",
       "      <td>9</td>\n",
       "      <td>2015</td>\n",
       "      <td>2015/2016</td>\n",
       "    </tr>\n",
       "    <tr>\n",
       "      <th>18</th>\n",
       "      <td>173</td>\n",
       "      <td>3</td>\n",
       "      <td>8655</td>\n",
       "      <td>2/22/10 0:00</td>\n",
       "      <td>55</td>\n",
       "      <td>Little</td>\n",
       "      <td>70</td>\n",
       "      <td>Organised</td>\n",
       "      <td>60</td>\n",
       "      <td>70</td>\n",
       "      <td>55</td>\n",
       "      <td>Organised</td>\n",
       "      <td>45</td>\n",
       "      <td>70</td>\n",
       "      <td>45</td>\n",
       "      <td>Cover</td>\n",
       "      <td>2</td>\n",
       "      <td>2010</td>\n",
       "      <td>2009/2010</td>\n",
       "    </tr>\n",
       "    <tr>\n",
       "      <th>19</th>\n",
       "      <td>174</td>\n",
       "      <td>3</td>\n",
       "      <td>8655</td>\n",
       "      <td>2/22/11 0:00</td>\n",
       "      <td>55</td>\n",
       "      <td>Little</td>\n",
       "      <td>65</td>\n",
       "      <td>Organised</td>\n",
       "      <td>50</td>\n",
       "      <td>50</td>\n",
       "      <td>35</td>\n",
       "      <td>Organised</td>\n",
       "      <td>45</td>\n",
       "      <td>60</td>\n",
       "      <td>55</td>\n",
       "      <td>Cover</td>\n",
       "      <td>2</td>\n",
       "      <td>2011</td>\n",
       "      <td>2010/2011</td>\n",
       "    </tr>\n",
       "  </tbody>\n",
       "</table>\n",
       "</div>"
      ],
      "text/plain": [
       "     id  team_fifa_api_id  team_api_id          date  buildUpPlaySpeed  \\\n",
       "0    71                 1         9825  2/22/10 0:00                66   \n",
       "1    72                 1         9825  2/22/11 0:00                75   \n",
       "2    73                 1         9825  2/22/12 0:00                25   \n",
       "3    74                 1         9825  9/20/13 0:00                30   \n",
       "4    75                 1         9825  9/19/14 0:00                59   \n",
       "5    76                 1         9825  9/10/15 0:00                59   \n",
       "6    77                 2        10252  2/22/10 0:00                70   \n",
       "7    78                 2        10252  2/22/11 0:00                65   \n",
       "8    79                 2        10252  2/22/12 0:00                67   \n",
       "9    80                 2        10252  9/20/13 0:00                63   \n",
       "10   81                 2        10252  9/19/14 0:00                66   \n",
       "11   82                 2        10252  9/10/15 0:00                63   \n",
       "12  167                88         8658  2/22/10 0:00                70   \n",
       "13  168                88         8658  2/22/11 0:00                45   \n",
       "14  169                88         8658  2/22/12 0:00                51   \n",
       "15  170                88         8658  9/20/13 0:00                56   \n",
       "16  171                88         8658  9/19/14 0:00                56   \n",
       "17  172                88         8658  9/10/15 0:00                56   \n",
       "18  173                 3         8655  2/22/10 0:00                55   \n",
       "19  174                 3         8655  2/22/11 0:00                55   \n",
       "\n",
       "   buildUpPlayDribblingClass  buildUpPlayPassing buildUpPlayPositioningClass  \\\n",
       "0                     Little                  30                   Free Form   \n",
       "1                     Little                  40                   Free Form   \n",
       "2                     Little                  32                   Organised   \n",
       "3                     Little                  29                   Organised   \n",
       "4                     Normal                  26                   Organised   \n",
       "5                     Normal                  30                   Organised   \n",
       "6                     Little                  59                   Organised   \n",
       "7                     Little                  50                   Organised   \n",
       "8                     Little                  58                   Organised   \n",
       "9                     Little                  59                   Organised   \n",
       "10                    Little                  72                   Organised   \n",
       "11                    Normal                  54                   Organised   \n",
       "12                    Little                  70                   Organised   \n",
       "13                    Little                  60                   Organised   \n",
       "14                    Little                  55                   Organised   \n",
       "15                    Little                  57                   Organised   \n",
       "16                    Normal                  79                   Organised   \n",
       "17                    Little                  75                   Organised   \n",
       "18                    Little                  70                   Organised   \n",
       "19                    Little                  65                   Organised   \n",
       "\n",
       "    chanceCreationPassing  chanceCreationCrossing  chanceCreationShooting  \\\n",
       "0                      30                      45                      35   \n",
       "1                      40                      45                      65   \n",
       "2                      41                      34                      30   \n",
       "3                      41                      55                      39   \n",
       "4                      28                      55                      64   \n",
       "5                      28                      44                      46   \n",
       "6                      65                      70                      50   \n",
       "7                      45                      55                      50   \n",
       "8                      44                      60                      56   \n",
       "9                      52                      55                      34   \n",
       "10                     63                      48                      56   \n",
       "11                     60                      48                      38   \n",
       "12                     70                      70                      70   \n",
       "13                     35                      50                      40   \n",
       "14                     41                      62                      56   \n",
       "15                     45                      71                      41   \n",
       "16                     77                      71                      56   \n",
       "17                     77                      62                      64   \n",
       "18                     60                      70                      55   \n",
       "19                     50                      50                      35   \n",
       "\n",
       "   chanceCreationPositioningClass  defencePressure  defenceAggression  \\\n",
       "0                       Free Form               30                 40   \n",
       "1                       Free Form               50                 40   \n",
       "2                       Free Form               57                 57   \n",
       "3                       Free Form               64                 54   \n",
       "4                       Free Form               51                 44   \n",
       "5                       Free Form               51                 44   \n",
       "6                       Free Form               30                 70   \n",
       "7                       Organised               35                 45   \n",
       "8                       Organised               43                 50   \n",
       "9                       Organised               39                 41   \n",
       "10                      Organised               39                 42   \n",
       "11                      Organised               35                 44   \n",
       "12                      Organised               70                 70   \n",
       "13                      Organised               30                 60   \n",
       "14                      Organised               42                 48   \n",
       "15                      Organised               42                 44   \n",
       "16                      Organised               42                 48   \n",
       "17                      Organised               42                 47   \n",
       "18                      Organised               45                 70   \n",
       "19                      Organised               45                 60   \n",
       "\n",
       "    defenceTeamWidth defenceDefenderLineClass  month  year     season  \n",
       "0                 50                    Cover      2  2010  2009/2010  \n",
       "1                 45                    Cover      2  2011  2010/2011  \n",
       "2                 52                    Cover      2  2012  2011/2012  \n",
       "3                 52                    Cover      9  2013  2013/2014  \n",
       "4                 52                    Cover      9  2014  2014/2015  \n",
       "5                 52                    Cover      9  2015  2015/2016  \n",
       "6                 30                    Cover      2  2010  2009/2010  \n",
       "7                 65                    Cover      2  2011  2010/2011  \n",
       "8                 52                    Cover      2  2012  2011/2012  \n",
       "9                 54                    Cover      9  2013  2013/2014  \n",
       "10                52                    Cover      9  2014  2014/2015  \n",
       "11                54                    Cover      9  2015  2015/2016  \n",
       "12                70                    Cover      2  2010  2009/2010  \n",
       "13                45                    Cover      2  2011  2010/2011  \n",
       "14                54                    Cover      2  2012  2011/2012  \n",
       "15                54                    Cover      9  2013  2013/2014  \n",
       "16                54                    Cover      9  2014  2014/2015  \n",
       "17                54                    Cover      9  2015  2015/2016  \n",
       "18                45                    Cover      2  2010  2009/2010  \n",
       "19                55                    Cover      2  2011  2010/2011  "
      ]
     },
     "execution_count": 44,
     "metadata": {},
     "output_type": "execute_result"
    }
   ],
   "source": [
    "team_attributes.head(20)"
   ]
  },
  {
   "cell_type": "code",
   "execution_count": 45,
   "metadata": {
    "collapsed": false
   },
   "outputs": [
    {
     "data": {
      "text/plain": [
       "array(['2009/2010', '2010/2011', '2011/2012', '2013/2014', '2014/2015',\n",
       "       '2015/2016'], dtype=object)"
      ]
     },
     "execution_count": 45,
     "metadata": {},
     "output_type": "execute_result"
    }
   ],
   "source": [
    "team_attributes['season'].unique()   # By using team attributes, it eliminates data from 2008/2009 and 2012/2013 season! shoot.."
   ]
  },
  {
   "cell_type": "code",
   "execution_count": 46,
   "metadata": {
    "collapsed": false
   },
   "outputs": [
    {
     "data": {
      "text/plain": [
       "2014/2015    34\n",
       "2009/2010    34\n",
       "2010/2011    34\n",
       "2015/2016    34\n",
       "2013/2014    34\n",
       "2011/2012    34\n",
       "Name: season, dtype: int64"
      ]
     },
     "execution_count": 46,
     "metadata": {},
     "output_type": "execute_result"
    }
   ],
   "source": [
    "team_attributes['season'].value_counts()"
   ]
  },
  {
   "cell_type": "code",
   "execution_count": 47,
   "metadata": {
    "collapsed": false
   },
   "outputs": [
    {
     "data": {
      "text/html": [
       "<div>\n",
       "<table border=\"1\" class=\"dataframe\">\n",
       "  <thead>\n",
       "    <tr style=\"text-align: right;\">\n",
       "      <th></th>\n",
       "      <th>id_x</th>\n",
       "      <th>season</th>\n",
       "      <th>stage</th>\n",
       "      <th>date_x</th>\n",
       "      <th>match_api_id</th>\n",
       "      <th>home_team_api_id</th>\n",
       "      <th>away_team_api_id</th>\n",
       "      <th>home_team_goal</th>\n",
       "      <th>away_team_goal</th>\n",
       "      <th>B365H</th>\n",
       "      <th>...</th>\n",
       "      <th>chanceCreationPassing</th>\n",
       "      <th>chanceCreationCrossing</th>\n",
       "      <th>chanceCreationShooting</th>\n",
       "      <th>chanceCreationPositioningClass</th>\n",
       "      <th>defencePressure</th>\n",
       "      <th>defenceAggression</th>\n",
       "      <th>defenceTeamWidth</th>\n",
       "      <th>defenceDefenderLineClass</th>\n",
       "      <th>month</th>\n",
       "      <th>year</th>\n",
       "    </tr>\n",
       "  </thead>\n",
       "  <tbody>\n",
       "    <tr>\n",
       "      <th>0</th>\n",
       "      <td>2109</td>\n",
       "      <td>2009/2010</td>\n",
       "      <td>1</td>\n",
       "      <td>8/16/09 0:00</td>\n",
       "      <td>658571</td>\n",
       "      <td>10260</td>\n",
       "      <td>8658</td>\n",
       "      <td>1</td>\n",
       "      <td>0</td>\n",
       "      <td>1.20</td>\n",
       "      <td>...</td>\n",
       "      <td>45</td>\n",
       "      <td>70</td>\n",
       "      <td>65</td>\n",
       "      <td>Free Form</td>\n",
       "      <td>40</td>\n",
       "      <td>50</td>\n",
       "      <td>40</td>\n",
       "      <td>Cover</td>\n",
       "      <td>2</td>\n",
       "      <td>2010</td>\n",
       "    </tr>\n",
       "    <tr>\n",
       "      <th>1</th>\n",
       "      <td>2130</td>\n",
       "      <td>2009/2010</td>\n",
       "      <td>11</td>\n",
       "      <td>10/31/09 0:00</td>\n",
       "      <td>658710</td>\n",
       "      <td>10260</td>\n",
       "      <td>8655</td>\n",
       "      <td>2</td>\n",
       "      <td>0</td>\n",
       "      <td>1.17</td>\n",
       "      <td>...</td>\n",
       "      <td>45</td>\n",
       "      <td>70</td>\n",
       "      <td>65</td>\n",
       "      <td>Free Form</td>\n",
       "      <td>40</td>\n",
       "      <td>50</td>\n",
       "      <td>40</td>\n",
       "      <td>Cover</td>\n",
       "      <td>2</td>\n",
       "      <td>2010</td>\n",
       "    </tr>\n",
       "    <tr>\n",
       "      <th>2</th>\n",
       "      <td>2156</td>\n",
       "      <td>2009/2010</td>\n",
       "      <td>13</td>\n",
       "      <td>11/21/09 0:00</td>\n",
       "      <td>658796</td>\n",
       "      <td>10260</td>\n",
       "      <td>8668</td>\n",
       "      <td>3</td>\n",
       "      <td>0</td>\n",
       "      <td>1.40</td>\n",
       "      <td>...</td>\n",
       "      <td>45</td>\n",
       "      <td>70</td>\n",
       "      <td>65</td>\n",
       "      <td>Free Form</td>\n",
       "      <td>40</td>\n",
       "      <td>50</td>\n",
       "      <td>40</td>\n",
       "      <td>Cover</td>\n",
       "      <td>2</td>\n",
       "      <td>2010</td>\n",
       "    </tr>\n",
       "    <tr>\n",
       "      <th>3</th>\n",
       "      <td>2179</td>\n",
       "      <td>2009/2010</td>\n",
       "      <td>16</td>\n",
       "      <td>12/12/09 0:00</td>\n",
       "      <td>658819</td>\n",
       "      <td>10260</td>\n",
       "      <td>10252</td>\n",
       "      <td>0</td>\n",
       "      <td>1</td>\n",
       "      <td>1.50</td>\n",
       "      <td>...</td>\n",
       "      <td>45</td>\n",
       "      <td>70</td>\n",
       "      <td>65</td>\n",
       "      <td>Free Form</td>\n",
       "      <td>40</td>\n",
       "      <td>50</td>\n",
       "      <td>40</td>\n",
       "      <td>Cover</td>\n",
       "      <td>2</td>\n",
       "      <td>2010</td>\n",
       "    </tr>\n",
       "    <tr>\n",
       "      <th>4</th>\n",
       "      <td>2192</td>\n",
       "      <td>2009/2010</td>\n",
       "      <td>17</td>\n",
       "      <td>12/15/09 0:00</td>\n",
       "      <td>658832</td>\n",
       "      <td>10260</td>\n",
       "      <td>8602</td>\n",
       "      <td>3</td>\n",
       "      <td>0</td>\n",
       "      <td>1.17</td>\n",
       "      <td>...</td>\n",
       "      <td>45</td>\n",
       "      <td>70</td>\n",
       "      <td>65</td>\n",
       "      <td>Free Form</td>\n",
       "      <td>40</td>\n",
       "      <td>50</td>\n",
       "      <td>40</td>\n",
       "      <td>Cover</td>\n",
       "      <td>2</td>\n",
       "      <td>2010</td>\n",
       "    </tr>\n",
       "  </tbody>\n",
       "</table>\n",
       "<p>5 rows × 74 columns</p>\n",
       "</div>"
      ],
      "text/plain": [
       "   id_x     season  stage         date_x  match_api_id  home_team_api_id  \\\n",
       "0  2109  2009/2010      1   8/16/09 0:00        658571             10260   \n",
       "1  2130  2009/2010     11  10/31/09 0:00        658710             10260   \n",
       "2  2156  2009/2010     13  11/21/09 0:00        658796             10260   \n",
       "3  2179  2009/2010     16  12/12/09 0:00        658819             10260   \n",
       "4  2192  2009/2010     17  12/15/09 0:00        658832             10260   \n",
       "\n",
       "   away_team_api_id  home_team_goal  away_team_goal  B365H  ...   \\\n",
       "0              8658               1               0   1.20  ...    \n",
       "1              8655               2               0   1.17  ...    \n",
       "2              8668               3               0   1.40  ...    \n",
       "3             10252               0               1   1.50  ...    \n",
       "4              8602               3               0   1.17  ...    \n",
       "\n",
       "   chanceCreationPassing  chanceCreationCrossing  chanceCreationShooting  \\\n",
       "0                     45                      70                      65   \n",
       "1                     45                      70                      65   \n",
       "2                     45                      70                      65   \n",
       "3                     45                      70                      65   \n",
       "4                     45                      70                      65   \n",
       "\n",
       "   chanceCreationPositioningClass  defencePressure  defenceAggression  \\\n",
       "0                       Free Form               40                 50   \n",
       "1                       Free Form               40                 50   \n",
       "2                       Free Form               40                 50   \n",
       "3                       Free Form               40                 50   \n",
       "4                       Free Form               40                 50   \n",
       "\n",
       "   defenceTeamWidth  defenceDefenderLineClass  month  year  \n",
       "0                40                     Cover      2  2010  \n",
       "1                40                     Cover      2  2010  \n",
       "2                40                     Cover      2  2010  \n",
       "3                40                     Cover      2  2010  \n",
       "4                40                     Cover      2  2010  \n",
       "\n",
       "[5 rows x 74 columns]"
      ]
     },
     "execution_count": 47,
     "metadata": {},
     "output_type": "execute_result"
    }
   ],
   "source": [
    "## Let's test merging the team features with the matches dataframe\n",
    "\n",
    "matches = matches.merge(team_attributes, how = 'inner', left_on = ['home_team_api_id','season'], right_on = \\\n",
    "                  ['team_api_id','season'])\n",
    "\n",
    "matches.head()"
   ]
  },
  {
   "cell_type": "code",
   "execution_count": 48,
   "metadata": {
    "collapsed": true
   },
   "outputs": [],
   "source": [
    "matches = matches.merge(team_attributes, how = 'inner', left_on = ['away_team_api_id','season'], right_on = \\\n",
    "                  ['team_api_id','season'])"
   ]
  },
  {
   "cell_type": "code",
   "execution_count": 49,
   "metadata": {
    "collapsed": false
   },
   "outputs": [
    {
     "data": {
      "text/plain": [
       "(2280, 92)"
      ]
     },
     "execution_count": 49,
     "metadata": {},
     "output_type": "execute_result"
    }
   ],
   "source": [
    "matches.shape  # We have reduced the rows from 3040 to 2280...lost 25% of the data!.. We lose 2008/2009 and 2012/2013"
   ]
  },
  {
   "cell_type": "code",
   "execution_count": 50,
   "metadata": {
    "collapsed": false
   },
   "outputs": [
    {
     "data": {
      "text/plain": [
       "2009/2010    380\n",
       "2013/2014    380\n",
       "2010/2011    380\n",
       "2011/2012    380\n",
       "2014/2015    380\n",
       "2015/2016    380\n",
       "Name: season, dtype: int64"
      ]
     },
     "execution_count": 50,
     "metadata": {},
     "output_type": "execute_result"
    }
   ],
   "source": [
    "matches.season.value_counts()"
   ]
  },
  {
   "cell_type": "markdown",
   "metadata": {},
   "source": [
    "### Stage to categorical"
   ]
  },
  {
   "cell_type": "code",
   "execution_count": 51,
   "metadata": {
    "collapsed": true
   },
   "outputs": [],
   "source": [
    "def Stage2Cat(df):\n",
    "    if df['stage'] < 22:\n",
    "        return 'Before Transfer Window'\n",
    "    else:\n",
    "        return 'After Transfer Window'"
   ]
  },
  {
   "cell_type": "code",
   "execution_count": 52,
   "metadata": {
    "collapsed": false
   },
   "outputs": [],
   "source": [
    "matches['Stage_Cat'] = matches.apply(Stage2Cat, axis = 1)"
   ]
  },
  {
   "cell_type": "code",
   "execution_count": 53,
   "metadata": {
    "collapsed": false
   },
   "outputs": [],
   "source": [
    "del matches['stage']"
   ]
  },
  {
   "cell_type": "code",
   "execution_count": 54,
   "metadata": {
    "collapsed": false
   },
   "outputs": [],
   "source": [
    "stage_cat_dummies = pd.get_dummies(matches['Stage_Cat'])\n",
    "del matches['Stage_Cat']\n",
    "matches = pd.concat([matches,stage_cat_dummies], axis = 1)"
   ]
  },
  {
   "cell_type": "markdown",
   "metadata": {},
   "source": [
    "#### Promoted Teams Flag"
   ]
  },
  {
   "cell_type": "markdown",
   "metadata": {},
   "source": [
    "The goal of this feature is to have a flag that indicates if a team was newly promoted that season"
   ]
  },
  {
   "cell_type": "code",
   "execution_count": 55,
   "metadata": {
    "collapsed": true
   },
   "outputs": [],
   "source": [
    "promoted_teams = {'2009/2010': ['Wolverhampton Wanderers','Birmingham City','Burnley'],\\\n",
    "                  '2010/2011': ['Newcastle United','West Bromwich Albion','Blackpool'],\\\n",
    "                  '2011/2012': ['Queens Park Rangers','Norwich City','Swansea City'],\\\n",
    "                  '2012/2013': ['Reading','Southampton','West Ham United'],\\\n",
    "                  '2013/2014': ['Cardiff City','Hull City','Crystal Palace'],\\\n",
    "                  '2014/2015': ['Leicester City','Burnley','Queens Park Rangers'],\\\n",
    "                  '2015/2016': ['AFC Bournemouth','Watford','Norwich City']}"
   ]
  },
  {
   "cell_type": "code",
   "execution_count": 56,
   "metadata": {
    "collapsed": true
   },
   "outputs": [],
   "source": [
    "def HomePromotedTeam(df):\n",
    "    seasonlist = matches['season'].unique().tolist()\n",
    "    for season in seasonlist:\n",
    "        if df['Home_Team'] in promoted_teams[season]:\n",
    "            return 1\n",
    "        else:\n",
    "            return 0\n",
    "def AwayPromotedTeam(df):\n",
    "    seasonlist = matches['season'].unique().tolist()\n",
    "    for season in seasonlist:\n",
    "        if df['Away_Team'] in promoted_teams[season]:\n",
    "            return 1\n",
    "        else:\n",
    "            return 0"
   ]
  },
  {
   "cell_type": "code",
   "execution_count": 57,
   "metadata": {
    "collapsed": false
   },
   "outputs": [],
   "source": [
    "matches['Home_Promoted_Flag'] = matches.apply(HomePromotedTeam, axis=1)\n",
    "matches['Away_Promoted_Flat'] = matches.apply(AwayPromotedTeam, axis = 1)"
   ]
  },
  {
   "cell_type": "markdown",
   "metadata": {},
   "source": [
    "### Now we need to convert features to numeric or dummies to use in the modeling process"
   ]
  },
  {
   "cell_type": "code",
   "execution_count": 58,
   "metadata": {
    "collapsed": false
   },
   "outputs": [
    {
     "name": "stdout",
     "output_type": "stream",
     "text": [
      "season\n",
      "date_x\n",
      "Home_Team\n",
      "Away_Team\n",
      "date_y\n",
      "buildUpPlayDribblingClass_x\n",
      "buildUpPlayPositioningClass_x\n",
      "chanceCreationPositioningClass_x\n",
      "defenceDefenderLineClass_x\n",
      "date\n",
      "buildUpPlayDribblingClass_y\n",
      "buildUpPlayPositioningClass_y\n",
      "chanceCreationPositioningClass_y\n",
      "defenceDefenderLineClass_y\n"
     ]
    }
   ],
   "source": [
    "for col in matches.columns:\n",
    "    if matches[col].dtype == 'object':\n",
    "        print col"
   ]
  },
  {
   "cell_type": "code",
   "execution_count": 59,
   "metadata": {
    "collapsed": false
   },
   "outputs": [],
   "source": [
    "def CreateDummies(df,col):\n",
    "    dummies = pd.get_dummies(df[col])\n",
    "    del df[col]\n",
    "    if col == 'Home_Team':\n",
    "        dummies.columns = dummies.columns +'_home_team'\n",
    "    elif col == 'Away_Team':\n",
    "        dummies.columns = dummies.columns +'_away_team'\n",
    "    else:\n",
    "        dummies.columns = dummies.columns + '_'+col\n",
    "    df = pd.concat([df,dummies], axis=1)\n",
    "    return df"
   ]
  },
  {
   "cell_type": "code",
   "execution_count": 60,
   "metadata": {
    "collapsed": true
   },
   "outputs": [],
   "source": [
    "dummy_cols = ['season','Home_Team','Away_Team','buildUpPlayDribblingClass_x',\\\n",
    "              'buildUpPlayPositioningClass_x', 'chanceCreationPositioningClass_x',\\\n",
    "              'defenceDefenderLineClass_x','buildUpPlayDribblingClass_y','buildUpPlayPositioningClass_y',\\\n",
    "              'chanceCreationPositioningClass_y','defenceDefenderLineClass_y']"
   ]
  },
  {
   "cell_type": "code",
   "execution_count": 61,
   "metadata": {
    "collapsed": false
   },
   "outputs": [
    {
     "data": {
      "text/plain": [
       "(2280, 168)"
      ]
     },
     "execution_count": 61,
     "metadata": {},
     "output_type": "execute_result"
    }
   ],
   "source": [
    "for dcol in dummy_cols:\n",
    "    matches = CreateDummies(matches,dcol)\n",
    "\n",
    "matches.shape"
   ]
  },
  {
   "cell_type": "code",
   "execution_count": 62,
   "metadata": {
    "collapsed": false
   },
   "outputs": [
    {
     "name": "stdout",
     "output_type": "stream",
     "text": [
      "date_x\n",
      "date_y\n",
      "date\n"
     ]
    }
   ],
   "source": [
    "for col in matches.columns:\n",
    "    if matches[col].dtype == 'object':\n",
    "        print col"
   ]
  },
  {
   "cell_type": "code",
   "execution_count": 63,
   "metadata": {
    "collapsed": false
   },
   "outputs": [
    {
     "data": {
      "text/plain": [
       "(2280, 165)"
      ]
     },
     "execution_count": 63,
     "metadata": {},
     "output_type": "execute_result"
    }
   ],
   "source": [
    "# Let's remove the date columns that we won't be using anymore\n",
    "for col in matches.columns:\n",
    "    if 'date' in col:\n",
    "        del matches[col]\n",
    "\n",
    "matches.shape"
   ]
  },
  {
   "cell_type": "markdown",
   "metadata": {},
   "source": [
    "Last step - Remove all features that we don't want to use"
   ]
  },
  {
   "cell_type": "code",
   "execution_count": 64,
   "metadata": {
    "collapsed": false
   },
   "outputs": [
    {
     "data": {
      "text/plain": [
       "Index([u'defenceAggression_x', u'defenceTeamWidth_x', u'month_x', u'year_x',\n",
       "       u'id', u'team_fifa_api_id_y', u'team_api_id_y', u'buildUpPlaySpeed_y',\n",
       "       u'buildUpPlayPassing_y', u'chanceCreationPassing_y'],\n",
       "      dtype='object')"
      ]
     },
     "execution_count": 64,
     "metadata": {},
     "output_type": "execute_result"
    }
   ],
   "source": [
    "matches.columns[60:70]"
   ]
  },
  {
   "cell_type": "code",
   "execution_count": 65,
   "metadata": {
    "collapsed": false
   },
   "outputs": [
    {
     "data": {
      "text/plain": [
       "(2280, 151)"
      ]
     },
     "execution_count": 65,
     "metadata": {},
     "output_type": "execute_result"
    }
   ],
   "source": [
    "remove_cols = ['id_x','match_api_id','home_team_api_id','away_team_api_id',\\\n",
    "               'month_x','year_x','id','team_fifa_api_id_y','team_api_id_y',\\\n",
    "               'id_y','team_fifa_api_id_x','team_api_id_x','month_y','year_y']\n",
    "\n",
    "for col in remove_cols:\n",
    "    try:\n",
    "        del matches[col]\n",
    "    except Exception:\n",
    "        continue\n",
    "    \n",
    "matches.shape"
   ]
  },
  {
   "cell_type": "code",
   "execution_count": 66,
   "metadata": {
    "collapsed": true
   },
   "outputs": [],
   "source": [
    "# Finally export matches dataframe for modeling\n",
    "\n",
    "matches.to_csv('/Users/mtetkosk/Google Drive/Data Science Projects/data/processed/20170127_Matches_w_Features.csv',index=None)"
   ]
  },
  {
   "cell_type": "code",
   "execution_count": 67,
   "metadata": {
    "collapsed": false
   },
   "outputs": [
    {
     "data": {
      "text/plain": [
       "(0.14756617452432319, 1.4299129510091769e-12)"
      ]
     },
     "execution_count": 67,
     "metadata": {},
     "output_type": "execute_result"
    }
   ],
   "source": [
    "from scipy.stats import pearsonr\n",
    "pearsonr(matches['home_last_4_scored'],matches['Result_Target'])"
   ]
  },
  {
   "cell_type": "markdown",
   "metadata": {},
   "source": [
    "## Data Analysis"
   ]
  },
  {
   "cell_type": "code",
   "execution_count": 91,
   "metadata": {
    "collapsed": false
   },
   "outputs": [
    {
     "data": {
      "image/png": "[encoded data removed]",
      "text/plain": [
       "<matplotlib.figure.Figure at 0x1192b4790>"
      ]
     },
     "metadata": {},
     "output_type": "display_data"
    },
    {
     "data": {
      "image/png": "[encoded data removed]",
      "text/plain": [
       "<matplotlib.figure.Figure at 0x1176e0690>"
      ]
     },
     "metadata": {},
     "output_type": "display_data"
    },
    {
     "data": {
      "image/png": "[encoded data removed]",
      "text/plain": [
       "<matplotlib.figure.Figure at 0x11881b710>"
      ]
     },
     "metadata": {},
     "output_type": "display_data"
    },
    {
     "data": {
      "image/png": "[encoded data removed]",
      "text/plain": [
       "<matplotlib.figure.Figure at 0x118b43ed0>"
      ]
     },
     "metadata": {},
     "output_type": "display_data"
    }
   ],
   "source": [
    "metric_list = ['home_last_%d_scored','home_last_%d_conceded','away_last_%d_scored','away_last_%d_concede']\n",
    "count = 0\n",
    "for metric in metric_list:\n",
    "    corr_list = []\n",
    "    count +=1\n",
    "    for i in range(2,6):\n",
    "        corr_list.append(pearsonr(matches[metric%i],matches['Result_Target'])[0])\n",
    "    plt.plot(range(2,6),corr_list)\n",
    "    plt.xlabel('Number of Last K Matches')\n",
    "    plt.ylabel('Correlation with Result')\n",
    "    if count == 1:\n",
    "        plt.title('Home Last K Scored')\n",
    "    if count == 2:\n",
    "        plt.title('Home Last K Conceded')\n",
    "    if count == 3:\n",
    "        plt.title('Away Last K Scored')\n",
    "    if count == 4:\n",
    "        plt.title('Away Last K Conceded')\n",
    "        \n",
    "    plt.show()\n",
    "        "
   ]
  },
  {
   "cell_type": "code",
   "execution_count": 94,
   "metadata": {
    "collapsed": false
   },
   "outputs": [],
   "source": [
    "metric_list = ['Home_Promoted_Flag', 'Away_Promoted_Flat']\n",
    "count = 0\n",
    "corr_list = []\n",
    "for metric in metric_list:\n",
    "    corr_list.append(pearsonr(matches[metric],matches['Result_Target'])[0])\n"
   ]
  },
  {
   "cell_type": "code",
   "execution_count": 102,
   "metadata": {
    "collapsed": false
   },
   "outputs": [
    {
     "name": "stdout",
     "output_type": "stream",
     "text": [
      "Home Promoted Flag Correlation with Target= -0.07\n",
      "Away Promoted Flag Correlation with Target= 0.09\n"
     ]
    }
   ],
   "source": [
    "print 'Home Promoted Flag Correlation with Target= ' + str(round(corr_list[0],2))\n",
    "print 'Away Promoted Flag Correlation with Target= ' + str(round(corr_list[1],2))\n"
   ]
  },
  {
   "cell_type": "code",
   "execution_count": null,
   "metadata": {
    "collapsed": true
   },
   "outputs": [],
   "source": []
  }
 ],
 "metadata": {
  "kernelspec": {
   "display_name": "Python [conda root]",
   "language": "python",
   "name": "conda-root-py"
  },
  "language_info": {
   "codemirror_mode": {
    "name": "ipython",
    "version": 2
   },
   "file_extension": ".py",
   "mimetype": "text/x-python",
   "name": "python",
   "nbconvert_exporter": "python",
   "pygments_lexer": "ipython2",
   "version": "2.7.12"
  }
 },
 "nbformat": 4,
 "nbformat_minor": 1
}
