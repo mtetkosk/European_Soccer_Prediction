{
 "cells": [
  {
   "cell_type": "markdown",
   "metadata": {},
   "source": [
    "## Model Selection Notebook\n",
    "\n",
    "This notebook will perform model selection on a Kernel SVM to predict binary classification\n",
    "\n",
    "- Home Win Result\n",
    "- Not Home Win Result"
   ]
  },
  {
   "cell_type": "code",
   "execution_count": 20,
   "metadata": {
    "collapsed": false
   },
   "outputs": [],
   "source": [
    "import pandas as pd\n",
    "import numpy as np\n",
    "import pickle\n",
    "from scipy.stats import sem\n",
    "from sklearn.ensemble import RandomForestClassifier\n",
    "from sklearn import cross_validation\n",
    "from sklearn.cross_validation import train_test_split\n",
    "from sklearn.grid_search import GridSearchCV\n",
    "from sklearn.metrics import accuracy_score\n",
    "from sklearn.metrics import precision_score\n",
    "from sklearn.metrics import recall_score\n",
    "import random\n",
    "from matplotlib import pyplot as plt\n",
    "%matplotlib inline\n",
    "from scipy.stats import sem\n",
    "\n",
    "numFolds = 10\n",
    "\n",
    "date = '20170217'"
   ]
  },
  {
   "cell_type": "code",
   "execution_count": 30,
   "metadata": {
    "collapsed": false
   },
   "outputs": [],
   "source": [
    "random.seed('01191988')"
   ]
  },
  {
   "cell_type": "code",
   "execution_count": 31,
   "metadata": {
    "collapsed": false
   },
   "outputs": [],
   "source": [
    "# Load data\n",
    "data = pd.read_csv('/Users/mtetkosk/Google Drive/Data Science Projects/data/processed/%s_Matches_w_Features.csv'%(date))"
   ]
  },
  {
   "cell_type": "code",
   "execution_count": 32,
   "metadata": {
    "collapsed": false
   },
   "outputs": [],
   "source": [
    "for col in data.columns:\n",
    "    if data[col].dtype == 'object':\n",
    "        print col"
   ]
  },
  {
   "cell_type": "code",
   "execution_count": 33,
   "metadata": {
    "collapsed": false
   },
   "outputs": [
    {
     "name": "stdout",
     "output_type": "stream",
     "text": [
      "2280\n",
      "(2280, 196)\n"
     ]
    }
   ],
   "source": [
    "print len(data)\n",
    "print data.shape"
   ]
  },
  {
   "cell_type": "code",
   "execution_count": 34,
   "metadata": {
    "collapsed": false
   },
   "outputs": [],
   "source": [
    "home_goals = data['home_team_goal']\n",
    "away_goals = data['away_team_goal']"
   ]
  },
  {
   "cell_type": "code",
   "execution_count": 35,
   "metadata": {
    "collapsed": true
   },
   "outputs": [],
   "source": [
    "del data['home_team_goal']\n",
    "del data['away_team_goal']"
   ]
  },
  {
   "cell_type": "code",
   "execution_count": 36,
   "metadata": {
    "collapsed": false
   },
   "outputs": [
    {
     "name": "stdout",
     "output_type": "stream",
     "text": [
      "(2280, 194)\n"
     ]
    }
   ],
   "source": [
    "print data.shape"
   ]
  },
  {
   "cell_type": "code",
   "execution_count": 37,
   "metadata": {
    "collapsed": true
   },
   "outputs": [],
   "source": [
    "## First step is to set up training and holdout set\n",
    "def Assign_Train_Test(df):\n",
    "    num = random.randint(1,numFolds)\n",
    "    return num"
   ]
  },
  {
   "cell_type": "code",
   "execution_count": 42,
   "metadata": {
    "collapsed": false
   },
   "outputs": [],
   "source": [
    "data['Train_Test'] = data.apply(Assign_Train_Test, axis = 1)"
   ]
  },
  {
   "cell_type": "code",
   "execution_count": 43,
   "metadata": {
    "collapsed": false
   },
   "outputs": [
    {
     "name": "stdout",
     "output_type": "stream",
     "text": [
      "Test length 246\n",
      "Train length 2034\n"
     ]
    }
   ],
   "source": [
    "## Chose holdout set as approx 10% of data\n",
    "holdout = data[data['Train_Test']==1]\n",
    "train = data[data['Train_Test']!= 1]\n",
    "\n",
    "# Remove the train_test variable from the dataframes\n",
    "del holdout['Train_Test']\n",
    "del train['Train_Test']\n",
    "\n",
    "print 'Test length ' + str(len(holdout))\n",
    "print 'Train length ' + str(len(train))"
   ]
  },
  {
   "cell_type": "code",
   "execution_count": 44,
   "metadata": {
    "collapsed": true
   },
   "outputs": [],
   "source": [
    "from sklearn.metrics import f1_score\n",
    "from sklearn.metrics import recall_score\n",
    "from sklearn.metrics import precision_score"
   ]
  },
  {
   "cell_type": "code",
   "execution_count": 45,
   "metadata": {
    "collapsed": true
   },
   "outputs": [],
   "source": [
    "def FitPredict(x_train,y_train,x_test,model):\n",
    "    \n",
    "    fit_model = model.fit(x_train,y_train)\n",
    "    preds = fit_model.predict(x_test)\n",
    "    \n",
    "    return preds\n",
    "\n",
    "def ComputeErrorMetric(y_true,y_pred):\n",
    "    \n",
    "    #df = pd.DataFrame({'y_true':y_true, 'y_pred':y_pred})\n",
    "    # draw\n",
    "    #hw_fp = ((df.y_true != 1) & (df.y_pred == 1))\n",
    "    #hw_tp = ((df.y_true == 1) & (df.y_pred == 1))\n",
    "    #hw_fn = ((df.y_true == 1) & (df.y_pred != 1))\n",
    "    #hw_tn = ((df.y_true != 1) & (df.y_pred != 1))\n",
    "\n",
    "    #true_positive = sum(hw_tp)\n",
    "    #false_positive = sum(hw_fp)\n",
    "    #true_negative = sum(hw_tn)\n",
    "    #false_negative = sum(hw_fn)\n",
    "\n",
    "    #combined_error_metric = 10.0/13.0*false_positive/(false_positive+true_negative)+3.0/13.0*false_negative/(false_negative+true_positive)\n",
    "    \n",
    "    #precision = true_positive / (true_positive + false_positive)\n",
    "    #recall = true_positive / (true_positive + false_negative)\n",
    "    \n",
    "    f1score = f1_score(y_true,y_pred, average='binary')\n",
    "    precision = precision_score(y_true,y_pred, average='binary')\n",
    "    recall = recall_score(y_true,y_pred, average = 'binary')\n",
    "    \n",
    "    return round(f1score,2), round(precision,4), round(recall,2)"
   ]
  },
  {
   "cell_type": "code",
   "execution_count": 46,
   "metadata": {
    "collapsed": false
   },
   "outputs": [
    {
     "name": "stderr",
     "output_type": "stream",
     "text": [
      "/Users/mtetkosk/anaconda/lib/python2.7/site-packages/ipykernel/__main__.py:3: SettingWithCopyWarning: \n",
      "A value is trying to be set on a copy of a slice from a DataFrame.\n",
      "Try using .loc[row_indexer,col_indexer] = value instead\n",
      "\n",
      "See the caveats in the documentation: http://pandas.pydata.org/pandas-docs/stable/indexing.html#indexing-view-versus-copy\n",
      "  app.launch_new_instance()\n"
     ]
    },
    {
     "data": {
      "text/plain": [
       "1     234\n",
       "10    214\n",
       "7     209\n",
       "3     209\n",
       "2     206\n",
       "8     201\n",
       "6     200\n",
       "5     200\n",
       "9     181\n",
       "4     180\n",
       "Name: Fold, dtype: int64"
      ]
     },
     "execution_count": 46,
     "metadata": {},
     "output_type": "execute_result"
    }
   ],
   "source": [
    "## Use Assign_Train_Test to assign cross-validation folds\n",
    "\n",
    "train['Fold'] = train.apply(Assign_Train_Test,axis = 1)\n",
    "\n",
    "train['Fold'].value_counts()   #All folds are approximately equal size"
   ]
  },
  {
   "cell_type": "code",
   "execution_count": 47,
   "metadata": {
    "collapsed": true
   },
   "outputs": [],
   "source": [
    "verbose = False"
   ]
  },
  {
   "cell_type": "code",
   "execution_count": 48,
   "metadata": {
    "collapsed": false,
    "scrolled": false
   },
   "outputs": [
    {
     "name": "stdout",
     "output_type": "stream",
     "text": [
      "Fold 1 Param Combo Number 1 Avg Precision = 0.643543223991\n",
      "Fold 1 Param Combo Number 2 Avg Precision = 0.642420244952\n",
      "Fold 1 Param Combo Number 3 Avg Precision = 0.644857154379\n",
      "Fold 1 Param Combo Number 4 Avg Precision = 0.634053948009\n",
      "Fold 1 Param Combo Number 5 Avg Precision = 0.629681765094\n",
      "Fold 1 Param Combo Number 6 Avg Precision = 0.651833243856\n",
      "Fold 1 Param Combo Number 7 Avg Precision = 0.648508737276\n",
      "Fold 1 Param Combo Number 8 Avg Precision = 0.65166628614\n",
      "Fold 1 Param Combo Number 9 Avg Precision = 0.641828704983\n",
      "Fold 1 Param Combo Number 10 Avg Precision = 0.641303621066\n",
      "Fold 1 Param Combo Number 11 Avg Precision = 0.667009456708\n",
      "Fold 1 Param Combo Number 12 Avg Precision = 0.640071964644\n",
      "Fold 1 Param Combo Number 13 Avg Precision = 0.640255844922\n",
      "Fold 1 Param Combo Number 14 Avg Precision = 0.630191771339\n",
      "Fold 1 Param Combo Number 15 Avg Precision = 0.630827012836\n",
      "Fold 1 Param Combo Number 16 Avg Precision = 0.664978353385\n",
      "Fold 1 Param Combo Number 17 Avg Precision = 0.646488580748\n",
      "Fold 1 Param Combo Number 18 Avg Precision = 0.633554583769\n",
      "Fold 1 Param Combo Number 19 Avg Precision = 0.637730333403\n",
      "Fold 1 Param Combo Number 20 Avg Precision = 0.638849229203\n",
      "Best Params for Outer Fold 1 | Number of Trees = 200 | Max Depth = 2\n",
      "Fold 1 Error Metric: 0.7\n",
      "Fold 2 Param Combo Number 1 Avg Precision = 0.653789528944\n",
      "Fold 2 Param Combo Number 2 Avg Precision = 0.663507931166\n",
      "Fold 2 Param Combo Number 3 Avg Precision = 0.64619949664\n",
      "Fold 2 Param Combo Number 4 Avg Precision = 0.649427360211\n",
      "Fold 2 Param Combo Number 5 Avg Precision = 0.655632449146\n",
      "Fold 2 Param Combo Number 6 Avg Precision = 0.676531667968\n",
      "Fold 2 Param Combo Number 7 Avg Precision = 0.649672827479\n",
      "Fold 2 Param Combo Number 8 Avg Precision = 0.657842637691\n",
      "Fold 2 Param Combo Number 9 Avg Precision = 0.651177287017\n",
      "Fold 2 Param Combo Number 10 Avg Precision = 0.642300995768\n",
      "Fold 2 Param Combo Number 11 Avg Precision = 0.67349496045\n",
      "Fold 2 Param Combo Number 12 Avg Precision = 0.653467525377\n",
      "Fold 2 Param Combo Number 13 Avg Precision = 0.647295151375\n",
      "Fold 2 Param Combo Number 14 Avg Precision = 0.653436239849\n",
      "Fold 2 Param Combo Number 15 Avg Precision = 0.645446954275\n",
      "Fold 2 Param Combo Number 16 Avg Precision = 0.677650274561\n",
      "Fold 2 Param Combo Number 17 Avg Precision = 0.656354257695\n",
      "Fold 2 Param Combo Number 18 Avg Precision = 0.65914956809\n",
      "Fold 2 Param Combo Number 19 Avg Precision = 0.651771334342\n",
      "Fold 2 Param Combo Number 20 Avg Precision = 0.64262274228\n",
      "Best Params for Outer Fold 2 | Number of Trees = 300 | Max Depth = 2\n",
      "Fold 2 Error Metric: 0.69\n",
      "Fold 3 Param Combo Number 1 Avg Precision = 0.644201752928\n",
      "Fold 3 Param Combo Number 2 Avg Precision = 0.643335280231\n",
      "Fold 3 Param Combo Number 3 Avg Precision = 0.643658512097\n",
      "Fold 3 Param Combo Number 4 Avg Precision = 0.633366964288\n",
      "Fold 3 Param Combo Number 5 Avg Precision = 0.61963395663\n",
      "Fold 3 Param Combo Number 6 Avg Precision = 0.659899629071\n",
      "Fold 3 Param Combo Number 7 Avg Precision = 0.643529858015\n",
      "Fold 3 Param Combo Number 8 Avg Precision = 0.63089980991\n",
      "Fold 3 Param Combo Number 9 Avg Precision = 0.630329336843\n",
      "Fold 3 Param Combo Number 10 Avg Precision = 0.631298522009\n",
      "Fold 3 Param Combo Number 11 Avg Precision = 0.648895218493\n",
      "Fold 3 Param Combo Number 12 Avg Precision = 0.637365069496\n",
      "Fold 3 Param Combo Number 13 Avg Precision = 0.639911949063\n",
      "Fold 3 Param Combo Number 14 Avg Precision = 0.63988836172\n",
      "Fold 3 Param Combo Number 15 Avg Precision = 0.633590675799\n",
      "Fold 3 Param Combo Number 16 Avg Precision = 0.654661570685\n",
      "Fold 3 Param Combo Number 17 Avg Precision = 0.632247553035\n",
      "Fold 3 Param Combo Number 18 Avg Precision = 0.639980925845\n",
      "Fold 3 Param Combo Number 19 Avg Precision = 0.633896632934\n",
      "Fold 3 Param Combo Number 20 Avg Precision = 0.633213377899\n",
      "Best Params for Outer Fold 3 | Number of Trees = 100 | Max Depth = 2\n",
      "Fold 3 Error Metric: 0.65\n",
      "Fold 4 Param Combo Number 1 Avg Precision = 0.657622141623\n",
      "Fold 4 Param Combo Number 2 Avg Precision = 0.65000699525\n",
      "Fold 4 Param Combo Number 3 Avg Precision = 0.638902607533\n",
      "Fold 4 Param Combo Number 4 Avg Precision = 0.642155798596\n",
      "Fold 4 Param Combo Number 5 Avg Precision = 0.642273408332\n",
      "Fold 4 Param Combo Number 6 Avg Precision = 0.672762423985\n",
      "Fold 4 Param Combo Number 7 Avg Precision = 0.664766349305\n",
      "Fold 4 Param Combo Number 8 Avg Precision = 0.644947420344\n",
      "Fold 4 Param Combo Number 9 Avg Precision = 0.638276477703\n",
      "Fold 4 Param Combo Number 10 Avg Precision = 0.640404885341\n",
      "Fold 4 Param Combo Number 11 Avg Precision = 0.668265713322\n",
      "Fold 4 Param Combo Number 12 Avg Precision = 0.655056322702\n",
      "Fold 4 Param Combo Number 13 Avg Precision = 0.651944073887\n",
      "Fold 4 Param Combo Number 14 Avg Precision = 0.640096686835\n",
      "Fold 4 Param Combo Number 15 Avg Precision = 0.634635878184\n",
      "Fold 4 Param Combo Number 16 Avg Precision = 0.670551254606\n",
      "Fold 4 Param Combo Number 17 Avg Precision = 0.650662325973\n",
      "Fold 4 Param Combo Number 18 Avg Precision = 0.654139194408\n",
      "Fold 4 Param Combo Number 19 Avg Precision = 0.638504532763\n",
      "Fold 4 Param Combo Number 20 Avg Precision = 0.639495182432\n",
      "Best Params for Outer Fold 4 | Number of Trees = 100 | Max Depth = 2\n",
      "Fold 4 Error Metric: 0.67\n",
      "Fold 5 Param Combo Number 1 Avg Precision = 0.663407738392\n",
      "Fold 5 Param Combo Number 2 Avg Precision = 0.641828961315\n",
      "Fold 5 Param Combo Number 3 Avg Precision = 0.634798737627\n",
      "Fold 5 Param Combo Number 4 Avg Precision = 0.638329793318\n",
      "Fold 5 Param Combo Number 5 Avg Precision = 0.634545282261\n",
      "Fold 5 Param Combo Number 6 Avg Precision = 0.672841020503\n",
      "Fold 5 Param Combo Number 7 Avg Precision = 0.656870578846\n",
      "Fold 5 Param Combo Number 8 Avg Precision = 0.646478355303\n",
      "Fold 5 Param Combo Number 9 Avg Precision = 0.632228918186\n",
      "Fold 5 Param Combo Number 10 Avg Precision = 0.634906328512\n",
      "Fold 5 Param Combo Number 11 Avg Precision = 0.666126806975\n",
      "Fold 5 Param Combo Number 12 Avg Precision = 0.651542771915\n",
      "Fold 5 Param Combo Number 13 Avg Precision = 0.642985796163\n",
      "Fold 5 Param Combo Number 14 Avg Precision = 0.634106301359\n",
      "Fold 5 Param Combo Number 15 Avg Precision = 0.634609971288\n",
      "Fold 5 Param Combo Number 16 Avg Precision = 0.667393718043\n",
      "Fold 5 Param Combo Number 17 Avg Precision = 0.648654714506\n",
      "Fold 5 Param Combo Number 18 Avg Precision = 0.642864368983\n",
      "Fold 5 Param Combo Number 19 Avg Precision = 0.645194330971\n",
      "Fold 5 Param Combo Number 20 Avg Precision = 0.629386712677\n",
      "Best Params for Outer Fold 5 | Number of Trees = 100 | Max Depth = 2\n",
      "Fold 5 Error Metric: 0.68\n",
      "Fold 6 Param Combo Number 1 Avg Precision = 0.681245610823\n",
      "Fold 6 Param Combo Number 2 Avg Precision = 0.668508059397\n",
      "Fold 6 Param Combo Number 3 Avg Precision = 0.658993896076\n",
      "Fold 6 Param Combo Number 4 Avg Precision = 0.655772703577\n",
      "Fold 6 Param Combo Number 5 Avg Precision = 0.649822307495\n",
      "Fold 6 Param Combo Number 6 Avg Precision = 0.674754628146\n",
      "Fold 6 Param Combo Number 7 Avg Precision = 0.660230211556\n",
      "Fold 6 Param Combo Number 8 Avg Precision = 0.646483471318\n",
      "Fold 6 Param Combo Number 9 Avg Precision = 0.640324261366\n",
      "Fold 6 Param Combo Number 10 Avg Precision = 0.648347653842\n",
      "Fold 6 Param Combo Number 11 Avg Precision = 0.681094881436\n",
      "Fold 6 Param Combo Number 12 Avg Precision = 0.662321216745\n",
      "Fold 6 Param Combo Number 13 Avg Precision = 0.649611738773\n",
      "Fold 6 Param Combo Number 14 Avg Precision = 0.647471975108\n",
      "Fold 6 Param Combo Number 15 Avg Precision = 0.647214869859\n",
      "Fold 6 Param Combo Number 16 Avg Precision = 0.679153925599\n",
      "Fold 6 Param Combo Number 17 Avg Precision = 0.654670125282\n",
      "Fold 6 Param Combo Number 18 Avg Precision = 0.650268548648\n",
      "Fold 6 Param Combo Number 19 Avg Precision = 0.652223526082\n",
      "Fold 6 Param Combo Number 20 Avg Precision = 0.651997724085\n",
      "Best Params for Outer Fold 6 | Number of Trees = 50 | Max Depth = 2\n",
      "Fold 6 Error Metric: 0.68\n",
      "Fold 7 Param Combo Number 1 Avg Precision = 0.663635432595\n",
      "Fold 7 Param Combo Number 2 Avg Precision = 0.647710833972\n",
      "Fold 7 Param Combo Number 3 Avg Precision = 0.64727573547\n",
      "Fold 7 Param Combo Number 4 Avg Precision = 0.654349082699\n",
      "Fold 7 Param Combo Number 5 Avg Precision = 0.638833255891\n",
      "Fold 7 Param Combo Number 6 Avg Precision = 0.674850455228\n",
      "Fold 7 Param Combo Number 7 Avg Precision = 0.638183508325\n",
      "Fold 7 Param Combo Number 8 Avg Precision = 0.647107831489\n",
      "Fold 7 Param Combo Number 9 Avg Precision = 0.642647021029\n",
      "Fold 7 Param Combo Number 10 Avg Precision = 0.643087830205\n",
      "Fold 7 Param Combo Number 11 Avg Precision = 0.664722988225\n",
      "Fold 7 Param Combo Number 12 Avg Precision = 0.647756008504\n",
      "Fold 7 Param Combo Number 13 Avg Precision = 0.640235516021\n",
      "Fold 7 Param Combo Number 14 Avg Precision = 0.643820582102\n",
      "Fold 7 Param Combo Number 15 Avg Precision = 0.629387070076\n",
      "Fold 7 Param Combo Number 16 Avg Precision = 0.663857727755\n",
      "Fold 7 Param Combo Number 17 Avg Precision = 0.654998780037\n",
      "Fold 7 Param Combo Number 18 Avg Precision = 0.642610068079\n",
      "Fold 7 Param Combo Number 19 Avg Precision = 0.642359660563\n",
      "Fold 7 Param Combo Number 20 Avg Precision = 0.636133186714\n",
      "Best Params for Outer Fold 7 | Number of Trees = 100 | Max Depth = 2\n",
      "Fold 7 Error Metric: 0.7\n",
      "Fold 8 Param Combo Number 1 Avg Precision = 0.648079771809\n",
      "Fold 8 Param Combo Number 2 Avg Precision = 0.639494633492\n",
      "Fold 8 Param Combo Number 3 Avg Precision = 0.632136511682\n",
      "Fold 8 Param Combo Number 4 Avg Precision = 0.62335948857\n",
      "Fold 8 Param Combo Number 5 Avg Precision = 0.616240974704\n",
      "Fold 8 Param Combo Number 6 Avg Precision = 0.647436689186\n",
      "Fold 8 Param Combo Number 7 Avg Precision = 0.641328663095\n",
      "Fold 8 Param Combo Number 8 Avg Precision = 0.639302350222\n",
      "Fold 8 Param Combo Number 9 Avg Precision = 0.628362954076\n",
      "Fold 8 Param Combo Number 10 Avg Precision = 0.621100226881\n",
      "Fold 8 Param Combo Number 11 Avg Precision = 0.65651504156\n",
      "Fold 8 Param Combo Number 12 Avg Precision = 0.636188282932\n",
      "Fold 8 Param Combo Number 13 Avg Precision = 0.634837355883\n",
      "Fold 8 Param Combo Number 14 Avg Precision = 0.633210220573\n",
      "Fold 8 Param Combo Number 15 Avg Precision = 0.615502528171\n",
      "Fold 8 Param Combo Number 16 Avg Precision = 0.646729053072\n",
      "Fold 8 Param Combo Number 17 Avg Precision = 0.636345335298\n",
      "Fold 8 Param Combo Number 18 Avg Precision = 0.633149052889\n",
      "Fold 8 Param Combo Number 19 Avg Precision = 0.631508929951\n",
      "Fold 8 Param Combo Number 20 Avg Precision = 0.628282545346\n",
      "Best Params for Outer Fold 8 | Number of Trees = 200 | Max Depth = 2\n",
      "Fold 8 Error Metric: 0.76\n",
      "Fold 9 Param Combo Number 1 Avg Precision = 0.670952580835\n",
      "Fold 9 Param Combo Number 2 Avg Precision = 0.654108372993\n",
      "Fold 9 Param Combo Number 3 Avg Precision = 0.659079332339\n",
      "Fold 9 Param Combo Number 4 Avg Precision = 0.655866241481\n",
      "Fold 9 Param Combo Number 5 Avg Precision = 0.649284966334\n",
      "Fold 9 Param Combo Number 6 Avg Precision = 0.683233206193\n",
      "Fold 9 Param Combo Number 7 Avg Precision = 0.66388394812\n",
      "Fold 9 Param Combo Number 8 Avg Precision = 0.660681254551\n",
      "Fold 9 Param Combo Number 9 Avg Precision = 0.649096953715\n",
      "Fold 9 Param Combo Number 10 Avg Precision = 0.646513430429\n",
      "Fold 9 Param Combo Number 11 Avg Precision = 0.687215097626\n",
      "Fold 9 Param Combo Number 12 Avg Precision = 0.669504903201\n",
      "Fold 9 Param Combo Number 13 Avg Precision = 0.660356530158\n",
      "Fold 9 Param Combo Number 14 Avg Precision = 0.6557606662\n",
      "Fold 9 Param Combo Number 15 Avg Precision = 0.651882070374\n",
      "Fold 9 Param Combo Number 16 Avg Precision = 0.671164185981\n",
      "Fold 9 Param Combo Number 17 Avg Precision = 0.66059582049\n",
      "Fold 9 Param Combo Number 18 Avg Precision = 0.655688316226\n",
      "Fold 9 Param Combo Number 19 Avg Precision = 0.654481404326\n",
      "Fold 9 Param Combo Number 20 Avg Precision = 0.64381772975\n",
      "Best Params for Outer Fold 9 | Number of Trees = 200 | Max Depth = 2\n",
      "Fold 9 Error Metric: 0.67\n",
      "Fold 10 Param Combo Number 1 Avg Precision = 0.665010198539\n",
      "Fold 10 Param Combo Number 2 Avg Precision = 0.675658260297\n",
      "Fold 10 Param Combo Number 3 Avg Precision = 0.657945492625\n",
      "Fold 10 Param Combo Number 4 Avg Precision = 0.655578625649\n",
      "Fold 10 Param Combo Number 5 Avg Precision = 0.646470421719\n",
      "Fold 10 Param Combo Number 6 Avg Precision = 0.68567142613\n",
      "Fold 10 Param Combo Number 7 Avg Precision = 0.677681975176\n",
      "Fold 10 Param Combo Number 8 Avg Precision = 0.655405190039\n",
      "Fold 10 Param Combo Number 9 Avg Precision = 0.648868326126\n",
      "Fold 10 Param Combo Number 10 Avg Precision = 0.651692033645\n",
      "Fold 10 Param Combo Number 11 Avg Precision = 0.679057937355\n",
      "Fold 10 Param Combo Number 12 Avg Precision = 0.671385170822\n",
      "Fold 10 Param Combo Number 13 Avg Precision = 0.667756140474\n",
      "Fold 10 Param Combo Number 14 Avg Precision = 0.650517837671\n",
      "Fold 10 Param Combo Number 15 Avg Precision = 0.649967289471\n",
      "Fold 10 Param Combo Number 16 Avg Precision = 0.679734332527\n",
      "Fold 10 Param Combo Number 17 Avg Precision = 0.669776852591\n",
      "Fold 10 Param Combo Number 18 Avg Precision = 0.662360311113\n",
      "Fold 10 Param Combo Number 19 Avg Precision = 0.653011899577\n",
      "Fold 10 Param Combo Number 20 Avg Precision = 0.65212654176\n",
      "Best Params for Outer Fold 10 | Number of Trees = 100 | Max Depth = 2\n",
      "Fold 10 Error Metric: 0.55\n",
      "****************************************************\n",
      "Average Error Metric= 0.67414\n",
      "Best Parameters:  Number of Trees = 300 Max Depth = 2\n"
     ]
    }
   ],
   "source": [
    "## Set up cross-validation loop\n",
    "\n",
    "cv_accuracy = []\n",
    "cv_precision = []\n",
    "cv_recall = []\n",
    "\n",
    "#kernel_choice = ['rbf','poly','sigmoid']\n",
    "n_trees = [50,100,200,300]\n",
    "depths = [2,3,4,5,6]\n",
    "\n",
    "outer_param_scores = {}\n",
    "outer_error_metric = []\n",
    "\n",
    "summary_error = pd.DataFrame()\n",
    "\n",
    "\n",
    "for fold in range(1,numFolds+1):\n",
    "    \n",
    "    # Outer Cross-Validation\n",
    "    \n",
    "    cv_train = train[train['Fold'] != fold]\n",
    "    cv_test = train[train['Fold'] == fold]\n",
    "    \n",
    "    del cv_train['Fold']\n",
    "    del cv_test['Fold']\n",
    "    \n",
    "    y_train = cv_train['Result_Target'].copy()\n",
    "    x_train = cv_train.copy()\n",
    "    del x_train['Result_Target']\n",
    "\n",
    "    \n",
    "    y_test = cv_test['Result_Target'].copy()\n",
    "    del cv_test['Result_Target']\n",
    "    x_test = cv_test.copy()\n",
    "    \n",
    "    # Set up inner cross-validation\n",
    "    \n",
    "    inner_train = cv_train.copy()\n",
    "    del cv_train['Result_Target']\n",
    "    \n",
    "    inner_train['Inner_Fold'] = inner_train.apply(Assign_Train_Test, axis = 1)\n",
    "    \n",
    "    best_hyper_params = {}\n",
    "    #se = {}\n",
    "    \n",
    "    paramComboDict = {}\n",
    "    error_dict = {}\n",
    "    outerfold = []\n",
    "    inner_average = []\n",
    "    paramnum = []\n",
    "    paramComboNum = 0\n",
    "    \n",
    "    # Iterate thru hyperparameter search\n",
    "    for k in n_trees:\n",
    "        #if k == 'poly':\n",
    "        #    gamma_list = [2,3,4]\n",
    "        #else:\n",
    "        #    gamma_list = [.01,.1,.2,.5,1]\n",
    "        for g in depths:\n",
    "            \n",
    "            paramComboNum += 1\n",
    "            paramComboDict[paramComboNum] ={'Depth': g,\n",
    "                                            'N_Trees': k}\n",
    "            if verbose:\n",
    "                print paramComboNum\n",
    "                \n",
    "            error_metric = []\n",
    "    \n",
    "            for inner_fold in range(1,numFolds+1):\n",
    "            \n",
    "                #print 'Inner Fold: ' + str(inner_fold)\n",
    "        \n",
    "                inner_cv_train = inner_train[inner_train['Inner_Fold']!= inner_fold]\n",
    "                inner_cv_test = inner_train[inner_train['Inner_Fold']== inner_fold]\n",
    "        \n",
    "                del inner_cv_train['Inner_Fold']\n",
    "                del inner_cv_test['Inner_Fold']\n",
    "        \n",
    "                y_inner_train = inner_cv_train['Result_Target']\n",
    "                del inner_cv_train['Result_Target']\n",
    "                x_inner_train = inner_cv_train.copy()\n",
    "    \n",
    "                y_inner_test = inner_cv_test['Result_Target']\n",
    "                del inner_cv_test['Result_Target']\n",
    "                x_inner_test = inner_cv_test.copy()\n",
    "                \n",
    "                clf = RandomForestClassifier(n_estimators = k, max_depth = g)\n",
    "                #if k == 'poly':\n",
    "                #    clf = SVC(kernel = 'poly',degree = g, class_weight = 'balanced')\n",
    "                #else:\n",
    "                #    clf = SVC(kernel = k,gamma = g)\n",
    "                \n",
    "                preds = FitPredict(x_inner_train,y_inner_train,x_inner_test,clf)\n",
    "    \n",
    "                cem, precision,recall = ComputeErrorMetric(y_inner_test,preds)  # Calculate combined error metric\n",
    "        \n",
    "                error_metric.append(precision)\n",
    "              \n",
    "                #if cem > 0:\n",
    "                #print 'Precision = ' + str(precision) + ' | ' + 'Recall = ' + str(recall)\n",
    "                    \n",
    "            \n",
    "            avg_error_metric = np.mean(error_metric)\n",
    "            em_std_err = sem(error_metric)\n",
    "            \n",
    "            print 'Fold ' + str(fold) + ' Param Combo Number ' + str(paramComboNum) + ' Avg Precision = ' + str((avg_error_metric - em_std_err))\n",
    "            outerfold.append(fold)\n",
    "            inner_average.append(avg_error_metric - em_std_err)\n",
    "            paramnum.append(paramComboNum)\n",
    "    \n",
    "    \n",
    "    if 'outerfold' in summary_error.columns and'inner_average' in summary_error.columns and 'paramnum' in summary_error.columns:\n",
    "        temp_df = pd.DataFrame({'outerfold':outerfold,'inner_average':inner_average,'paramnum':paramnum})\n",
    "        summary_error = pd.concat([summary_error, temp_df])    \n",
    "    else:   \n",
    "        summary_error['outerfold'] = outerfold\n",
    "        summary_error['inner_average'] = inner_average\n",
    "        summary_error['paramnum'] = paramnum\n",
    "    \n",
    "    sub = summary_error[summary_error['outerfold']==fold]\n",
    "        \n",
    "    best_params = paramComboDict[sub['paramnum'][sub['inner_average'].idxmax()]]\n",
    "    \n",
    "    k = best_params['N_Trees']\n",
    "    g = best_params['Depth']\n",
    "    \n",
    "    print 'Best Params for Outer Fold ' + str(fold) + ' | ' + 'Number of Trees = ' + str(k) + ' | ' + 'Max Depth = ' + str(g)\n",
    "    \n",
    "    clf = RandomForestClassifier(n_estimators = k, max_depth = g)  \n",
    "    \n",
    "    #if k == 'poly':\n",
    "    #    clf = SVC(kernel = k, degree = float(g))\n",
    "    #else:\n",
    "    #    clf = SVC(kernel = k, gamma = float(g))\n",
    "    \n",
    "    preds = FitPredict(x_train,y_train,x_test,clf)\n",
    "    \n",
    "    cem, precision,recall = ComputeErrorMetric(y_test,preds)\n",
    "    \n",
    "    outer_error_metric.append(precision)\n",
    "    \n",
    "    print 'Fold ' + str(fold) + ' Error Metric: ' + str(round(precision,2))\n",
    "    \n",
    "    outer_param_scores[sub['paramnum'][sub['inner_average'].idxmax()]] = precision\n",
    "\n",
    "for key in outer_param_scores.keys():\n",
    "    if outer_param_scores[key] == max(outer_param_scores.values()):\n",
    "        best_combo = key\n",
    "        \n",
    "best_params = paramComboDict[best_combo]\n",
    "\n",
    "best_k = best_params['N_Trees']\n",
    "best_gamma = best_params['Depth']\n",
    "\n",
    "avg_error_metric = np.mean(outer_error_metric)   \n",
    "    \n",
    "    \n",
    "print '****************************************************'\n",
    "print 'Average Error Metric= ' + str(avg_error_metric)\n",
    "print 'Best Parameters: ' + ' Number of Trees = ' + str(best_k) + ' Max Depth = ' + str(best_gamma)"
   ]
  },
  {
   "cell_type": "markdown",
   "metadata": {},
   "source": [
    "## Test on holdout set"
   ]
  },
  {
   "cell_type": "code",
   "execution_count": 58,
   "metadata": {
    "collapsed": false
   },
   "outputs": [
    {
     "name": "stdout",
     "output_type": "stream",
     "text": [
      "Holdout Set Error Metric = 0.65\n",
      "Precision = 0.6508\n"
     ]
    }
   ],
   "source": [
    "## Prepare for test\n",
    "from sklearn.metrics import confusion_matrix\n",
    "from sklearn.metrics import precision_score\n",
    "\n",
    "x_train = train.copy()\n",
    "x_test = holdout.copy()\n",
    "\n",
    "y_train = x_train['Result_Target']\n",
    "del x_train['Result_Target']\n",
    "del x_train['Fold']\n",
    "\n",
    "y_test = x_test['Result_Target']\n",
    "del x_test['Result_Target']\n",
    "\n",
    "clf = RandomForestClassifier(n_estimators = 200, max_depth = 2, random_state = 1988)\n",
    "\n",
    "preds = FitPredict(x_train,y_train,x_test,clf)\n",
    "cem, precision, recall = ComputeErrorMetric(y_test,preds)\n",
    "\n",
    "print 'Holdout Set Error Metric = ' + str(round(precision,2))\n",
    "print 'Precision = ' + str(precision)\n",
    "#print 'Recall = ' + str(recall)\n",
    "\n",
    "## Metric to beat SVM = 0.5301\n",
    "## Metric after optimizing gamma / decision_function SVM = .5465\n",
    "## Metric Random Forest n_estimators = 200, max_depth = 2 = .65"
   ]
  },
  {
   "cell_type": "code",
   "execution_count": 59,
   "metadata": {
    "collapsed": false
   },
   "outputs": [
    {
     "data": {
      "text/html": [
       "<div>\n",
       "<table border=\"1\" class=\"dataframe\">\n",
       "  <thead>\n",
       "    <tr style=\"text-align: right;\">\n",
       "      <th>Predicted</th>\n",
       "      <th>0.0</th>\n",
       "      <th>1.0</th>\n",
       "      <th>All</th>\n",
       "    </tr>\n",
       "    <tr>\n",
       "      <th>Actual</th>\n",
       "      <th></th>\n",
       "      <th></th>\n",
       "      <th></th>\n",
       "    </tr>\n",
       "  </thead>\n",
       "  <tbody>\n",
       "    <tr>\n",
       "      <th>0.0</th>\n",
       "      <td>116</td>\n",
       "      <td>22</td>\n",
       "      <td>138</td>\n",
       "    </tr>\n",
       "    <tr>\n",
       "      <th>1.0</th>\n",
       "      <td>67</td>\n",
       "      <td>41</td>\n",
       "      <td>108</td>\n",
       "    </tr>\n",
       "    <tr>\n",
       "      <th>All</th>\n",
       "      <td>183</td>\n",
       "      <td>63</td>\n",
       "      <td>246</td>\n",
       "    </tr>\n",
       "  </tbody>\n",
       "</table>\n",
       "</div>"
      ],
      "text/plain": [
       "Predicted  0.0  1.0  All\n",
       "Actual                  \n",
       "0.0        116   22  138\n",
       "1.0         67   41  108\n",
       "All        183   63  246"
      ]
     },
     "execution_count": 59,
     "metadata": {},
     "output_type": "execute_result"
    }
   ],
   "source": [
    "df_confusion = pd.crosstab(y_test,preds, rownames=['Actual'], colnames=['Predicted'], margins=True)\n",
    "df_confusion"
   ]
  },
  {
   "cell_type": "markdown",
   "metadata": {},
   "source": [
    "### Finally, build model based off of entire dataset"
   ]
  },
  {
   "cell_type": "code",
   "execution_count": 79,
   "metadata": {
    "collapsed": false
   },
   "outputs": [],
   "source": [
    "x_train = data.copy()\n",
    "\n",
    "y_train = x_train['Result_Target'].copy()\n",
    "del x_train['Result_Target']\n",
    "\n",
    "clf = SVC(kernel = 'poly', degree = 2)\n",
    "\n",
    "fit_clf = clf.fit(x_train,y_train)"
   ]
  },
  {
   "cell_type": "code",
   "execution_count": 80,
   "metadata": {
    "collapsed": true
   },
   "outputs": [],
   "source": [
    "with open('/Users/mtetkosk/Google Drive/Data Science Projects/models/%s_SVC_Model_Champion.pkl'%(date), 'wb') as f:\n",
    "    pickle.dump(fit_clf, f)"
   ]
  },
  {
   "cell_type": "markdown",
   "metadata": {},
   "source": [
    "## Output Results"
   ]
  },
  {
   "cell_type": "code",
   "execution_count": 81,
   "metadata": {
    "collapsed": false
   },
   "outputs": [],
   "source": [
    "Results_Df = pd.DataFrame({'Date': date, 'Holdout Precision': precision, 'Kernel': best_k, 'Degree': best_gamma}, index=[0])\n",
    "\n",
    "Results_Df.to_csv('/Users/mtetkosk/Google Drive/Data Science Projects/models/%s_SVM_Model_Champion.csv'%(date))"
   ]
  },
  {
   "cell_type": "markdown",
   "metadata": {},
   "source": [
    "## Betting Analysis"
   ]
  },
  {
   "cell_type": "code",
   "execution_count": 60,
   "metadata": {
    "collapsed": true
   },
   "outputs": [],
   "source": [
    "test_home_odds = x_test['Average_Home_Odds'].copy()\n",
    "test_away_odds = x_test['Average_Away_Odds'].copy()\n",
    "draw_odds = x_test['Average_Draw_Odds'].copy()\n",
    "bet_preds = preds.copy()\n",
    "actual_results = y_test.copy()"
   ]
  },
  {
   "cell_type": "code",
   "execution_count": 61,
   "metadata": {
    "collapsed": false
   },
   "outputs": [
    {
     "data": {
      "text/html": [
       "<div>\n",
       "<table border=\"1\" class=\"dataframe\">\n",
       "  <thead>\n",
       "    <tr style=\"text-align: right;\">\n",
       "      <th></th>\n",
       "      <th>Away_Odds</th>\n",
       "      <th>Draw_Odds</th>\n",
       "      <th>Home_Odds</th>\n",
       "      <th>Model_Preds</th>\n",
       "      <th>Result</th>\n",
       "    </tr>\n",
       "  </thead>\n",
       "  <tbody>\n",
       "    <tr>\n",
       "      <th>3</th>\n",
       "      <td>12.50</td>\n",
       "      <td>5.92</td>\n",
       "      <td>1.20</td>\n",
       "      <td>1.0</td>\n",
       "      <td>1.0</td>\n",
       "    </tr>\n",
       "    <tr>\n",
       "      <th>4</th>\n",
       "      <td>8.75</td>\n",
       "      <td>4.45</td>\n",
       "      <td>1.39</td>\n",
       "      <td>1.0</td>\n",
       "      <td>1.0</td>\n",
       "    </tr>\n",
       "    <tr>\n",
       "      <th>8</th>\n",
       "      <td>4.15</td>\n",
       "      <td>3.51</td>\n",
       "      <td>1.84</td>\n",
       "      <td>1.0</td>\n",
       "      <td>1.0</td>\n",
       "    </tr>\n",
       "    <tr>\n",
       "      <th>11</th>\n",
       "      <td>16.83</td>\n",
       "      <td>6.92</td>\n",
       "      <td>1.14</td>\n",
       "      <td>1.0</td>\n",
       "      <td>1.0</td>\n",
       "    </tr>\n",
       "    <tr>\n",
       "      <th>12</th>\n",
       "      <td>15.17</td>\n",
       "      <td>6.92</td>\n",
       "      <td>1.15</td>\n",
       "      <td>1.0</td>\n",
       "      <td>1.0</td>\n",
       "    </tr>\n",
       "    <tr>\n",
       "      <th>13</th>\n",
       "      <td>4.62</td>\n",
       "      <td>3.40</td>\n",
       "      <td>1.77</td>\n",
       "      <td>1.0</td>\n",
       "      <td>1.0</td>\n",
       "    </tr>\n",
       "    <tr>\n",
       "      <th>18</th>\n",
       "      <td>12.83</td>\n",
       "      <td>5.50</td>\n",
       "      <td>1.24</td>\n",
       "      <td>1.0</td>\n",
       "      <td>1.0</td>\n",
       "    </tr>\n",
       "    <tr>\n",
       "      <th>30</th>\n",
       "      <td>5.77</td>\n",
       "      <td>3.82</td>\n",
       "      <td>1.57</td>\n",
       "      <td>1.0</td>\n",
       "      <td>1.0</td>\n",
       "    </tr>\n",
       "    <tr>\n",
       "      <th>39</th>\n",
       "      <td>7.67</td>\n",
       "      <td>4.22</td>\n",
       "      <td>1.43</td>\n",
       "      <td>1.0</td>\n",
       "      <td>0.0</td>\n",
       "    </tr>\n",
       "    <tr>\n",
       "      <th>40</th>\n",
       "      <td>3.88</td>\n",
       "      <td>3.23</td>\n",
       "      <td>1.98</td>\n",
       "      <td>1.0</td>\n",
       "      <td>0.0</td>\n",
       "    </tr>\n",
       "    <tr>\n",
       "      <th>41</th>\n",
       "      <td>8.08</td>\n",
       "      <td>4.12</td>\n",
       "      <td>1.43</td>\n",
       "      <td>1.0</td>\n",
       "      <td>1.0</td>\n",
       "    </tr>\n",
       "    <tr>\n",
       "      <th>42</th>\n",
       "      <td>14.67</td>\n",
       "      <td>5.70</td>\n",
       "      <td>1.20</td>\n",
       "      <td>1.0</td>\n",
       "      <td>1.0</td>\n",
       "    </tr>\n",
       "    <tr>\n",
       "      <th>47</th>\n",
       "      <td>9.50</td>\n",
       "      <td>5.29</td>\n",
       "      <td>1.30</td>\n",
       "      <td>1.0</td>\n",
       "      <td>0.0</td>\n",
       "    </tr>\n",
       "    <tr>\n",
       "      <th>58</th>\n",
       "      <td>7.08</td>\n",
       "      <td>3.96</td>\n",
       "      <td>1.48</td>\n",
       "      <td>1.0</td>\n",
       "      <td>1.0</td>\n",
       "    </tr>\n",
       "    <tr>\n",
       "      <th>62</th>\n",
       "      <td>7.54</td>\n",
       "      <td>4.23</td>\n",
       "      <td>1.44</td>\n",
       "      <td>1.0</td>\n",
       "      <td>1.0</td>\n",
       "    </tr>\n",
       "    <tr>\n",
       "      <th>70</th>\n",
       "      <td>12.08</td>\n",
       "      <td>5.67</td>\n",
       "      <td>1.24</td>\n",
       "      <td>1.0</td>\n",
       "      <td>0.0</td>\n",
       "    </tr>\n",
       "    <tr>\n",
       "      <th>79</th>\n",
       "      <td>8.26</td>\n",
       "      <td>4.67</td>\n",
       "      <td>1.37</td>\n",
       "      <td>1.0</td>\n",
       "      <td>1.0</td>\n",
       "    </tr>\n",
       "    <tr>\n",
       "      <th>80</th>\n",
       "      <td>13.92</td>\n",
       "      <td>5.71</td>\n",
       "      <td>1.22</td>\n",
       "      <td>1.0</td>\n",
       "      <td>1.0</td>\n",
       "    </tr>\n",
       "    <tr>\n",
       "      <th>87</th>\n",
       "      <td>7.28</td>\n",
       "      <td>4.10</td>\n",
       "      <td>1.46</td>\n",
       "      <td>1.0</td>\n",
       "      <td>1.0</td>\n",
       "    </tr>\n",
       "    <tr>\n",
       "      <th>92</th>\n",
       "      <td>10.42</td>\n",
       "      <td>5.33</td>\n",
       "      <td>1.29</td>\n",
       "      <td>1.0</td>\n",
       "      <td>1.0</td>\n",
       "    </tr>\n",
       "    <tr>\n",
       "      <th>93</th>\n",
       "      <td>6.62</td>\n",
       "      <td>3.94</td>\n",
       "      <td>1.52</td>\n",
       "      <td>1.0</td>\n",
       "      <td>0.0</td>\n",
       "    </tr>\n",
       "    <tr>\n",
       "      <th>97</th>\n",
       "      <td>10.22</td>\n",
       "      <td>4.81</td>\n",
       "      <td>1.32</td>\n",
       "      <td>1.0</td>\n",
       "      <td>1.0</td>\n",
       "    </tr>\n",
       "    <tr>\n",
       "      <th>98</th>\n",
       "      <td>4.79</td>\n",
       "      <td>3.52</td>\n",
       "      <td>1.74</td>\n",
       "      <td>1.0</td>\n",
       "      <td>1.0</td>\n",
       "    </tr>\n",
       "    <tr>\n",
       "      <th>99</th>\n",
       "      <td>8.38</td>\n",
       "      <td>4.68</td>\n",
       "      <td>1.37</td>\n",
       "      <td>1.0</td>\n",
       "      <td>1.0</td>\n",
       "    </tr>\n",
       "    <tr>\n",
       "      <th>100</th>\n",
       "      <td>11.92</td>\n",
       "      <td>5.46</td>\n",
       "      <td>1.26</td>\n",
       "      <td>1.0</td>\n",
       "      <td>1.0</td>\n",
       "    </tr>\n",
       "  </tbody>\n",
       "</table>\n",
       "</div>"
      ],
      "text/plain": [
       "     Away_Odds  Draw_Odds  Home_Odds  Model_Preds  Result\n",
       "3        12.50       5.92       1.20          1.0     1.0\n",
       "4         8.75       4.45       1.39          1.0     1.0\n",
       "8         4.15       3.51       1.84          1.0     1.0\n",
       "11       16.83       6.92       1.14          1.0     1.0\n",
       "12       15.17       6.92       1.15          1.0     1.0\n",
       "13        4.62       3.40       1.77          1.0     1.0\n",
       "18       12.83       5.50       1.24          1.0     1.0\n",
       "30        5.77       3.82       1.57          1.0     1.0\n",
       "39        7.67       4.22       1.43          1.0     0.0\n",
       "40        3.88       3.23       1.98          1.0     0.0\n",
       "41        8.08       4.12       1.43          1.0     1.0\n",
       "42       14.67       5.70       1.20          1.0     1.0\n",
       "47        9.50       5.29       1.30          1.0     0.0\n",
       "58        7.08       3.96       1.48          1.0     1.0\n",
       "62        7.54       4.23       1.44          1.0     1.0\n",
       "70       12.08       5.67       1.24          1.0     0.0\n",
       "79        8.26       4.67       1.37          1.0     1.0\n",
       "80       13.92       5.71       1.22          1.0     1.0\n",
       "87        7.28       4.10       1.46          1.0     1.0\n",
       "92       10.42       5.33       1.29          1.0     1.0\n",
       "93        6.62       3.94       1.52          1.0     0.0\n",
       "97       10.22       4.81       1.32          1.0     1.0\n",
       "98        4.79       3.52       1.74          1.0     1.0\n",
       "99        8.38       4.68       1.37          1.0     1.0\n",
       "100      11.92       5.46       1.26          1.0     1.0"
      ]
     },
     "execution_count": 61,
     "metadata": {},
     "output_type": "execute_result"
    }
   ],
   "source": [
    "Betting_df = pd.DataFrame({'Home_Odds':test_home_odds,'Away_Odds':test_away_odds,'Draw_Odds': draw_odds,'Model_Preds':bet_preds,'Result': y_test.copy()})\n",
    "Betting_df = Betting_df.reset_index(drop=True)\n",
    "Betting_df[Betting_df['Model_Preds']==1][:25]"
   ]
  },
  {
   "cell_type": "code",
   "execution_count": 65,
   "metadata": {
    "collapsed": false
   },
   "outputs": [],
   "source": [
    "## Betting Analysis Function\n",
    "\n",
    "def BettingAnalysis(df,purse,bet):\n",
    "    initial_purse = purse\n",
    "    purse_track = []\n",
    "    for match in range(len(df)):\n",
    "        pred = df['Model_Preds'][match]\n",
    "        result = df['Result'][match]\n",
    "        home_odds = df['Home_Odds'][match]\n",
    "        away_odds = df['Away_Odds'][match]\n",
    "        draw_odds = df['Draw_Odds'][match]\n",
    "        if pred == 0:\n",
    "            purse_track.append(purse)\n",
    "            continue\n",
    "        if pred == 1 and pred == result:\n",
    "            #if pred == 1:\n",
    "            #    win = round(bet*home_odds,2)-bet\n",
    "            #    purse += win\n",
    "            #if pred == -1: #simulate no bet\n",
    "            #    win = round(bet*away_odds,2)-bet\n",
    "            #    purse += win\n",
    "            #purse_track.append(purse)\n",
    "            if pred == 1:\n",
    "                win = round(bet*home_odds,2)-bet\n",
    "                assert win > 0\n",
    "                purse += win\n",
    "        else:\n",
    "            purse = purse - bet\n",
    "            purse_track.append(purse)\n",
    "    \n",
    "    if purse > initial_purse:\n",
    "        profit = purse-initial_purse\n",
    "        #return 'You profited ' +str(round(profit,2)) +'!'\n",
    "        return purse_track\n",
    "    if purse == initial_purse:\n",
    "        #return 'You broke even!'\n",
    "        return purse_track\n",
    "    if purse < initial_purse:\n",
    "        loss = purse-initial_purse\n",
    "        #return 'You lost ' + str(abs(round(loss,2))) + 'now you\\'re broke!'\n",
    "        return purse_track"
   ]
  },
  {
   "cell_type": "code",
   "execution_count": 66,
   "metadata": {
    "collapsed": false
   },
   "outputs": [],
   "source": [
    "purse_track = BettingAnalysis(Betting_df,100,5)"
   ]
  },
  {
   "cell_type": "code",
   "execution_count": 67,
   "metadata": {
    "collapsed": false
   },
   "outputs": [
    {
     "data": {
      "text/plain": [
       "<matplotlib.text.Text at 0x1170a7950>"
      ]
     },
     "execution_count": 67,
     "metadata": {},
     "output_type": "execute_result"
    },
    {
     "data": {
      "image/png": "[encoded data removed]",
      "text/plain": [
       "<matplotlib.figure.Figure at 0x116116ad0>"
      ]
     },
     "metadata": {},
     "output_type": "display_data"
    }
   ],
   "source": [
    "plt.plot(purse_track)\n",
    "plt.xlabel('Match Number')\n",
    "plt.ylabel('Betting Balance $')\n",
    "plt.title('Betting Algorithm Results')"
   ]
  },
  {
   "cell_type": "code",
   "execution_count": null,
   "metadata": {
    "collapsed": true
   },
   "outputs": [],
   "source": []
  }
 ],
 "metadata": {
  "anaconda-cloud": {},
  "kernelspec": {
   "display_name": "Python [conda root]",
   "language": "python",
   "name": "conda-root-py"
  },
  "language_info": {
   "codemirror_mode": {
    "name": "ipython",
    "version": 2
   },
   "file_extension": ".py",
   "mimetype": "text/x-python",
   "name": "python",
   "nbconvert_exporter": "python",
   "pygments_lexer": "ipython2",
   "version": "2.7.12"
  }
 },
 "nbformat": 4,
 "nbformat_minor": 1
}
