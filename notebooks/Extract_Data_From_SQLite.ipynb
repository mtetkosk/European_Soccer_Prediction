{
 "cells": [
  {
   "cell_type": "markdown",
   "metadata": {},
   "source": [
    "Use this notebook to read in sqlite database and export csv with basic features"
   ]
  },
  {
   "cell_type": "code",
   "execution_count": 1,
   "metadata": {
    "collapsed": true
   },
   "outputs": [],
   "source": [
    "import numpy as np\n",
    "import matplotlib.pyplot as plt\n",
    "import pandas as pd\n",
    "import sqlite3"
   ]
  },
  {
   "cell_type": "markdown",
   "metadata": {},
   "source": [
    "Load SQLite tables"
   ]
  },
  {
   "cell_type": "code",
   "execution_count": 3,
   "metadata": {
    "collapsed": true
   },
   "outputs": [],
   "source": [
    "with sqlite3.connect('/Users/mtetkosk/Google Drive/Fantasy Sports/Soccer/database.sqlite') as con:\n",
    "    countries = pd.read_sql_query(\"SELECT * from Country\", con)\n",
    "    players = pd.read_sql_query(\"SELECT * FROM Player\",con)\n",
    "    player_attributes = pd.read_sql_query(\"SELECT * FROM Player_Attributes\",con)\n",
    "    team_attributes = pd.read_sql_query(\"SELECT * FROM Team_Attributes\",con)\n",
    "    matches = pd.read_sql_query(\"SELECT * from Match\", con)\n",
    "    leagues = pd.read_sql_query(\"SELECT * from League\", con)\n",
    "    teams = pd.read_sql_query(\"SELECT * from Team\", con)"
   ]
  },
  {
   "cell_type": "markdown",
   "metadata": {},
   "source": [
    "Goal of Analysis - Predict total number of goals in English Premier League matches"
   ]
  },
  {
   "cell_type": "code",
   "execution_count": 5,
   "metadata": {
    "collapsed": true
   },
   "outputs": [],
   "source": [
    "#Filter teams and matches in English Premier League\n",
    "epl_matches = matches[matches.league_id == 1729]\n",
    "epl_team_ids = pd.DataFrame({'ID':(epl_matches['home_team_api_id'].unique())})\n",
    "epl_teams = pd.merge(teams,epl_team_ids,how = 'inner', left_on = 'team_api_id', right_on = 'ID' )\n",
    "epl_team_attributes = pd.merge(team_attributes, epl_team_ids, how = 'inner', left_on = 'team_api_id', right_on = 'ID')"
   ]
  },
  {
   "cell_type": "code",
   "execution_count": 6,
   "metadata": {
    "collapsed": true
   },
   "outputs": [],
   "source": [
    "# Write csv files\n",
    "epl_matches.to_csv('/Users/mtetkosk/Google Drive/Data Science Projects/data/processed/EPL_matches.csv')\n",
    "epl_teams.to_csv('/Users/mtetkosk/Google Drive/Data Science Projects/data/processed/EPL_teams.csv')\n",
    "player_attributes.to_csv('/Users/mtetkosk/Google Drive/Data Science Projects/data/processed/Player_Attributes.csv')\n",
    "players.to_csv('/Users/mtetkosk/Google Drive/Data Science Projects/data/processed/Players.csv')\n",
    "epl_team_attributes.to_csv('/Users/mtetkosk/Google Drive/Data Science Projects/data/processed/EPL_team_attributes.csv')"
   ]
  },
  {
   "cell_type": "code",
   "execution_count": null,
   "metadata": {
    "collapsed": true
   },
   "outputs": [],
   "source": []
  }
 ],
 "metadata": {
  "anaconda-cloud": {},
  "kernelspec": {
   "display_name": "Python [default]",
   "language": "python",
   "name": "python2"
  },
  "language_info": {
   "codemirror_mode": {
    "name": "ipython",
    "version": 2
   },
   "file_extension": ".py",
   "mimetype": "text/x-python",
   "name": "python",
   "nbconvert_exporter": "python",
   "pygments_lexer": "ipython2",
   "version": "2.7.12"
  }
 },
 "nbformat": 4,
 "nbformat_minor": 1
}
