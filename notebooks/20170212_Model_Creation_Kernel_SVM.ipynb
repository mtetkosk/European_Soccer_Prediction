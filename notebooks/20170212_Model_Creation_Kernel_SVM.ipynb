{
 "cells": [
  {
   "cell_type": "markdown",
   "metadata": {},
   "source": [
    "## Model Selection Notebook\n",
    "\n",
    "This notebook will perform model selection on a Kernel SVM to predict binary classification\n",
    "\n",
    "- Home Win Result\n",
    "- Not Home Win Result"
   ]
  },
  {
   "cell_type": "code",
   "execution_count": 67,
   "metadata": {
    "collapsed": false
   },
   "outputs": [],
   "source": [
    "import pandas as pd\n",
    "import numpy as np\n",
    "import pickle\n",
    "from scipy.stats import sem\n",
    "from sklearn.svm import SVC\n",
    "from sklearn import cross_validation\n",
    "from sklearn.cross_validation import train_test_split\n",
    "from sklearn.grid_search import GridSearchCV\n",
    "from sklearn.metrics import accuracy_score\n",
    "from sklearn.metrics import precision_score\n",
    "from sklearn.metrics import recall_score\n",
    "import random\n",
    "from matplotlib import pyplot as plt\n",
    "%matplotlib inline\n",
    "from scipy.stats import sem\n",
    "\n",
    "numFolds = 10\n",
    "\n",
    "date = '20170217'"
   ]
  },
  {
   "cell_type": "code",
   "execution_count": 3,
   "metadata": {
    "collapsed": false
   },
   "outputs": [],
   "source": [
    "# Load data\n",
    "data = pd.read_csv('/Users/mtetkosk/Google Drive/Data Science Projects/data/processed/%s_Matches_w_Features.csv'%(date))"
   ]
  },
  {
   "cell_type": "code",
   "execution_count": 4,
   "metadata": {
    "collapsed": false
   },
   "outputs": [],
   "source": [
    "for col in data.columns:\n",
    "    if data[col].dtype == 'object':\n",
    "        print col"
   ]
  },
  {
   "cell_type": "code",
   "execution_count": 5,
   "metadata": {
    "collapsed": false
   },
   "outputs": [
    {
     "name": "stdout",
     "output_type": "stream",
     "text": [
      "2280\n",
      "(2280, 196)\n"
     ]
    }
   ],
   "source": [
    "print len(data)\n",
    "print data.shape"
   ]
  },
  {
   "cell_type": "code",
   "execution_count": 6,
   "metadata": {
    "collapsed": false
   },
   "outputs": [],
   "source": [
    "home_goals = data['home_team_goal']\n",
    "away_goals = data['away_team_goal']"
   ]
  },
  {
   "cell_type": "code",
   "execution_count": 7,
   "metadata": {
    "collapsed": true
   },
   "outputs": [],
   "source": [
    "del data['home_team_goal']\n",
    "del data['away_team_goal']"
   ]
  },
  {
   "cell_type": "code",
   "execution_count": 8,
   "metadata": {
    "collapsed": false
   },
   "outputs": [
    {
     "name": "stdout",
     "output_type": "stream",
     "text": [
      "(2280, 194)\n"
     ]
    }
   ],
   "source": [
    "print data.shape"
   ]
  },
  {
   "cell_type": "code",
   "execution_count": 9,
   "metadata": {
    "collapsed": true
   },
   "outputs": [],
   "source": [
    "## First step is to set up training and holdout set\n",
    "def Assign_Train_Test(df):\n",
    "    num = random.randint(1,numFolds)\n",
    "    return num"
   ]
  },
  {
   "cell_type": "code",
   "execution_count": 10,
   "metadata": {
    "collapsed": false
   },
   "outputs": [],
   "source": [
    "data['Train_Test'] = data.apply(Assign_Train_Test, axis = 1)"
   ]
  },
  {
   "cell_type": "code",
   "execution_count": 11,
   "metadata": {
    "collapsed": false
   },
   "outputs": [
    {
     "name": "stdout",
     "output_type": "stream",
     "text": [
      "Test length 178\n",
      "Train length 2102\n"
     ]
    }
   ],
   "source": [
    "## Chose holdout set as approx 10% of data\n",
    "holdout = data[data['Train_Test']==1]\n",
    "train = data[data['Train_Test']!= 1]\n",
    "\n",
    "# Remove the train_test variable from the dataframes\n",
    "del holdout['Train_Test']\n",
    "del train['Train_Test']\n",
    "\n",
    "print 'Test length ' + str(len(holdout))\n",
    "print 'Train length ' + str(len(train))"
   ]
  },
  {
   "cell_type": "code",
   "execution_count": 12,
   "metadata": {
    "collapsed": true
   },
   "outputs": [],
   "source": [
    "from sklearn.metrics import f1_score\n",
    "from sklearn.metrics import recall_score\n",
    "from sklearn.metrics import precision_score"
   ]
  },
  {
   "cell_type": "code",
   "execution_count": 19,
   "metadata": {
    "collapsed": true
   },
   "outputs": [],
   "source": [
    "def FitPredict(x_train,y_train,x_test,model):\n",
    "    \n",
    "    fit_model = model.fit(x_train,y_train)\n",
    "    preds = fit_model.predict(x_test)\n",
    "    \n",
    "    return preds\n",
    "\n",
    "def ComputeErrorMetric(y_true,y_pred):\n",
    "    \n",
    "    #df = pd.DataFrame({'y_true':y_true, 'y_pred':y_pred})\n",
    "    # draw\n",
    "    #hw_fp = ((df.y_true != 1) & (df.y_pred == 1))\n",
    "    #hw_tp = ((df.y_true == 1) & (df.y_pred == 1))\n",
    "    #hw_fn = ((df.y_true == 1) & (df.y_pred != 1))\n",
    "    #hw_tn = ((df.y_true != 1) & (df.y_pred != 1))\n",
    "\n",
    "    #true_positive = sum(hw_tp)\n",
    "    #false_positive = sum(hw_fp)\n",
    "    #true_negative = sum(hw_tn)\n",
    "    #false_negative = sum(hw_fn)\n",
    "\n",
    "    #combined_error_metric = 10.0/13.0*false_positive/(false_positive+true_negative)+3.0/13.0*false_negative/(false_negative+true_positive)\n",
    "    \n",
    "    #precision = true_positive / (true_positive + false_positive)\n",
    "    #recall = true_positive / (true_positive + false_negative)\n",
    "    \n",
    "    f1score = f1_score(y_true,y_pred, average='binary')\n",
    "    precision = precision_score(y_true,y_pred, average='binary')\n",
    "    recall = recall_score(y_true,y_pred, average = 'binary')\n",
    "    \n",
    "    return round(f1score,2), round(precision,4), round(recall,2)"
   ]
  },
  {
   "cell_type": "code",
   "execution_count": 20,
   "metadata": {
    "collapsed": false
   },
   "outputs": [
    {
     "name": "stderr",
     "output_type": "stream",
     "text": [
      "/Users/mtetkosk/anaconda/lib/python2.7/site-packages/ipykernel/__main__.py:3: SettingWithCopyWarning: \n",
      "A value is trying to be set on a copy of a slice from a DataFrame.\n",
      "Try using .loc[row_indexer,col_indexer] = value instead\n",
      "\n",
      "See the caveats in the documentation: http://pandas.pydata.org/pandas-docs/stable/indexing.html#indexing-view-versus-copy\n",
      "  app.launch_new_instance()\n"
     ]
    },
    {
     "data": {
      "text/plain": [
       "3     217\n",
       "2     217\n",
       "8     215\n",
       "5     213\n",
       "10    213\n",
       "4     213\n",
       "6     209\n",
       "9     208\n",
       "1     206\n",
       "7     191\n",
       "Name: Fold, dtype: int64"
      ]
     },
     "execution_count": 20,
     "metadata": {},
     "output_type": "execute_result"
    }
   ],
   "source": [
    "## Use Assign_Train_Test to assign cross-validation folds\n",
    "\n",
    "train['Fold'] = train.apply(Assign_Train_Test,axis = 1)\n",
    "\n",
    "train['Fold'].value_counts()   #All folds are approximately equal size"
   ]
  },
  {
   "cell_type": "code",
   "execution_count": 74,
   "metadata": {
    "collapsed": true
   },
   "outputs": [],
   "source": [
    "verbose = True"
   ]
  },
  {
   "cell_type": "code",
   "execution_count": 76,
   "metadata": {
    "collapsed": false,
    "scrolled": false
   },
   "outputs": [
    {
     "name": "stdout",
     "output_type": "stream",
     "text": [
      "Fold 1 Param Combo Number 1 Avg Precision = 0.518869159643\n",
      "Fold 1 Param Combo Number 2 Avg Precision = 0.518869159643\n",
      "Fold 1 Param Combo Number 3 Avg Precision = 0.521413074037\n",
      "Fold 1 Param Combo Number 4 Avg Precision = 0.521413074037\n",
      "Fold 1 Param Combo Number 5 Avg Precision = 0.518869159643\n",
      "Fold 1 Param Combo Number 6 Avg Precision = 0.518869159643\n",
      "Fold 1 Param Combo Number 7 Avg Precision = 0.521413074037\n",
      "Fold 1 Param Combo Number 8 Avg Precision = 0.521413074037\n",
      "Best Params for Outer Fold 1 | Decision Function = ovo | gamma = 0.5\n",
      "Fold 1 Error Metric: 0.6\n",
      "Fold 2 Param Combo Number 1 Avg Precision = 0.534079655747\n",
      "Fold 2 Param Combo Number 2 Avg Precision = 0.534079655747\n",
      "Fold 2 Param Combo Number 3 Avg Precision = 0.534850136796\n",
      "Fold 2 Param Combo Number 4 Avg Precision = 0.534850136796\n",
      "Fold 2 Param Combo Number 5 Avg Precision = 0.534079655747\n",
      "Fold 2 Param Combo Number 6 Avg Precision = 0.534079655747\n",
      "Fold 2 Param Combo Number 7 Avg Precision = 0.534850136796\n",
      "Fold 2 Param Combo Number 8 Avg Precision = 0.534850136796\n",
      "Best Params for Outer Fold 2 | Decision Function = ovo | gamma = 0.5\n",
      "Fold 2 Error Metric: 0.45\n",
      "Fold 3 Param Combo Number 1 Avg Precision = 0.513572856224\n",
      "Fold 3 Param Combo Number 2 Avg Precision = 0.513572856224\n",
      "Fold 3 Param Combo Number 3 Avg Precision = 0.516755147658\n",
      "Fold 3 Param Combo Number 4 Avg Precision = 0.516755147658\n",
      "Fold 3 Param Combo Number 5 Avg Precision = 0.513572856224\n",
      "Fold 3 Param Combo Number 6 Avg Precision = 0.513572856224\n",
      "Fold 3 Param Combo Number 7 Avg Precision = 0.516755147658\n",
      "Fold 3 Param Combo Number 8 Avg Precision = 0.516755147658\n",
      "Best Params for Outer Fold 3 | Decision Function = ovo | gamma = 0.5\n",
      "Fold 3 Error Metric: 0.62\n",
      "Fold 4 Param Combo Number 1 Avg Precision = 0.543312598565\n",
      "Fold 4 Param Combo Number 2 Avg Precision = 0.543312598565\n",
      "Fold 4 Param Combo Number 3 Avg Precision = 0.54158445186\n",
      "Fold 4 Param Combo Number 4 Avg Precision = 0.54158445186\n",
      "Fold 4 Param Combo Number 5 Avg Precision = 0.543312598565\n",
      "Fold 4 Param Combo Number 6 Avg Precision = 0.543312598565\n",
      "Fold 4 Param Combo Number 7 Avg Precision = 0.54158445186\n",
      "Fold 4 Param Combo Number 8 Avg Precision = 0.54158445186\n",
      "Best Params for Outer Fold 4 | Decision Function = ovo | gamma = 0.1\n",
      "Fold 4 Error Metric: 0.46\n",
      "Fold 5 Param Combo Number 1 Avg Precision = 0.519560951552\n",
      "Fold 5 Param Combo Number 2 Avg Precision = 0.519560951552\n",
      "Fold 5 Param Combo Number 3 Avg Precision = 0.519911441169\n",
      "Fold 5 Param Combo Number 4 Avg Precision = 0.519911441169\n",
      "Fold 5 Param Combo Number 5 Avg Precision = 0.519560951552\n",
      "Fold 5 Param Combo Number 6 Avg Precision = 0.519560951552\n",
      "Fold 5 Param Combo Number 7 Avg Precision = 0.519911441169\n",
      "Fold 5 Param Combo Number 8 Avg Precision = 0.519911441169\n",
      "Best Params for Outer Fold 5 | Decision Function = ovo | gamma = 0.5\n",
      "Fold 5 Error Metric: 0.56\n",
      "Fold 6 Param Combo Number 1 Avg Precision = 0.511410031678\n",
      "Fold 6 Param Combo Number 2 Avg Precision = 0.511410031678\n",
      "Fold 6 Param Combo Number 3 Avg Precision = 0.513382628573\n",
      "Fold 6 Param Combo Number 4 Avg Precision = 0.513382628573\n",
      "Fold 6 Param Combo Number 5 Avg Precision = 0.511410031678\n",
      "Fold 6 Param Combo Number 6 Avg Precision = 0.511410031678\n",
      "Fold 6 Param Combo Number 7 Avg Precision = 0.513382628573\n",
      "Fold 6 Param Combo Number 8 Avg Precision = 0.513382628573\n",
      "Best Params for Outer Fold 6 | Decision Function = ovo | gamma = 0.5\n",
      "Fold 6 Error Metric: 0.49\n",
      "Fold 7 Param Combo Number 1 Avg Precision = 0.527818597523\n",
      "Fold 7 Param Combo Number 2 Avg Precision = 0.527818597523\n",
      "Fold 7 Param Combo Number 3 Avg Precision = 0.522568114893\n",
      "Fold 7 Param Combo Number 4 Avg Precision = 0.522568114893\n",
      "Fold 7 Param Combo Number 5 Avg Precision = 0.527818597523\n",
      "Fold 7 Param Combo Number 6 Avg Precision = 0.527818597523\n",
      "Fold 7 Param Combo Number 7 Avg Precision = 0.522568114893\n",
      "Fold 7 Param Combo Number 8 Avg Precision = 0.522568114893\n",
      "Best Params for Outer Fold 7 | Decision Function = ovo | gamma = 0.1\n",
      "Fold 7 Error Metric: 0.62\n",
      "Fold 8 Param Combo Number 1 Avg Precision = 0.514906458988\n",
      "Fold 8 Param Combo Number 2 Avg Precision = 0.514906458988\n",
      "Fold 8 Param Combo Number 3 Avg Precision = 0.51450678613\n",
      "Fold 8 Param Combo Number 4 Avg Precision = 0.51450678613\n",
      "Fold 8 Param Combo Number 5 Avg Precision = 0.514906458988\n",
      "Fold 8 Param Combo Number 6 Avg Precision = 0.514906458988\n",
      "Fold 8 Param Combo Number 7 Avg Precision = 0.51450678613\n",
      "Fold 8 Param Combo Number 8 Avg Precision = 0.51450678613\n",
      "Best Params for Outer Fold 8 | Decision Function = ovo | gamma = 0.1\n",
      "Fold 8 Error Metric: 0.54\n",
      "Fold 9 Param Combo Number 1 Avg Precision = 0.503614316693\n",
      "Fold 9 Param Combo Number 2 Avg Precision = 0.503614316693\n",
      "Fold 9 Param Combo Number 3 Avg Precision = 0.502623567523\n",
      "Fold 9 Param Combo Number 4 Avg Precision = 0.502623567523\n",
      "Fold 9 Param Combo Number 5 Avg Precision = 0.503614316693\n",
      "Fold 9 Param Combo Number 6 Avg Precision = 0.503614316693\n",
      "Fold 9 Param Combo Number 7 Avg Precision = 0.502623567523\n",
      "Fold 9 Param Combo Number 8 Avg Precision = 0.502623567523\n",
      "Best Params for Outer Fold 9 | Decision Function = ovo | gamma = 0.1\n",
      "Fold 9 Error Metric: 0.62\n",
      "Fold 10 Param Combo Number 1 Avg Precision = 0.525178222996\n",
      "Fold 10 Param Combo Number 2 Avg Precision = 0.525178222996\n",
      "Fold 10 Param Combo Number 3 Avg Precision = 0.527142075072\n",
      "Fold 10 Param Combo Number 4 Avg Precision = 0.527142075072\n",
      "Fold 10 Param Combo Number 5 Avg Precision = 0.525178222996\n",
      "Fold 10 Param Combo Number 6 Avg Precision = 0.525178222996\n",
      "Fold 10 Param Combo Number 7 Avg Precision = 0.527142075072\n",
      "Fold 10 Param Combo Number 8 Avg Precision = 0.527142075072\n",
      "Best Params for Outer Fold 10 | Decision Function = ovo | gamma = 0.5\n",
      "Fold 10 Error Metric: 0.49\n",
      "****************************************************\n",
      "Average Error Metric= 0.54521\n",
      "Best Parameters:  Decision_Function = ovoGamma = 0.1\n"
     ]
    }
   ],
   "source": [
    "## Set up cross-validation loop\n",
    "\n",
    "cv_accuracy = []\n",
    "cv_precision = []\n",
    "cv_recall = []\n",
    "\n",
    "#kernel_choice = ['rbf','poly','sigmoid']\n",
    "decision_function_shapes = ['ovo','ovr']\n",
    "gamma_list = [0.1,.1,.5,1]\n",
    "\n",
    "outer_param_scores = {}\n",
    "outer_error_metric = []\n",
    "\n",
    "summary_error = pd.DataFrame()\n",
    "\n",
    "\n",
    "for fold in range(1,numFolds+1):\n",
    "    \n",
    "    # Outer Cross-Validation\n",
    "    \n",
    "    cv_train = train[train['Fold'] != fold]\n",
    "    cv_test = train[train['Fold'] == fold]\n",
    "    \n",
    "    del cv_train['Fold']\n",
    "    del cv_test['Fold']\n",
    "    \n",
    "    y_train = cv_train['Result_Target'].copy()\n",
    "    x_train = cv_train.copy()\n",
    "    del x_train['Result_Target']\n",
    "\n",
    "    \n",
    "    y_test = cv_test['Result_Target'].copy()\n",
    "    del cv_test['Result_Target']\n",
    "    x_test = cv_test.copy()\n",
    "    \n",
    "    # Set up inner cross-validation\n",
    "    \n",
    "    inner_train = cv_train.copy()\n",
    "    del cv_train['Result_Target']\n",
    "    \n",
    "    inner_train['Inner_Fold'] = inner_train.apply(Assign_Train_Test, axis = 1)\n",
    "    \n",
    "    best_hyper_params = {}\n",
    "    #se = {}\n",
    "    \n",
    "    paramComboDict = {}\n",
    "    error_dict = {}\n",
    "    outerfold = []\n",
    "    inner_average = []\n",
    "    paramnum = []\n",
    "    paramComboNum = 0\n",
    "    \n",
    "    # Iterate thru hyperparameter search\n",
    "    for k in decision_function_shapes:\n",
    "        #if k == 'poly':\n",
    "        #    gamma_list = [2,3,4]\n",
    "        #else:\n",
    "        #    gamma_list = [.01,.1,.2,.5,1]\n",
    "        for g in gamma_list:\n",
    "            \n",
    "            paramComboNum += 1\n",
    "            paramComboDict[paramComboNum] ={'gamma': g,\n",
    "                                            'kernel': k}\n",
    "            if verbose:\n",
    "                print paramComboNum\n",
    "                \n",
    "            error_metric = []\n",
    "    \n",
    "            for inner_fold in range(1,numFolds+1):\n",
    "            \n",
    "                #print 'Inner Fold: ' + str(inner_fold)\n",
    "        \n",
    "                inner_cv_train = inner_train[inner_train['Inner_Fold']!= inner_fold]\n",
    "                inner_cv_test = inner_train[inner_train['Inner_Fold']== inner_fold]\n",
    "        \n",
    "                del inner_cv_train['Inner_Fold']\n",
    "                del inner_cv_test['Inner_Fold']\n",
    "        \n",
    "                y_inner_train = inner_cv_train['Result_Target']\n",
    "                del inner_cv_train['Result_Target']\n",
    "                x_inner_train = inner_cv_train.copy()\n",
    "    \n",
    "                y_inner_test = inner_cv_test['Result_Target']\n",
    "                del inner_cv_test['Result_Target']\n",
    "                x_inner_test = inner_cv_test.copy()\n",
    "                \n",
    "                clf = SVC(kernel = 'poly',degree = 2, class_weight = 'balanced',gamma = g, decision_function_shape = k)\n",
    "                #if k == 'poly':\n",
    "                #    clf = SVC(kernel = 'poly',degree = g, class_weight = 'balanced')\n",
    "                #else:\n",
    "                #    clf = SVC(kernel = k,gamma = g)\n",
    "                \n",
    "                preds = FitPredict(x_inner_train,y_inner_train,x_inner_test,clf)\n",
    "    \n",
    "                cem, precision,recall = ComputeErrorMetric(y_inner_test,preds)  # Calculate combined error metric\n",
    "        \n",
    "                error_metric.append(precision)\n",
    "              \n",
    "                #if cem > 0:\n",
    "                #print 'Precision = ' + str(precision) + ' | ' + 'Recall = ' + str(recall)\n",
    "                    \n",
    "            \n",
    "            avg_error_metric = np.mean(error_metric)\n",
    "            em_std_err = sem(error_metric)\n",
    "            \n",
    "            print 'Fold ' + str(fold) + ' Param Combo Number ' + str(paramComboNum) + ' Avg Precision = ' + str((avg_error_metric - em_std_err))\n",
    "            outerfold.append(fold)\n",
    "            inner_average.append(avg_error_metric - em_std_err)\n",
    "            paramnum.append(paramComboNum)\n",
    "    \n",
    "    \n",
    "    if 'outerfold' in summary_error.columns and'inner_average' in summary_error.columns and 'paramnum' in summary_error.columns:\n",
    "        temp_df = pd.DataFrame({'outerfold':outerfold,'inner_average':inner_average,'paramnum':paramnum})\n",
    "        summary_error = pd.concat([summary_error, temp_df])    \n",
    "    else:   \n",
    "        summary_error['outerfold'] = outerfold\n",
    "        summary_error['inner_average'] = inner_average\n",
    "        summary_error['paramnum'] = paramnum\n",
    "    \n",
    "    sub = summary_error[summary_error['outerfold']==fold]\n",
    "        \n",
    "    best_params = paramComboDict[sub['paramnum'][sub['inner_average'].idxmax()]]\n",
    "    \n",
    "    k = best_params['kernel']\n",
    "    g = best_params['gamma']\n",
    "    \n",
    "    print 'Best Params for Outer Fold ' + str(fold) + ' | ' + 'Decision Function = ' + str(k) + ' | ' + 'gamma = ' + str(g)\n",
    "    \n",
    "    clf = SVC(kernel = 'poly',degree = 2, class_weight = 'balanced',gamma = float(g), decision_function_shape = k)    \n",
    "    \n",
    "    #if k == 'poly':\n",
    "    #    clf = SVC(kernel = k, degree = float(g))\n",
    "    #else:\n",
    "    #    clf = SVC(kernel = k, gamma = float(g))\n",
    "    \n",
    "    preds = FitPredict(x_train,y_train,x_test,clf)\n",
    "    \n",
    "    cem, precision,recall = ComputeErrorMetric(y_test,preds)\n",
    "    \n",
    "    outer_error_metric.append(precision)\n",
    "    \n",
    "    print 'Fold ' + str(fold) + ' Error Metric: ' + str(round(precision,2))\n",
    "    \n",
    "    outer_param_scores[sub['paramnum'][sub['inner_average'].idxmax()]] = precision\n",
    "\n",
    "for key in outer_param_scores.keys():\n",
    "    if outer_param_scores[key] == max(outer_param_scores.values()):\n",
    "        best_combo = key\n",
    "        \n",
    "best_params = paramComboDict[best_combo]\n",
    "\n",
    "best_k = best_params['kernel']\n",
    "best_gamma = best_params['gamma']\n",
    "\n",
    "avg_error_metric = np.mean(outer_error_metric)   \n",
    "    \n",
    "    \n",
    "print '****************************************************'\n",
    "print 'Average Error Metric= ' + str(avg_error_metric)\n",
    "print 'Best Parameters: ' + ' Decision_Function = ' + str(best_k) + 'Gamma = ' + str(best_gamma)"
   ]
  },
  {
   "cell_type": "markdown",
   "metadata": {},
   "source": [
    "## Test on holdout set"
   ]
  },
  {
   "cell_type": "code",
   "execution_count": 77,
   "metadata": {
    "collapsed": false
   },
   "outputs": [
    {
     "name": "stdout",
     "output_type": "stream",
     "text": [
      "Holdout Set Error Metric = 0.55\n",
      "Precision = 0.5465\n"
     ]
    }
   ],
   "source": [
    "## Prepare for test\n",
    "from sklearn.metrics import confusion_matrix\n",
    "from sklearn.metrics import precision_score\n",
    "\n",
    "x_train = train.copy()\n",
    "x_test = holdout.copy()\n",
    "\n",
    "y_train = x_train['Result_Target']\n",
    "del x_train['Result_Target']\n",
    "del x_train['Fold']\n",
    "\n",
    "y_test = x_test['Result_Target']\n",
    "del x_test['Result_Target']\n",
    "\n",
    "clf = SVC(kernel = 'poly',degree = 2, class_weight = 'balanced',gamma = .1, decision_function_shape = 'ovo')\n",
    "\n",
    "preds = FitPredict(x_train,y_train,x_test,clf)\n",
    "cem, precision, recall = ComputeErrorMetric(y_test,preds)\n",
    "\n",
    "print 'Holdout Set Error Metric = ' + str(round(precision,2))\n",
    "print 'Precision = ' + str(precision)\n",
    "#print 'Recall = ' + str(recall)\n",
    "\n",
    "## Metric to beat = 0.5301\n",
    "## Metric after optimizing gamma / decision_function = .5465"
   ]
  },
  {
   "cell_type": "code",
   "execution_count": 78,
   "metadata": {
    "collapsed": false
   },
   "outputs": [
    {
     "data": {
      "text/html": [
       "<div>\n",
       "<table border=\"1\" class=\"dataframe\">\n",
       "  <thead>\n",
       "    <tr style=\"text-align: right;\">\n",
       "      <th>Predicted</th>\n",
       "      <th>0.0</th>\n",
       "      <th>1.0</th>\n",
       "      <th>All</th>\n",
       "    </tr>\n",
       "    <tr>\n",
       "      <th>Actual</th>\n",
       "      <th></th>\n",
       "      <th></th>\n",
       "      <th></th>\n",
       "    </tr>\n",
       "  </thead>\n",
       "  <tbody>\n",
       "    <tr>\n",
       "      <th>0.0</th>\n",
       "      <td>55</td>\n",
       "      <td>39</td>\n",
       "      <td>94</td>\n",
       "    </tr>\n",
       "    <tr>\n",
       "      <th>1.0</th>\n",
       "      <td>37</td>\n",
       "      <td>47</td>\n",
       "      <td>84</td>\n",
       "    </tr>\n",
       "    <tr>\n",
       "      <th>All</th>\n",
       "      <td>92</td>\n",
       "      <td>86</td>\n",
       "      <td>178</td>\n",
       "    </tr>\n",
       "  </tbody>\n",
       "</table>\n",
       "</div>"
      ],
      "text/plain": [
       "Predicted  0.0  1.0  All\n",
       "Actual                  \n",
       "0.0         55   39   94\n",
       "1.0         37   47   84\n",
       "All         92   86  178"
      ]
     },
     "execution_count": 78,
     "metadata": {},
     "output_type": "execute_result"
    }
   ],
   "source": [
    "df_confusion = pd.crosstab(y_test,preds, rownames=['Actual'], colnames=['Predicted'], margins=True)\n",
    "df_confusion"
   ]
  },
  {
   "cell_type": "markdown",
   "metadata": {},
   "source": [
    "### Finally, build model based off of entire dataset"
   ]
  },
  {
   "cell_type": "code",
   "execution_count": 79,
   "metadata": {
    "collapsed": false
   },
   "outputs": [],
   "source": [
    "x_train = data.copy()\n",
    "\n",
    "y_train = x_train['Result_Target'].copy()\n",
    "del x_train['Result_Target']\n",
    "\n",
    "clf = SVC(kernel = 'poly', degree = 2)\n",
    "\n",
    "fit_clf = clf.fit(x_train,y_train)"
   ]
  },
  {
   "cell_type": "code",
   "execution_count": 80,
   "metadata": {
    "collapsed": true
   },
   "outputs": [],
   "source": [
    "with open('/Users/mtetkosk/Google Drive/Data Science Projects/models/%s_SVC_Model_Champion.pkl'%(date), 'wb') as f:\n",
    "    pickle.dump(fit_clf, f)"
   ]
  },
  {
   "cell_type": "markdown",
   "metadata": {},
   "source": [
    "## Output Results"
   ]
  },
  {
   "cell_type": "code",
   "execution_count": 81,
   "metadata": {
    "collapsed": false
   },
   "outputs": [],
   "source": [
    "Results_Df = pd.DataFrame({'Date': date, 'Holdout Precision': precision, 'Kernel': best_k, 'Degree': best_gamma}, index=[0])\n",
    "\n",
    "Results_Df.to_csv('/Users/mtetkosk/Google Drive/Data Science Projects/models/%s_SVM_Model_Champion.csv'%(date))"
   ]
  },
  {
   "cell_type": "markdown",
   "metadata": {},
   "source": [
    "## Betting Analysis"
   ]
  },
  {
   "cell_type": "code",
   "execution_count": 82,
   "metadata": {
    "collapsed": true
   },
   "outputs": [],
   "source": [
    "test_home_odds = x_test['Average_Home_Odds'].copy()\n",
    "test_away_odds = x_test['Average_Away_Odds'].copy()\n",
    "draw_odds = x_test['Average_Draw_Odds'].copy()\n",
    "bet_preds = preds.copy()\n",
    "actual_results = y_test.copy()"
   ]
  },
  {
   "cell_type": "code",
   "execution_count": 83,
   "metadata": {
    "collapsed": false
   },
   "outputs": [
    {
     "data": {
      "text/html": [
       "<div>\n",
       "<table border=\"1\" class=\"dataframe\">\n",
       "  <thead>\n",
       "    <tr style=\"text-align: right;\">\n",
       "      <th></th>\n",
       "      <th>Away_Odds</th>\n",
       "      <th>Draw_Odds</th>\n",
       "      <th>Home_Odds</th>\n",
       "      <th>Model_Preds</th>\n",
       "      <th>Result</th>\n",
       "    </tr>\n",
       "  </thead>\n",
       "  <tbody>\n",
       "    <tr>\n",
       "      <th>0</th>\n",
       "      <td>14.83</td>\n",
       "      <td>5.70</td>\n",
       "      <td>1.19</td>\n",
       "      <td>1.0</td>\n",
       "      <td>1.0</td>\n",
       "    </tr>\n",
       "    <tr>\n",
       "      <th>2</th>\n",
       "      <td>14.50</td>\n",
       "      <td>5.97</td>\n",
       "      <td>1.20</td>\n",
       "      <td>1.0</td>\n",
       "      <td>1.0</td>\n",
       "    </tr>\n",
       "    <tr>\n",
       "      <th>4</th>\n",
       "      <td>3.41</td>\n",
       "      <td>3.23</td>\n",
       "      <td>2.17</td>\n",
       "      <td>1.0</td>\n",
       "      <td>1.0</td>\n",
       "    </tr>\n",
       "    <tr>\n",
       "      <th>5</th>\n",
       "      <td>3.05</td>\n",
       "      <td>3.25</td>\n",
       "      <td>2.21</td>\n",
       "      <td>1.0</td>\n",
       "      <td>0.0</td>\n",
       "    </tr>\n",
       "    <tr>\n",
       "      <th>8</th>\n",
       "      <td>9.83</td>\n",
       "      <td>4.61</td>\n",
       "      <td>1.32</td>\n",
       "      <td>1.0</td>\n",
       "      <td>1.0</td>\n",
       "    </tr>\n",
       "    <tr>\n",
       "      <th>12</th>\n",
       "      <td>4.21</td>\n",
       "      <td>3.45</td>\n",
       "      <td>1.85</td>\n",
       "      <td>1.0</td>\n",
       "      <td>1.0</td>\n",
       "    </tr>\n",
       "    <tr>\n",
       "      <th>13</th>\n",
       "      <td>7.37</td>\n",
       "      <td>4.11</td>\n",
       "      <td>1.45</td>\n",
       "      <td>1.0</td>\n",
       "      <td>1.0</td>\n",
       "    </tr>\n",
       "    <tr>\n",
       "      <th>14</th>\n",
       "      <td>17.42</td>\n",
       "      <td>6.88</td>\n",
       "      <td>1.14</td>\n",
       "      <td>1.0</td>\n",
       "      <td>1.0</td>\n",
       "    </tr>\n",
       "    <tr>\n",
       "      <th>15</th>\n",
       "      <td>8.85</td>\n",
       "      <td>4.15</td>\n",
       "      <td>1.39</td>\n",
       "      <td>1.0</td>\n",
       "      <td>1.0</td>\n",
       "    </tr>\n",
       "    <tr>\n",
       "      <th>19</th>\n",
       "      <td>1.29</td>\n",
       "      <td>4.97</td>\n",
       "      <td>10.83</td>\n",
       "      <td>1.0</td>\n",
       "      <td>0.0</td>\n",
       "    </tr>\n",
       "    <tr>\n",
       "      <th>20</th>\n",
       "      <td>1.39</td>\n",
       "      <td>4.58</td>\n",
       "      <td>8.18</td>\n",
       "      <td>1.0</td>\n",
       "      <td>0.0</td>\n",
       "    </tr>\n",
       "    <tr>\n",
       "      <th>21</th>\n",
       "      <td>2.68</td>\n",
       "      <td>3.21</td>\n",
       "      <td>2.61</td>\n",
       "      <td>1.0</td>\n",
       "      <td>0.0</td>\n",
       "    </tr>\n",
       "    <tr>\n",
       "      <th>26</th>\n",
       "      <td>1.72</td>\n",
       "      <td>3.49</td>\n",
       "      <td>5.22</td>\n",
       "      <td>1.0</td>\n",
       "      <td>1.0</td>\n",
       "    </tr>\n",
       "    <tr>\n",
       "      <th>27</th>\n",
       "      <td>10.33</td>\n",
       "      <td>4.92</td>\n",
       "      <td>1.30</td>\n",
       "      <td>1.0</td>\n",
       "      <td>1.0</td>\n",
       "    </tr>\n",
       "    <tr>\n",
       "      <th>28</th>\n",
       "      <td>4.71</td>\n",
       "      <td>3.50</td>\n",
       "      <td>1.75</td>\n",
       "      <td>1.0</td>\n",
       "      <td>1.0</td>\n",
       "    </tr>\n",
       "    <tr>\n",
       "      <th>29</th>\n",
       "      <td>2.28</td>\n",
       "      <td>3.28</td>\n",
       "      <td>3.05</td>\n",
       "      <td>1.0</td>\n",
       "      <td>0.0</td>\n",
       "    </tr>\n",
       "    <tr>\n",
       "      <th>31</th>\n",
       "      <td>12.67</td>\n",
       "      <td>5.96</td>\n",
       "      <td>1.22</td>\n",
       "      <td>1.0</td>\n",
       "      <td>1.0</td>\n",
       "    </tr>\n",
       "    <tr>\n",
       "      <th>32</th>\n",
       "      <td>15.33</td>\n",
       "      <td>6.83</td>\n",
       "      <td>1.17</td>\n",
       "      <td>1.0</td>\n",
       "      <td>1.0</td>\n",
       "    </tr>\n",
       "    <tr>\n",
       "      <th>37</th>\n",
       "      <td>5.42</td>\n",
       "      <td>3.83</td>\n",
       "      <td>1.61</td>\n",
       "      <td>1.0</td>\n",
       "      <td>0.0</td>\n",
       "    </tr>\n",
       "    <tr>\n",
       "      <th>40</th>\n",
       "      <td>1.74</td>\n",
       "      <td>3.64</td>\n",
       "      <td>4.66</td>\n",
       "      <td>1.0</td>\n",
       "      <td>0.0</td>\n",
       "    </tr>\n",
       "    <tr>\n",
       "      <th>42</th>\n",
       "      <td>5.81</td>\n",
       "      <td>3.87</td>\n",
       "      <td>1.58</td>\n",
       "      <td>1.0</td>\n",
       "      <td>0.0</td>\n",
       "    </tr>\n",
       "    <tr>\n",
       "      <th>43</th>\n",
       "      <td>3.62</td>\n",
       "      <td>3.42</td>\n",
       "      <td>1.97</td>\n",
       "      <td>1.0</td>\n",
       "      <td>0.0</td>\n",
       "    </tr>\n",
       "    <tr>\n",
       "      <th>45</th>\n",
       "      <td>6.32</td>\n",
       "      <td>3.88</td>\n",
       "      <td>1.54</td>\n",
       "      <td>1.0</td>\n",
       "      <td>0.0</td>\n",
       "    </tr>\n",
       "    <tr>\n",
       "      <th>50</th>\n",
       "      <td>3.93</td>\n",
       "      <td>3.31</td>\n",
       "      <td>1.96</td>\n",
       "      <td>1.0</td>\n",
       "      <td>1.0</td>\n",
       "    </tr>\n",
       "    <tr>\n",
       "      <th>51</th>\n",
       "      <td>2.32</td>\n",
       "      <td>3.24</td>\n",
       "      <td>3.07</td>\n",
       "      <td>1.0</td>\n",
       "      <td>0.0</td>\n",
       "    </tr>\n",
       "  </tbody>\n",
       "</table>\n",
       "</div>"
      ],
      "text/plain": [
       "    Away_Odds  Draw_Odds  Home_Odds  Model_Preds  Result\n",
       "0       14.83       5.70       1.19          1.0     1.0\n",
       "2       14.50       5.97       1.20          1.0     1.0\n",
       "4        3.41       3.23       2.17          1.0     1.0\n",
       "5        3.05       3.25       2.21          1.0     0.0\n",
       "8        9.83       4.61       1.32          1.0     1.0\n",
       "12       4.21       3.45       1.85          1.0     1.0\n",
       "13       7.37       4.11       1.45          1.0     1.0\n",
       "14      17.42       6.88       1.14          1.0     1.0\n",
       "15       8.85       4.15       1.39          1.0     1.0\n",
       "19       1.29       4.97      10.83          1.0     0.0\n",
       "20       1.39       4.58       8.18          1.0     0.0\n",
       "21       2.68       3.21       2.61          1.0     0.0\n",
       "26       1.72       3.49       5.22          1.0     1.0\n",
       "27      10.33       4.92       1.30          1.0     1.0\n",
       "28       4.71       3.50       1.75          1.0     1.0\n",
       "29       2.28       3.28       3.05          1.0     0.0\n",
       "31      12.67       5.96       1.22          1.0     1.0\n",
       "32      15.33       6.83       1.17          1.0     1.0\n",
       "37       5.42       3.83       1.61          1.0     0.0\n",
       "40       1.74       3.64       4.66          1.0     0.0\n",
       "42       5.81       3.87       1.58          1.0     0.0\n",
       "43       3.62       3.42       1.97          1.0     0.0\n",
       "45       6.32       3.88       1.54          1.0     0.0\n",
       "50       3.93       3.31       1.96          1.0     1.0\n",
       "51       2.32       3.24       3.07          1.0     0.0"
      ]
     },
     "execution_count": 83,
     "metadata": {},
     "output_type": "execute_result"
    }
   ],
   "source": [
    "Betting_df = pd.DataFrame({'Home_Odds':test_home_odds,'Away_Odds':test_away_odds,'Draw_Odds': draw_odds,'Model_Preds':bet_preds,'Result': y_test.copy()})\n",
    "Betting_df = Betting_df.reset_index(drop=True)\n",
    "Betting_df[Betting_df['Model_Preds']==1][:25]"
   ]
  },
  {
   "cell_type": "code",
   "execution_count": 84,
   "metadata": {
    "collapsed": false
   },
   "outputs": [],
   "source": [
    "## Betting Analysis Function\n",
    "\n",
    "def BettingAnalysis(df,purse,bet):\n",
    "    initial_purse = purse\n",
    "    purse_track = []\n",
    "    for match in range(len(df)):\n",
    "        pred = df['Model_Preds'][match]\n",
    "        result = df['Result'][match]\n",
    "        home_odds = df['Home_Odds'][match]\n",
    "        away_odds = df['Away_Odds'][match]\n",
    "        draw_odds = df['Draw_Odds'][match]\n",
    "        if pred == 0:\n",
    "            continue\n",
    "        if pred == 1 and pred == result:\n",
    "            #if pred == 1:\n",
    "            #    win = round(bet*home_odds,2)-bet\n",
    "            #    purse += win\n",
    "            #if pred == -1: #simulate no bet\n",
    "            #    win = round(bet*away_odds,2)-bet\n",
    "            #    purse += win\n",
    "            #purse_track.append(purse)\n",
    "            if pred == 1:\n",
    "                win = round(bet*home_odds,2)-bet\n",
    "                assert win > 0\n",
    "                purse += win\n",
    "        else:\n",
    "            purse = purse - bet\n",
    "            purse_track.append(purse)\n",
    "    \n",
    "    if purse > initial_purse:\n",
    "        profit = purse-initial_purse\n",
    "        #return 'You profited ' +str(round(profit,2)) +'!'\n",
    "        return purse_track\n",
    "    if purse == initial_purse:\n",
    "        #return 'You broke even!'\n",
    "        return purse_track\n",
    "    if purse < initial_purse:\n",
    "        loss = purse-initial_purse\n",
    "        #return 'You lost ' + str(abs(round(loss,2))) + 'now you\\'re broke!'\n",
    "        return purse_track"
   ]
  },
  {
   "cell_type": "code",
   "execution_count": 85,
   "metadata": {
    "collapsed": false
   },
   "outputs": [],
   "source": [
    "purse_track = BettingAnalysis(Betting_df,100,5)"
   ]
  },
  {
   "cell_type": "code",
   "execution_count": 86,
   "metadata": {
    "collapsed": false
   },
   "outputs": [
    {
     "data": {
      "text/plain": [
       "<matplotlib.text.Text at 0x11d18dc50>"
      ]
     },
     "execution_count": 86,
     "metadata": {},
     "output_type": "execute_result"
    },
    {
     "data": {
      "image/png": "[encoded data removed]",
      "text/plain": [
       "<matplotlib.figure.Figure at 0x11d1649d0>"
      ]
     },
     "metadata": {},
     "output_type": "display_data"
    }
   ],
   "source": [
    "plt.plot(purse_track)\n",
    "plt.xlabel('Match Number')\n",
    "plt.ylabel('Betting Balance $')\n",
    "plt.title('Betting Algorithm Results')"
   ]
  }
 ],
 "metadata": {
  "anaconda-cloud": {},
  "kernelspec": {
   "display_name": "Python [conda root]",
   "language": "python",
   "name": "conda-root-py"
  },
  "language_info": {
   "codemirror_mode": {
    "name": "ipython",
    "version": 2
   },
   "file_extension": ".py",
   "mimetype": "text/x-python",
   "name": "python",
   "nbconvert_exporter": "python",
   "pygments_lexer": "ipython2",
   "version": "2.7.12"
  }
 },
 "nbformat": 4,
 "nbformat_minor": 1
}
